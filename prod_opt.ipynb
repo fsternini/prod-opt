{
  "nbformat": 4,
  "nbformat_minor": 0,
  "metadata": {
    "colab": {
      "provenance": [],
      "authorship_tag": "ABX9TyPXwXb0Pbyd3ifLrx6S+j6i",
      "include_colab_link": true
    },
    "kernelspec": {
      "name": "python3",
      "display_name": "Python 3"
    },
    "language_info": {
      "name": "python"
    }
  },
  "cells": [
    {
      "cell_type": "markdown",
      "metadata": {
        "id": "view-in-github",
        "colab_type": "text"
      },
      "source": [
        "<a href=\"https://colab.research.google.com/github/fsternini/prod-opt/blob/development/prod_opt.ipynb\" target=\"_parent\"><img src=\"https://colab.research.google.com/assets/colab-badge.svg\" alt=\"Open In Colab\"/></a>"
      ]
    },
    {
      "cell_type": "markdown",
      "source": [
        "#Intro"
      ],
      "metadata": {
        "id": "hd2kobEDVjQe"
      }
    },
    {
      "cell_type": "code",
      "execution_count": null,
      "metadata": {
        "colab": {
          "base_uri": "https://localhost:8080/"
        },
        "id": "oDrupgJTJpEk",
        "outputId": "3aa216ba-43b7-440e-f0f3-398e0736332b"
      },
      "outputs": [
        {
          "output_type": "stream",
          "name": "stdout",
          "text": [
            "/usr/local/bin/python\n",
            "Python 3.10.12\n"
          ]
        }
      ],
      "source": [
        "# First, verification of Python version is completed\n",
        "!which python # should return /usr/local/bin/python\n",
        "!python --version"
      ]
    },
    {
      "cell_type": "code",
      "source": [
        "\n",
        "!git clone 'https://github.com/fsternini/prod-opt.git'\n",
        "%cd 'prod-opt'\n",
        "# Switch to the most updated branch\n",
        "!git switch development\n",
        "# Collect the most updated version of the repo\n",
        "!git pull"
      ],
      "metadata": {
        "colab": {
          "base_uri": "https://localhost:8080/"
        },
        "id": "NhZ2CPT-JvFV",
        "outputId": "23b41846-4eb9-4fc2-a4c7-d150ead8e2bd"
      },
      "execution_count": null,
      "outputs": [
        {
          "output_type": "stream",
          "name": "stdout",
          "text": [
            "Cloning into 'prod-opt'...\n",
            "remote: Enumerating objects: 20, done.\u001b[K\n",
            "remote: Counting objects: 100% (20/20), done.\u001b[K\n",
            "remote: Compressing objects: 100% (17/17), done.\u001b[K\n",
            "remote: Total 20 (delta 5), reused 0 (delta 0), pack-reused 0\u001b[K\n",
            "Receiving objects: 100% (20/20), 130.79 KiB | 3.35 MiB/s, done.\n",
            "Resolving deltas: 100% (5/5), done.\n",
            "/content/prod-opt\n",
            "Branch 'development' set up to track remote branch 'development' from 'origin'.\n",
            "Switched to a new branch 'development'\n",
            "Already up to date.\n"
          ]
        }
      ]
    },
    {
      "cell_type": "code",
      "source": [
        "# Install all requirements for the code\n",
        "!pip install -r requirements.txt -q\n",
        "# Google Drive is mounted, to reach and save all relevant data\n",
        "from google.colab import drive\n",
        "import os\n",
        "import colab_env\n",
        "import pandas as pd\n",
        "from sklearn.svm import LinearSVC\n",
        "from sklearn.pipeline import make_pipeline\n",
        "from sklearn.preprocessing import StandardScaler\n",
        "from sklearn.metrics import precision_recall_fscore_support\n",
        "from sklearn.preprocessing import LabelEncoder\n",
        "import numpy as np\n",
        "from sklearn.model_selection import train_test_split\n",
        "from sklearn import svm\n",
        "from sklearn.model_selection import cross_val_score\n",
        "from imblearn.over_sampling import SMOTE\n",
        "import xgboost as xgb\n",
        "import matplotlib.pyplot as plt\n",
        "from sklearn.metrics import confusion_matrix, ConfusionMatrixDisplay\n",
        "\n",
        "\n",
        "drive.mount('/content/drive')\n",
        "dataset_path = os.environ['PROD_DATASET']"
      ],
      "metadata": {
        "colab": {
          "base_uri": "https://localhost:8080/"
        },
        "id": "XQz21-teJ2T_",
        "outputId": "eb008d37-4848-4141-aca8-e2641bcf4515"
      },
      "execution_count": null,
      "outputs": [
        {
          "output_type": "stream",
          "name": "stdout",
          "text": [
            "  Preparing metadata (setup.py) ... \u001b[?25l\u001b[?25hdone\n",
            "  Building wheel for colab-env (setup.py) ... \u001b[?25l\u001b[?25hdone\n",
            "Mounted at /content/gdrive\n",
            "Mounted at /content/drive\n"
          ]
        }
      ]
    },
    {
      "cell_type": "markdown",
      "source": [
        "#Data loading"
      ],
      "metadata": {
        "id": "bB_UoqHOVnFI"
      }
    },
    {
      "cell_type": "code",
      "source": [
        "df = pd.read_csv(dataset_path+\"/training_set_data_science.tsv\", delimiter=\"\\t\")"
      ],
      "metadata": {
        "id": "8CDIAoS_lQhE"
      },
      "execution_count": null,
      "outputs": []
    },
    {
      "cell_type": "markdown",
      "source": [
        "The number of samples is obtained for each class"
      ],
      "metadata": {
        "id": "RSeOH_yxfA-B"
      }
    },
    {
      "cell_type": "code",
      "source": [
        "df.groupby(\"class\").count()"
      ],
      "metadata": {
        "colab": {
          "base_uri": "https://localhost:8080/",
          "height": 204
        },
        "id": "2mrkkemel6Ao",
        "outputId": "4b9970e1-d1f9-4e73-e43a-8d616fc57d32"
      },
      "execution_count": null,
      "outputs": [
        {
          "output_type": "execute_result",
          "data": {
            "text/plain": [
              "         id  var_1  var_2  var_3  var_4  var_5  var_6  var_7  var_8  var_9  \\\n",
              "class                                                                        \n",
              "0.0     111    111    111    111    111    111    111    111    111    111   \n",
              "0.5      54     54     54     54     54     54     54     54     54     54   \n",
              "1.0    1284   1284   1284   1284   1284   1284   1284   1284   1284   1284   \n",
              "\n",
              "       ...  var_65  var_66  var_67  var_68  var_69  var_70  var_71  var_72  \\\n",
              "class  ...                                                                   \n",
              "0.0    ...     111     111     111     111     111     111     111     111   \n",
              "0.5    ...      54      54      54      54      54      54      54      54   \n",
              "1.0    ...    1284    1284    1284    1284    1284    1284    1284    1284   \n",
              "\n",
              "       var_73  var_74  \n",
              "class                  \n",
              "0.0       111     111  \n",
              "0.5        54      54  \n",
              "1.0      1284    1284  \n",
              "\n",
              "[3 rows x 75 columns]"
            ],
            "text/html": [
              "\n",
              "  <div id=\"df-cfb4e52d-b7fe-4f29-8a12-1b9e0ff2a5c0\" class=\"colab-df-container\">\n",
              "    <div>\n",
              "<style scoped>\n",
              "    .dataframe tbody tr th:only-of-type {\n",
              "        vertical-align: middle;\n",
              "    }\n",
              "\n",
              "    .dataframe tbody tr th {\n",
              "        vertical-align: top;\n",
              "    }\n",
              "\n",
              "    .dataframe thead th {\n",
              "        text-align: right;\n",
              "    }\n",
              "</style>\n",
              "<table border=\"1\" class=\"dataframe\">\n",
              "  <thead>\n",
              "    <tr style=\"text-align: right;\">\n",
              "      <th></th>\n",
              "      <th>id</th>\n",
              "      <th>var_1</th>\n",
              "      <th>var_2</th>\n",
              "      <th>var_3</th>\n",
              "      <th>var_4</th>\n",
              "      <th>var_5</th>\n",
              "      <th>var_6</th>\n",
              "      <th>var_7</th>\n",
              "      <th>var_8</th>\n",
              "      <th>var_9</th>\n",
              "      <th>...</th>\n",
              "      <th>var_65</th>\n",
              "      <th>var_66</th>\n",
              "      <th>var_67</th>\n",
              "      <th>var_68</th>\n",
              "      <th>var_69</th>\n",
              "      <th>var_70</th>\n",
              "      <th>var_71</th>\n",
              "      <th>var_72</th>\n",
              "      <th>var_73</th>\n",
              "      <th>var_74</th>\n",
              "    </tr>\n",
              "    <tr>\n",
              "      <th>class</th>\n",
              "      <th></th>\n",
              "      <th></th>\n",
              "      <th></th>\n",
              "      <th></th>\n",
              "      <th></th>\n",
              "      <th></th>\n",
              "      <th></th>\n",
              "      <th></th>\n",
              "      <th></th>\n",
              "      <th></th>\n",
              "      <th></th>\n",
              "      <th></th>\n",
              "      <th></th>\n",
              "      <th></th>\n",
              "      <th></th>\n",
              "      <th></th>\n",
              "      <th></th>\n",
              "      <th></th>\n",
              "      <th></th>\n",
              "      <th></th>\n",
              "      <th></th>\n",
              "    </tr>\n",
              "  </thead>\n",
              "  <tbody>\n",
              "    <tr>\n",
              "      <th>0.0</th>\n",
              "      <td>111</td>\n",
              "      <td>111</td>\n",
              "      <td>111</td>\n",
              "      <td>111</td>\n",
              "      <td>111</td>\n",
              "      <td>111</td>\n",
              "      <td>111</td>\n",
              "      <td>111</td>\n",
              "      <td>111</td>\n",
              "      <td>111</td>\n",
              "      <td>...</td>\n",
              "      <td>111</td>\n",
              "      <td>111</td>\n",
              "      <td>111</td>\n",
              "      <td>111</td>\n",
              "      <td>111</td>\n",
              "      <td>111</td>\n",
              "      <td>111</td>\n",
              "      <td>111</td>\n",
              "      <td>111</td>\n",
              "      <td>111</td>\n",
              "    </tr>\n",
              "    <tr>\n",
              "      <th>0.5</th>\n",
              "      <td>54</td>\n",
              "      <td>54</td>\n",
              "      <td>54</td>\n",
              "      <td>54</td>\n",
              "      <td>54</td>\n",
              "      <td>54</td>\n",
              "      <td>54</td>\n",
              "      <td>54</td>\n",
              "      <td>54</td>\n",
              "      <td>54</td>\n",
              "      <td>...</td>\n",
              "      <td>54</td>\n",
              "      <td>54</td>\n",
              "      <td>54</td>\n",
              "      <td>54</td>\n",
              "      <td>54</td>\n",
              "      <td>54</td>\n",
              "      <td>54</td>\n",
              "      <td>54</td>\n",
              "      <td>54</td>\n",
              "      <td>54</td>\n",
              "    </tr>\n",
              "    <tr>\n",
              "      <th>1.0</th>\n",
              "      <td>1284</td>\n",
              "      <td>1284</td>\n",
              "      <td>1284</td>\n",
              "      <td>1284</td>\n",
              "      <td>1284</td>\n",
              "      <td>1284</td>\n",
              "      <td>1284</td>\n",
              "      <td>1284</td>\n",
              "      <td>1284</td>\n",
              "      <td>1284</td>\n",
              "      <td>...</td>\n",
              "      <td>1284</td>\n",
              "      <td>1284</td>\n",
              "      <td>1284</td>\n",
              "      <td>1284</td>\n",
              "      <td>1284</td>\n",
              "      <td>1284</td>\n",
              "      <td>1284</td>\n",
              "      <td>1284</td>\n",
              "      <td>1284</td>\n",
              "      <td>1284</td>\n",
              "    </tr>\n",
              "  </tbody>\n",
              "</table>\n",
              "<p>3 rows × 75 columns</p>\n",
              "</div>\n",
              "    <div class=\"colab-df-buttons\">\n",
              "\n",
              "  <div class=\"colab-df-container\">\n",
              "    <button class=\"colab-df-convert\" onclick=\"convertToInteractive('df-cfb4e52d-b7fe-4f29-8a12-1b9e0ff2a5c0')\"\n",
              "            title=\"Convert this dataframe to an interactive table.\"\n",
              "            style=\"display:none;\">\n",
              "\n",
              "  <svg xmlns=\"http://www.w3.org/2000/svg\" height=\"24px\" viewBox=\"0 -960 960 960\">\n",
              "    <path d=\"M120-120v-720h720v720H120Zm60-500h600v-160H180v160Zm220 220h160v-160H400v160Zm0 220h160v-160H400v160ZM180-400h160v-160H180v160Zm440 0h160v-160H620v160ZM180-180h160v-160H180v160Zm440 0h160v-160H620v160Z\"/>\n",
              "  </svg>\n",
              "    </button>\n",
              "\n",
              "  <style>\n",
              "    .colab-df-container {\n",
              "      display:flex;\n",
              "      gap: 12px;\n",
              "    }\n",
              "\n",
              "    .colab-df-convert {\n",
              "      background-color: #E8F0FE;\n",
              "      border: none;\n",
              "      border-radius: 50%;\n",
              "      cursor: pointer;\n",
              "      display: none;\n",
              "      fill: #1967D2;\n",
              "      height: 32px;\n",
              "      padding: 0 0 0 0;\n",
              "      width: 32px;\n",
              "    }\n",
              "\n",
              "    .colab-df-convert:hover {\n",
              "      background-color: #E2EBFA;\n",
              "      box-shadow: 0px 1px 2px rgba(60, 64, 67, 0.3), 0px 1px 3px 1px rgba(60, 64, 67, 0.15);\n",
              "      fill: #174EA6;\n",
              "    }\n",
              "\n",
              "    .colab-df-buttons div {\n",
              "      margin-bottom: 4px;\n",
              "    }\n",
              "\n",
              "    [theme=dark] .colab-df-convert {\n",
              "      background-color: #3B4455;\n",
              "      fill: #D2E3FC;\n",
              "    }\n",
              "\n",
              "    [theme=dark] .colab-df-convert:hover {\n",
              "      background-color: #434B5C;\n",
              "      box-shadow: 0px 1px 3px 1px rgba(0, 0, 0, 0.15);\n",
              "      filter: drop-shadow(0px 1px 2px rgba(0, 0, 0, 0.3));\n",
              "      fill: #FFFFFF;\n",
              "    }\n",
              "  </style>\n",
              "\n",
              "    <script>\n",
              "      const buttonEl =\n",
              "        document.querySelector('#df-cfb4e52d-b7fe-4f29-8a12-1b9e0ff2a5c0 button.colab-df-convert');\n",
              "      buttonEl.style.display =\n",
              "        google.colab.kernel.accessAllowed ? 'block' : 'none';\n",
              "\n",
              "      async function convertToInteractive(key) {\n",
              "        const element = document.querySelector('#df-cfb4e52d-b7fe-4f29-8a12-1b9e0ff2a5c0');\n",
              "        const dataTable =\n",
              "          await google.colab.kernel.invokeFunction('convertToInteractive',\n",
              "                                                    [key], {});\n",
              "        if (!dataTable) return;\n",
              "\n",
              "        const docLinkHtml = 'Like what you see? Visit the ' +\n",
              "          '<a target=\"_blank\" href=https://colab.research.google.com/notebooks/data_table.ipynb>data table notebook</a>'\n",
              "          + ' to learn more about interactive tables.';\n",
              "        element.innerHTML = '';\n",
              "        dataTable['output_type'] = 'display_data';\n",
              "        await google.colab.output.renderOutput(dataTable, element);\n",
              "        const docLink = document.createElement('div');\n",
              "        docLink.innerHTML = docLinkHtml;\n",
              "        element.appendChild(docLink);\n",
              "      }\n",
              "    </script>\n",
              "  </div>\n",
              "\n",
              "\n",
              "<div id=\"df-ad098345-c5b2-4e75-92b2-5b1b4085463f\">\n",
              "  <button class=\"colab-df-quickchart\" onclick=\"quickchart('df-ad098345-c5b2-4e75-92b2-5b1b4085463f')\"\n",
              "            title=\"Suggest charts\"\n",
              "            style=\"display:none;\">\n",
              "\n",
              "<svg xmlns=\"http://www.w3.org/2000/svg\" height=\"24px\"viewBox=\"0 0 24 24\"\n",
              "     width=\"24px\">\n",
              "    <g>\n",
              "        <path d=\"M19 3H5c-1.1 0-2 .9-2 2v14c0 1.1.9 2 2 2h14c1.1 0 2-.9 2-2V5c0-1.1-.9-2-2-2zM9 17H7v-7h2v7zm4 0h-2V7h2v10zm4 0h-2v-4h2v4z\"/>\n",
              "    </g>\n",
              "</svg>\n",
              "  </button>\n",
              "\n",
              "<style>\n",
              "  .colab-df-quickchart {\n",
              "      --bg-color: #E8F0FE;\n",
              "      --fill-color: #1967D2;\n",
              "      --hover-bg-color: #E2EBFA;\n",
              "      --hover-fill-color: #174EA6;\n",
              "      --disabled-fill-color: #AAA;\n",
              "      --disabled-bg-color: #DDD;\n",
              "  }\n",
              "\n",
              "  [theme=dark] .colab-df-quickchart {\n",
              "      --bg-color: #3B4455;\n",
              "      --fill-color: #D2E3FC;\n",
              "      --hover-bg-color: #434B5C;\n",
              "      --hover-fill-color: #FFFFFF;\n",
              "      --disabled-bg-color: #3B4455;\n",
              "      --disabled-fill-color: #666;\n",
              "  }\n",
              "\n",
              "  .colab-df-quickchart {\n",
              "    background-color: var(--bg-color);\n",
              "    border: none;\n",
              "    border-radius: 50%;\n",
              "    cursor: pointer;\n",
              "    display: none;\n",
              "    fill: var(--fill-color);\n",
              "    height: 32px;\n",
              "    padding: 0;\n",
              "    width: 32px;\n",
              "  }\n",
              "\n",
              "  .colab-df-quickchart:hover {\n",
              "    background-color: var(--hover-bg-color);\n",
              "    box-shadow: 0 1px 2px rgba(60, 64, 67, 0.3), 0 1px 3px 1px rgba(60, 64, 67, 0.15);\n",
              "    fill: var(--button-hover-fill-color);\n",
              "  }\n",
              "\n",
              "  .colab-df-quickchart-complete:disabled,\n",
              "  .colab-df-quickchart-complete:disabled:hover {\n",
              "    background-color: var(--disabled-bg-color);\n",
              "    fill: var(--disabled-fill-color);\n",
              "    box-shadow: none;\n",
              "  }\n",
              "\n",
              "  .colab-df-spinner {\n",
              "    border: 2px solid var(--fill-color);\n",
              "    border-color: transparent;\n",
              "    border-bottom-color: var(--fill-color);\n",
              "    animation:\n",
              "      spin 1s steps(1) infinite;\n",
              "  }\n",
              "\n",
              "  @keyframes spin {\n",
              "    0% {\n",
              "      border-color: transparent;\n",
              "      border-bottom-color: var(--fill-color);\n",
              "      border-left-color: var(--fill-color);\n",
              "    }\n",
              "    20% {\n",
              "      border-color: transparent;\n",
              "      border-left-color: var(--fill-color);\n",
              "      border-top-color: var(--fill-color);\n",
              "    }\n",
              "    30% {\n",
              "      border-color: transparent;\n",
              "      border-left-color: var(--fill-color);\n",
              "      border-top-color: var(--fill-color);\n",
              "      border-right-color: var(--fill-color);\n",
              "    }\n",
              "    40% {\n",
              "      border-color: transparent;\n",
              "      border-right-color: var(--fill-color);\n",
              "      border-top-color: var(--fill-color);\n",
              "    }\n",
              "    60% {\n",
              "      border-color: transparent;\n",
              "      border-right-color: var(--fill-color);\n",
              "    }\n",
              "    80% {\n",
              "      border-color: transparent;\n",
              "      border-right-color: var(--fill-color);\n",
              "      border-bottom-color: var(--fill-color);\n",
              "    }\n",
              "    90% {\n",
              "      border-color: transparent;\n",
              "      border-bottom-color: var(--fill-color);\n",
              "    }\n",
              "  }\n",
              "</style>\n",
              "\n",
              "  <script>\n",
              "    async function quickchart(key) {\n",
              "      const quickchartButtonEl =\n",
              "        document.querySelector('#' + key + ' button');\n",
              "      quickchartButtonEl.disabled = true;  // To prevent multiple clicks.\n",
              "      quickchartButtonEl.classList.add('colab-df-spinner');\n",
              "      try {\n",
              "        const charts = await google.colab.kernel.invokeFunction(\n",
              "            'suggestCharts', [key], {});\n",
              "      } catch (error) {\n",
              "        console.error('Error during call to suggestCharts:', error);\n",
              "      }\n",
              "      quickchartButtonEl.classList.remove('colab-df-spinner');\n",
              "      quickchartButtonEl.classList.add('colab-df-quickchart-complete');\n",
              "    }\n",
              "    (() => {\n",
              "      let quickchartButtonEl =\n",
              "        document.querySelector('#df-ad098345-c5b2-4e75-92b2-5b1b4085463f button');\n",
              "      quickchartButtonEl.style.display =\n",
              "        google.colab.kernel.accessAllowed ? 'block' : 'none';\n",
              "    })();\n",
              "  </script>\n",
              "</div>\n",
              "    </div>\n",
              "  </div>\n"
            ]
          },
          "metadata": {},
          "execution_count": 5
        }
      ]
    },
    {
      "cell_type": "markdown",
      "source": [
        "The dataset is highly imbalanced; therefore, some solutions to manage problems with underrepresented classes should be considered."
      ],
      "metadata": {
        "id": "yT_D8Ai3fGKM"
      }
    },
    {
      "cell_type": "code",
      "source": [
        "df.isnull().sum().unique()"
      ],
      "metadata": {
        "colab": {
          "base_uri": "https://localhost:8080/"
        },
        "id": "JCKanX9qoLqo",
        "outputId": "bd8413bc-b6a3-4575-b426-d2867b1b953e"
      },
      "execution_count": null,
      "outputs": [
        {
          "output_type": "execute_result",
          "data": {
            "text/plain": [
              "array([0])"
            ]
          },
          "metadata": {},
          "execution_count": 6
        }
      ]
    },
    {
      "cell_type": "markdown",
      "source": [
        "No missing values are found in the dataset. No further actions for the missing value problem are required"
      ],
      "metadata": {
        "id": "J0AK7VrPfOlY"
      }
    },
    {
      "cell_type": "code",
      "source": [
        "for i in df.columns:\n",
        "  print(df[i].dtypes)"
      ],
      "metadata": {
        "id": "KsblXpStfXsg",
        "outputId": "0a4a0f11-4d34-46f9-c267-a1d624c78d1f",
        "colab": {
          "base_uri": "https://localhost:8080/"
        }
      },
      "execution_count": null,
      "outputs": [
        {
          "output_type": "stream",
          "name": "stdout",
          "text": [
            "float64\n",
            "int64\n",
            "float64\n",
            "float64\n",
            "float64\n",
            "float64\n",
            "int64\n",
            "int64\n",
            "float64\n",
            "float64\n",
            "float64\n",
            "float64\n",
            "float64\n",
            "int64\n",
            "int64\n",
            "float64\n",
            "float64\n",
            "float64\n",
            "float64\n",
            "float64\n",
            "int64\n",
            "int64\n",
            "float64\n",
            "float64\n",
            "float64\n",
            "float64\n",
            "float64\n",
            "int64\n",
            "int64\n",
            "int64\n",
            "float64\n",
            "float64\n",
            "float64\n",
            "float64\n",
            "int64\n",
            "int64\n",
            "float64\n",
            "float64\n",
            "float64\n",
            "float64\n",
            "float64\n",
            "int64\n",
            "int64\n",
            "float64\n",
            "float64\n",
            "float64\n",
            "float64\n",
            "float64\n",
            "int64\n",
            "int64\n",
            "float64\n",
            "int64\n",
            "int64\n",
            "float64\n",
            "int64\n",
            "int64\n",
            "int64\n",
            "float64\n",
            "int64\n",
            "int64\n",
            "int64\n",
            "int64\n",
            "float64\n",
            "int64\n",
            "int64\n",
            "int64\n",
            "float64\n",
            "int64\n",
            "int64\n",
            "float64\n",
            "float64\n",
            "int64\n",
            "float64\n",
            "float64\n",
            "float64\n",
            "float64\n"
          ]
        }
      ]
    },
    {
      "cell_type": "markdown",
      "source": [
        "All the variables to be considered are numerical"
      ],
      "metadata": {
        "id": "giPP8MQJfW5J"
      }
    },
    {
      "cell_type": "code",
      "source": [
        "df['class']=df[\"class\"].replace({0:\"fail\",0.5:\"low\",1.0:\"success\"})"
      ],
      "metadata": {
        "id": "6uvFfCfQ5lDA"
      },
      "execution_count": null,
      "outputs": []
    },
    {
      "cell_type": "code",
      "source": [
        "df.groupby(\"class\").count()"
      ],
      "metadata": {
        "colab": {
          "base_uri": "https://localhost:8080/",
          "height": 204
        },
        "id": "oXxJ38Ws6Pcd",
        "outputId": "5077de69-87fa-4f75-f5bc-06a52469fa5a"
      },
      "execution_count": null,
      "outputs": [
        {
          "output_type": "execute_result",
          "data": {
            "text/plain": [
              "           id  var_1  var_2  var_3  var_4  var_5  var_6  var_7  var_8  var_9  \\\n",
              "class                                                                          \n",
              "fail      111    111    111    111    111    111    111    111    111    111   \n",
              "low        54     54     54     54     54     54     54     54     54     54   \n",
              "success  1284   1284   1284   1284   1284   1284   1284   1284   1284   1284   \n",
              "\n",
              "         ...  var_65  var_66  var_67  var_68  var_69  var_70  var_71  var_72  \\\n",
              "class    ...                                                                   \n",
              "fail     ...     111     111     111     111     111     111     111     111   \n",
              "low      ...      54      54      54      54      54      54      54      54   \n",
              "success  ...    1284    1284    1284    1284    1284    1284    1284    1284   \n",
              "\n",
              "         var_73  var_74  \n",
              "class                    \n",
              "fail        111     111  \n",
              "low          54      54  \n",
              "success    1284    1284  \n",
              "\n",
              "[3 rows x 75 columns]"
            ],
            "text/html": [
              "\n",
              "  <div id=\"df-d568dbed-c1de-4e62-a104-e1540993c9c4\" class=\"colab-df-container\">\n",
              "    <div>\n",
              "<style scoped>\n",
              "    .dataframe tbody tr th:only-of-type {\n",
              "        vertical-align: middle;\n",
              "    }\n",
              "\n",
              "    .dataframe tbody tr th {\n",
              "        vertical-align: top;\n",
              "    }\n",
              "\n",
              "    .dataframe thead th {\n",
              "        text-align: right;\n",
              "    }\n",
              "</style>\n",
              "<table border=\"1\" class=\"dataframe\">\n",
              "  <thead>\n",
              "    <tr style=\"text-align: right;\">\n",
              "      <th></th>\n",
              "      <th>id</th>\n",
              "      <th>var_1</th>\n",
              "      <th>var_2</th>\n",
              "      <th>var_3</th>\n",
              "      <th>var_4</th>\n",
              "      <th>var_5</th>\n",
              "      <th>var_6</th>\n",
              "      <th>var_7</th>\n",
              "      <th>var_8</th>\n",
              "      <th>var_9</th>\n",
              "      <th>...</th>\n",
              "      <th>var_65</th>\n",
              "      <th>var_66</th>\n",
              "      <th>var_67</th>\n",
              "      <th>var_68</th>\n",
              "      <th>var_69</th>\n",
              "      <th>var_70</th>\n",
              "      <th>var_71</th>\n",
              "      <th>var_72</th>\n",
              "      <th>var_73</th>\n",
              "      <th>var_74</th>\n",
              "    </tr>\n",
              "    <tr>\n",
              "      <th>class</th>\n",
              "      <th></th>\n",
              "      <th></th>\n",
              "      <th></th>\n",
              "      <th></th>\n",
              "      <th></th>\n",
              "      <th></th>\n",
              "      <th></th>\n",
              "      <th></th>\n",
              "      <th></th>\n",
              "      <th></th>\n",
              "      <th></th>\n",
              "      <th></th>\n",
              "      <th></th>\n",
              "      <th></th>\n",
              "      <th></th>\n",
              "      <th></th>\n",
              "      <th></th>\n",
              "      <th></th>\n",
              "      <th></th>\n",
              "      <th></th>\n",
              "      <th></th>\n",
              "    </tr>\n",
              "  </thead>\n",
              "  <tbody>\n",
              "    <tr>\n",
              "      <th>fail</th>\n",
              "      <td>111</td>\n",
              "      <td>111</td>\n",
              "      <td>111</td>\n",
              "      <td>111</td>\n",
              "      <td>111</td>\n",
              "      <td>111</td>\n",
              "      <td>111</td>\n",
              "      <td>111</td>\n",
              "      <td>111</td>\n",
              "      <td>111</td>\n",
              "      <td>...</td>\n",
              "      <td>111</td>\n",
              "      <td>111</td>\n",
              "      <td>111</td>\n",
              "      <td>111</td>\n",
              "      <td>111</td>\n",
              "      <td>111</td>\n",
              "      <td>111</td>\n",
              "      <td>111</td>\n",
              "      <td>111</td>\n",
              "      <td>111</td>\n",
              "    </tr>\n",
              "    <tr>\n",
              "      <th>low</th>\n",
              "      <td>54</td>\n",
              "      <td>54</td>\n",
              "      <td>54</td>\n",
              "      <td>54</td>\n",
              "      <td>54</td>\n",
              "      <td>54</td>\n",
              "      <td>54</td>\n",
              "      <td>54</td>\n",
              "      <td>54</td>\n",
              "      <td>54</td>\n",
              "      <td>...</td>\n",
              "      <td>54</td>\n",
              "      <td>54</td>\n",
              "      <td>54</td>\n",
              "      <td>54</td>\n",
              "      <td>54</td>\n",
              "      <td>54</td>\n",
              "      <td>54</td>\n",
              "      <td>54</td>\n",
              "      <td>54</td>\n",
              "      <td>54</td>\n",
              "    </tr>\n",
              "    <tr>\n",
              "      <th>success</th>\n",
              "      <td>1284</td>\n",
              "      <td>1284</td>\n",
              "      <td>1284</td>\n",
              "      <td>1284</td>\n",
              "      <td>1284</td>\n",
              "      <td>1284</td>\n",
              "      <td>1284</td>\n",
              "      <td>1284</td>\n",
              "      <td>1284</td>\n",
              "      <td>1284</td>\n",
              "      <td>...</td>\n",
              "      <td>1284</td>\n",
              "      <td>1284</td>\n",
              "      <td>1284</td>\n",
              "      <td>1284</td>\n",
              "      <td>1284</td>\n",
              "      <td>1284</td>\n",
              "      <td>1284</td>\n",
              "      <td>1284</td>\n",
              "      <td>1284</td>\n",
              "      <td>1284</td>\n",
              "    </tr>\n",
              "  </tbody>\n",
              "</table>\n",
              "<p>3 rows × 75 columns</p>\n",
              "</div>\n",
              "    <div class=\"colab-df-buttons\">\n",
              "\n",
              "  <div class=\"colab-df-container\">\n",
              "    <button class=\"colab-df-convert\" onclick=\"convertToInteractive('df-d568dbed-c1de-4e62-a104-e1540993c9c4')\"\n",
              "            title=\"Convert this dataframe to an interactive table.\"\n",
              "            style=\"display:none;\">\n",
              "\n",
              "  <svg xmlns=\"http://www.w3.org/2000/svg\" height=\"24px\" viewBox=\"0 -960 960 960\">\n",
              "    <path d=\"M120-120v-720h720v720H120Zm60-500h600v-160H180v160Zm220 220h160v-160H400v160Zm0 220h160v-160H400v160ZM180-400h160v-160H180v160Zm440 0h160v-160H620v160ZM180-180h160v-160H180v160Zm440 0h160v-160H620v160Z\"/>\n",
              "  </svg>\n",
              "    </button>\n",
              "\n",
              "  <style>\n",
              "    .colab-df-container {\n",
              "      display:flex;\n",
              "      gap: 12px;\n",
              "    }\n",
              "\n",
              "    .colab-df-convert {\n",
              "      background-color: #E8F0FE;\n",
              "      border: none;\n",
              "      border-radius: 50%;\n",
              "      cursor: pointer;\n",
              "      display: none;\n",
              "      fill: #1967D2;\n",
              "      height: 32px;\n",
              "      padding: 0 0 0 0;\n",
              "      width: 32px;\n",
              "    }\n",
              "\n",
              "    .colab-df-convert:hover {\n",
              "      background-color: #E2EBFA;\n",
              "      box-shadow: 0px 1px 2px rgba(60, 64, 67, 0.3), 0px 1px 3px 1px rgba(60, 64, 67, 0.15);\n",
              "      fill: #174EA6;\n",
              "    }\n",
              "\n",
              "    .colab-df-buttons div {\n",
              "      margin-bottom: 4px;\n",
              "    }\n",
              "\n",
              "    [theme=dark] .colab-df-convert {\n",
              "      background-color: #3B4455;\n",
              "      fill: #D2E3FC;\n",
              "    }\n",
              "\n",
              "    [theme=dark] .colab-df-convert:hover {\n",
              "      background-color: #434B5C;\n",
              "      box-shadow: 0px 1px 3px 1px rgba(0, 0, 0, 0.15);\n",
              "      filter: drop-shadow(0px 1px 2px rgba(0, 0, 0, 0.3));\n",
              "      fill: #FFFFFF;\n",
              "    }\n",
              "  </style>\n",
              "\n",
              "    <script>\n",
              "      const buttonEl =\n",
              "        document.querySelector('#df-d568dbed-c1de-4e62-a104-e1540993c9c4 button.colab-df-convert');\n",
              "      buttonEl.style.display =\n",
              "        google.colab.kernel.accessAllowed ? 'block' : 'none';\n",
              "\n",
              "      async function convertToInteractive(key) {\n",
              "        const element = document.querySelector('#df-d568dbed-c1de-4e62-a104-e1540993c9c4');\n",
              "        const dataTable =\n",
              "          await google.colab.kernel.invokeFunction('convertToInteractive',\n",
              "                                                    [key], {});\n",
              "        if (!dataTable) return;\n",
              "\n",
              "        const docLinkHtml = 'Like what you see? Visit the ' +\n",
              "          '<a target=\"_blank\" href=https://colab.research.google.com/notebooks/data_table.ipynb>data table notebook</a>'\n",
              "          + ' to learn more about interactive tables.';\n",
              "        element.innerHTML = '';\n",
              "        dataTable['output_type'] = 'display_data';\n",
              "        await google.colab.output.renderOutput(dataTable, element);\n",
              "        const docLink = document.createElement('div');\n",
              "        docLink.innerHTML = docLinkHtml;\n",
              "        element.appendChild(docLink);\n",
              "      }\n",
              "    </script>\n",
              "  </div>\n",
              "\n",
              "\n",
              "<div id=\"df-918dbafb-3e54-4454-a7d1-96ac95e733e4\">\n",
              "  <button class=\"colab-df-quickchart\" onclick=\"quickchart('df-918dbafb-3e54-4454-a7d1-96ac95e733e4')\"\n",
              "            title=\"Suggest charts\"\n",
              "            style=\"display:none;\">\n",
              "\n",
              "<svg xmlns=\"http://www.w3.org/2000/svg\" height=\"24px\"viewBox=\"0 0 24 24\"\n",
              "     width=\"24px\">\n",
              "    <g>\n",
              "        <path d=\"M19 3H5c-1.1 0-2 .9-2 2v14c0 1.1.9 2 2 2h14c1.1 0 2-.9 2-2V5c0-1.1-.9-2-2-2zM9 17H7v-7h2v7zm4 0h-2V7h2v10zm4 0h-2v-4h2v4z\"/>\n",
              "    </g>\n",
              "</svg>\n",
              "  </button>\n",
              "\n",
              "<style>\n",
              "  .colab-df-quickchart {\n",
              "      --bg-color: #E8F0FE;\n",
              "      --fill-color: #1967D2;\n",
              "      --hover-bg-color: #E2EBFA;\n",
              "      --hover-fill-color: #174EA6;\n",
              "      --disabled-fill-color: #AAA;\n",
              "      --disabled-bg-color: #DDD;\n",
              "  }\n",
              "\n",
              "  [theme=dark] .colab-df-quickchart {\n",
              "      --bg-color: #3B4455;\n",
              "      --fill-color: #D2E3FC;\n",
              "      --hover-bg-color: #434B5C;\n",
              "      --hover-fill-color: #FFFFFF;\n",
              "      --disabled-bg-color: #3B4455;\n",
              "      --disabled-fill-color: #666;\n",
              "  }\n",
              "\n",
              "  .colab-df-quickchart {\n",
              "    background-color: var(--bg-color);\n",
              "    border: none;\n",
              "    border-radius: 50%;\n",
              "    cursor: pointer;\n",
              "    display: none;\n",
              "    fill: var(--fill-color);\n",
              "    height: 32px;\n",
              "    padding: 0;\n",
              "    width: 32px;\n",
              "  }\n",
              "\n",
              "  .colab-df-quickchart:hover {\n",
              "    background-color: var(--hover-bg-color);\n",
              "    box-shadow: 0 1px 2px rgba(60, 64, 67, 0.3), 0 1px 3px 1px rgba(60, 64, 67, 0.15);\n",
              "    fill: var(--button-hover-fill-color);\n",
              "  }\n",
              "\n",
              "  .colab-df-quickchart-complete:disabled,\n",
              "  .colab-df-quickchart-complete:disabled:hover {\n",
              "    background-color: var(--disabled-bg-color);\n",
              "    fill: var(--disabled-fill-color);\n",
              "    box-shadow: none;\n",
              "  }\n",
              "\n",
              "  .colab-df-spinner {\n",
              "    border: 2px solid var(--fill-color);\n",
              "    border-color: transparent;\n",
              "    border-bottom-color: var(--fill-color);\n",
              "    animation:\n",
              "      spin 1s steps(1) infinite;\n",
              "  }\n",
              "\n",
              "  @keyframes spin {\n",
              "    0% {\n",
              "      border-color: transparent;\n",
              "      border-bottom-color: var(--fill-color);\n",
              "      border-left-color: var(--fill-color);\n",
              "    }\n",
              "    20% {\n",
              "      border-color: transparent;\n",
              "      border-left-color: var(--fill-color);\n",
              "      border-top-color: var(--fill-color);\n",
              "    }\n",
              "    30% {\n",
              "      border-color: transparent;\n",
              "      border-left-color: var(--fill-color);\n",
              "      border-top-color: var(--fill-color);\n",
              "      border-right-color: var(--fill-color);\n",
              "    }\n",
              "    40% {\n",
              "      border-color: transparent;\n",
              "      border-right-color: var(--fill-color);\n",
              "      border-top-color: var(--fill-color);\n",
              "    }\n",
              "    60% {\n",
              "      border-color: transparent;\n",
              "      border-right-color: var(--fill-color);\n",
              "    }\n",
              "    80% {\n",
              "      border-color: transparent;\n",
              "      border-right-color: var(--fill-color);\n",
              "      border-bottom-color: var(--fill-color);\n",
              "    }\n",
              "    90% {\n",
              "      border-color: transparent;\n",
              "      border-bottom-color: var(--fill-color);\n",
              "    }\n",
              "  }\n",
              "</style>\n",
              "\n",
              "  <script>\n",
              "    async function quickchart(key) {\n",
              "      const quickchartButtonEl =\n",
              "        document.querySelector('#' + key + ' button');\n",
              "      quickchartButtonEl.disabled = true;  // To prevent multiple clicks.\n",
              "      quickchartButtonEl.classList.add('colab-df-spinner');\n",
              "      try {\n",
              "        const charts = await google.colab.kernel.invokeFunction(\n",
              "            'suggestCharts', [key], {});\n",
              "      } catch (error) {\n",
              "        console.error('Error during call to suggestCharts:', error);\n",
              "      }\n",
              "      quickchartButtonEl.classList.remove('colab-df-spinner');\n",
              "      quickchartButtonEl.classList.add('colab-df-quickchart-complete');\n",
              "    }\n",
              "    (() => {\n",
              "      let quickchartButtonEl =\n",
              "        document.querySelector('#df-918dbafb-3e54-4454-a7d1-96ac95e733e4 button');\n",
              "      quickchartButtonEl.style.display =\n",
              "        google.colab.kernel.accessAllowed ? 'block' : 'none';\n",
              "    })();\n",
              "  </script>\n",
              "</div>\n",
              "    </div>\n",
              "  </div>\n"
            ]
          },
          "metadata": {},
          "execution_count": 9
        }
      ]
    },
    {
      "cell_type": "code",
      "source": [
        "df.head()\n",
        "X=np.array(df.drop([\"class\",\"id\"],axis=1))"
      ],
      "metadata": {
        "id": "TE2vrJU03qES"
      },
      "execution_count": null,
      "outputs": []
    },
    {
      "cell_type": "code",
      "source": [
        "y = np.array(df[\"class\"])"
      ],
      "metadata": {
        "id": "MyLLTbWT4OVB"
      },
      "execution_count": null,
      "outputs": []
    },
    {
      "cell_type": "markdown",
      "source": [
        "#1st iteration\n"
      ],
      "metadata": {
        "id": "OmX2VlOEVr-9"
      }
    },
    {
      "cell_type": "markdown",
      "source": [
        "First, a set of classifiers are trained using all the classes in the dataset."
      ],
      "metadata": {
        "id": "w_ikaf9aJu4H"
      }
    },
    {
      "cell_type": "markdown",
      "source": [
        "The k-fold technique is used to identify the most promising and robust technique before using test production data (the test dataset provided)"
      ],
      "metadata": {
        "id": "u0e-_QeoEGwp"
      }
    },
    {
      "cell_type": "code",
      "source": [
        "from sklearn.model_selection import StratifiedKFold\n",
        "skf = StratifiedKFold(n_splits=5)\n",
        "skf.get_n_splits(X, y)\n",
        "print(skf)"
      ],
      "metadata": {
        "id": "cqhqhSgd4Ud5",
        "colab": {
          "base_uri": "https://localhost:8080/"
        },
        "outputId": "95468811-bf2d-4eb9-c01f-ecb427e265e9"
      },
      "execution_count": null,
      "outputs": [
        {
          "output_type": "stream",
          "name": "stdout",
          "text": [
            "StratifiedKFold(n_splits=5, random_state=None, shuffle=False)\n"
          ]
        }
      ]
    },
    {
      "cell_type": "markdown",
      "source": [
        "##Linear SVM"
      ],
      "metadata": {
        "id": "brBof762q1iw"
      }
    },
    {
      "cell_type": "markdown",
      "source": [
        "Considering the high number of variables, the first choice is to use SVM, as it can linearly separate high-dimensional data."
      ],
      "metadata": {
        "id": "Exktkjl_EQh3"
      }
    },
    {
      "cell_type": "code",
      "source": [
        "clf = make_pipeline(StandardScaler(), LinearSVC(dual=False,\n",
        "                                                random_state=0, tol=1e-5))\n",
        "labels = [\"success\",\"low\",\"fail\"]\n",
        "results={\"SVM\":{}}\n",
        "cm=np.zeros((5,len(labels),len(labels)))\n",
        "for i, (train_index, test_index) in enumerate(skf.split(X, y)):\n",
        "  x_train = X[train_index]\n",
        "  y_train = y[train_index]\n",
        "  x_test = X[test_index]\n",
        "  y_test = y[test_index]\n",
        "  clf.fit(x_train, y_train)\n",
        "  y_pred = clf.predict(x_test)\n",
        "  precision, recall, fscore, support = precision_recall_fscore_support(y_test,y_pred, labels=labels)\n",
        "  fold = \"Fold_\"+str(i)\n",
        "  results[\"SVM\"][fold]={}\n",
        "  for j in range(len(labels)):\n",
        "    results[\"SVM\"][fold][labels[j]] = {\"Precision\":precision[j],\n",
        "                          \"Recall\":recall[j],\n",
        "                          \"FScore\":fscore[j],\n",
        "                          \"Support\":support[j]\n",
        "                                }\n",
        "  cm[i]=confusion_matrix(y_test, y_pred, labels=labels)\n",
        "\n",
        "cm=np.average(cm,axis=0)\n",
        "disp = ConfusionMatrixDisplay(confusion_matrix=cm, display_labels=labels)\n",
        "disp.plot()\n",
        "plt.show()\n",
        "print(results)"
      ],
      "metadata": {
        "colab": {
          "base_uri": "https://localhost:8080/",
          "height": 525
        },
        "id": "z7YMmeGfRUVi",
        "outputId": "0d39acdb-c6b8-441b-d82b-d387297d7a8a"
      },
      "execution_count": null,
      "outputs": [
        {
          "output_type": "stream",
          "name": "stderr",
          "text": [
            "/usr/local/lib/python3.10/dist-packages/sklearn/metrics/_classification.py:1344: UndefinedMetricWarning: Precision and F-score are ill-defined and being set to 0.0 in labels with no predicted samples. Use `zero_division` parameter to control this behavior.\n",
            "  _warn_prf(average, modifier, msg_start, len(result))\n"
          ]
        },
        {
          "output_type": "display_data",
          "data": {
            "text/plain": [
              "<Figure size 640x480 with 2 Axes>"
            ],
            "image/png": "[encoded data removed]"
          },
          "metadata": {}
        },
        {
          "output_type": "stream",
          "name": "stdout",
          "text": [
            "{'SVM': {'Fold_0': {'success': {'Precision': 0.9296296296296296, 'Recall': 0.9766536964980544, 'FScore': 0.9525616698292219, 'Support': 257}, 'low': {'Precision': 0.0, 'Recall': 0.0, 'FScore': 0.0, 'Support': 11}, 'fail': {'Precision': 0.6875, 'Recall': 0.5, 'FScore': 0.5789473684210527, 'Support': 22}}, 'Fold_1': {'success': {'Precision': 0.9609375, 'Recall': 0.9571984435797666, 'FScore': 0.9590643274853801, 'Support': 257}, 'low': {'Precision': 0.3333333333333333, 'Recall': 0.2727272727272727, 'FScore': 0.3, 'Support': 11}, 'fail': {'Precision': 0.64, 'Recall': 0.7272727272727273, 'FScore': 0.6808510638297872, 'Support': 22}}, 'Fold_2': {'success': {'Precision': 0.933579335793358, 'Recall': 0.9844357976653697, 'FScore': 0.9583333333333334, 'Support': 257}, 'low': {'Precision': 0.0, 'Recall': 0.0, 'FScore': 0.0, 'Support': 11}, 'fail': {'Precision': 0.631578947368421, 'Recall': 0.5454545454545454, 'FScore': 0.5853658536585366, 'Support': 22}}, 'Fold_3': {'success': {'Precision': 0.9233576642335767, 'Recall': 0.9844357976653697, 'FScore': 0.9529190207156308, 'Support': 257}, 'low': {'Precision': 0.0, 'Recall': 0.0, 'FScore': 0.0, 'Support': 11}, 'fail': {'Precision': 0.8, 'Recall': 0.5454545454545454, 'FScore': 0.6486486486486486, 'Support': 22}}, 'Fold_4': {'success': {'Precision': 0.9440298507462687, 'Recall': 0.98828125, 'FScore': 0.9656488549618321, 'Support': 256}, 'low': {'Precision': 0.5, 'Recall': 0.1, 'FScore': 0.16666666666666669, 'Support': 10}, 'fail': {'Precision': 0.6842105263157895, 'Recall': 0.5652173913043478, 'FScore': 0.6190476190476191, 'Support': 23}}}}\n"
          ]
        }
      ]
    },
    {
      "cell_type": "markdown",
      "source": [
        "Considering the need to reduce false positives to reduce the impact on the production, the Recall in the fail class shall be considered a priority. Therefore, this metric is further analysed to compare the algorithms."
      ],
      "metadata": {
        "id": "BSaQvM6uFCsQ"
      }
    },
    {
      "cell_type": "code",
      "source": [
        "recalls={\"SVM\":[]}\n",
        "for key in results[\"SVM\"]:\n",
        "  recalls[\"SVM\"].append(results[\"SVM\"][key][\"fail\"][\"Recall\"])"
      ],
      "metadata": {
        "id": "-psAAeuJAkAS"
      },
      "execution_count": null,
      "outputs": []
    },
    {
      "cell_type": "markdown",
      "source": [
        "##Linear SVM and SMOTE"
      ],
      "metadata": {
        "id": "21SPYB9qq5M0"
      }
    },
    {
      "cell_type": "markdown",
      "source": [
        "The SMOTE technique is tested to improve the performance of the classification of underrepresented categories."
      ],
      "metadata": {
        "id": "373jWOREFtGz"
      }
    },
    {
      "cell_type": "code",
      "source": [
        "resampler = SMOTE(sampling_strategy=\"not majority\", random_state=42)"
      ],
      "metadata": {
        "id": "EaPiUbwHU-tk"
      },
      "execution_count": null,
      "outputs": []
    },
    {
      "cell_type": "code",
      "source": [
        "clf = make_pipeline(StandardScaler(), LinearSVC(dual=False,\n",
        "                                                random_state=0, tol=1e-5))\n",
        "results[\"SVM_RES\"]={}\n",
        "cm=np.zeros((5,len(labels),len(labels)))\n",
        "for i, (train_index, test_index) in enumerate(skf.split(X, y)):\n",
        "  x_train = X[train_index]\n",
        "  y_train = y[train_index]\n",
        "  x_test = X[test_index]\n",
        "  y_test = y[test_index]\n",
        "  x_res, y_res = resampler.fit_resample(x_train,y_train)\n",
        "  clf.fit(x_res, y_res)\n",
        "  y_pred = clf.predict(x_test)\n",
        "  precision, recall, fscore, support = precision_recall_fscore_support(y_test,y_pred, labels=labels)\n",
        "  fold = \"Fold_\"+str(i)\n",
        "  results[\"SVM_RES\"][fold]={}\n",
        "  for j in range(len(labels)):\n",
        "    results[\"SVM_RES\"][fold][labels[j]] = {\"Precision\":precision[j],\n",
        "                          \"Recall\":recall[j],\n",
        "                          \"FScore\":fscore[j],\n",
        "                          \"Support\":support[j]\n",
        "                                }\n",
        "  cm[i]=confusion_matrix(y_test, y_pred, labels=labels)\n",
        "\n",
        "cm=np.average(cm,axis=0)\n",
        "disp = ConfusionMatrixDisplay(confusion_matrix=cm, display_labels=labels)\n",
        "disp.plot()\n",
        "plt.show()\n",
        "print(results)\n",
        "recalls[\"SVM_RES\"]=[]\n",
        "for key in results[\"SVM_RES\"]:\n",
        "  recalls[\"SVM_RES\"].append(results[\"SVM_RES\"][key][\"fail\"][\"Recall\"])"
      ],
      "metadata": {
        "colab": {
          "base_uri": "https://localhost:8080/",
          "height": 486
        },
        "id": "2UBeoCGGWj50",
        "outputId": "d0753397-2e3b-497c-e7e5-262a6b770ec9"
      },
      "execution_count": null,
      "outputs": [
        {
          "output_type": "display_data",
          "data": {
            "text/plain": [
              "<Figure size 640x480 with 2 Axes>"
            ],
            "image/png": "[encoded data removed]"
          },
          "metadata": {}
        },
        {
          "output_type": "stream",
          "name": "stdout",
          "text": [
            "{'SVM': {'Fold_0': {'success': {'Precision': 0.9296296296296296, 'Recall': 0.9766536964980544, 'FScore': 0.9525616698292219, 'Support': 257}, 'low': {'Precision': 0.0, 'Recall': 0.0, 'FScore': 0.0, 'Support': 11}, 'fail': {'Precision': 0.6875, 'Recall': 0.5, 'FScore': 0.5789473684210527, 'Support': 22}}, 'Fold_1': {'success': {'Precision': 0.9609375, 'Recall': 0.9571984435797666, 'FScore': 0.9590643274853801, 'Support': 257}, 'low': {'Precision': 0.3333333333333333, 'Recall': 0.2727272727272727, 'FScore': 0.3, 'Support': 11}, 'fail': {'Precision': 0.64, 'Recall': 0.7272727272727273, 'FScore': 0.6808510638297872, 'Support': 22}}, 'Fold_2': {'success': {'Precision': 0.933579335793358, 'Recall': 0.9844357976653697, 'FScore': 0.9583333333333334, 'Support': 257}, 'low': {'Precision': 0.0, 'Recall': 0.0, 'FScore': 0.0, 'Support': 11}, 'fail': {'Precision': 0.631578947368421, 'Recall': 0.5454545454545454, 'FScore': 0.5853658536585366, 'Support': 22}}, 'Fold_3': {'success': {'Precision': 0.9233576642335767, 'Recall': 0.9844357976653697, 'FScore': 0.9529190207156308, 'Support': 257}, 'low': {'Precision': 0.0, 'Recall': 0.0, 'FScore': 0.0, 'Support': 11}, 'fail': {'Precision': 0.8, 'Recall': 0.5454545454545454, 'FScore': 0.6486486486486486, 'Support': 22}}, 'Fold_4': {'success': {'Precision': 0.9440298507462687, 'Recall': 0.98828125, 'FScore': 0.9656488549618321, 'Support': 256}, 'low': {'Precision': 0.5, 'Recall': 0.1, 'FScore': 0.16666666666666669, 'Support': 10}, 'fail': {'Precision': 0.6842105263157895, 'Recall': 0.5652173913043478, 'FScore': 0.6190476190476191, 'Support': 23}}}, 'SVM_RES': {'Fold_0': {'success': {'Precision': 0.9437229437229437, 'Recall': 0.8482490272373541, 'FScore': 0.8934426229508198, 'Support': 257}, 'low': {'Precision': 0.03125, 'Recall': 0.09090909090909091, 'FScore': 0.046511627906976744, 'Support': 11}, 'fail': {'Precision': 0.48148148148148145, 'Recall': 0.5909090909090909, 'FScore': 0.5306122448979591, 'Support': 22}}, 'Fold_1': {'success': {'Precision': 0.9730941704035875, 'Recall': 0.8443579766536965, 'FScore': 0.9041666666666667, 'Support': 257}, 'low': {'Precision': 0.11428571428571428, 'Recall': 0.36363636363636365, 'FScore': 0.17391304347826086, 'Support': 11}, 'fail': {'Precision': 0.53125, 'Recall': 0.7727272727272727, 'FScore': 0.6296296296296297, 'Support': 22}}, 'Fold_2': {'success': {'Precision': 0.9774774774774775, 'Recall': 0.8443579766536965, 'FScore': 0.906054279749478, 'Support': 257}, 'low': {'Precision': 0.11764705882352941, 'Recall': 0.36363636363636365, 'FScore': 0.17777777777777776, 'Support': 11}, 'fail': {'Precision': 0.5294117647058824, 'Recall': 0.8181818181818182, 'FScore': 0.6428571428571428, 'Support': 22}}, 'Fold_3': {'success': {'Precision': 0.9642857142857143, 'Recall': 0.8404669260700389, 'FScore': 0.8981288981288982, 'Support': 257}, 'low': {'Precision': 0.15789473684210525, 'Recall': 0.5454545454545454, 'FScore': 0.24489795918367344, 'Support': 11}, 'fail': {'Precision': 0.5714285714285714, 'Recall': 0.7272727272727273, 'FScore': 0.64, 'Support': 22}}, 'Fold_4': {'success': {'Precision': 0.9557522123893806, 'Recall': 0.84375, 'FScore': 0.8962655601659751, 'Support': 256}, 'low': {'Precision': 0.03225806451612903, 'Recall': 0.1, 'FScore': 0.04878048780487805, 'Support': 10}, 'fail': {'Precision': 0.53125, 'Recall': 0.7391304347826086, 'FScore': 0.6181818181818182, 'Support': 23}}}}\n"
          ]
        }
      ]
    },
    {
      "cell_type": "markdown",
      "source": [
        "##XGB"
      ],
      "metadata": {
        "id": "av88oTyNq_hH"
      }
    },
    {
      "cell_type": "markdown",
      "source": [
        "The third trial is related to adopting Extreme Gradient Boosting algorithms, which are highly efficient in classification."
      ],
      "metadata": {
        "id": "OqsCLQBBgYDe"
      }
    },
    {
      "cell_type": "code",
      "source": [
        "label_encoder = LabelEncoder()\n",
        "label_encoder = label_encoder.fit(y)\n",
        "y_enc = label_encoder.transform(y)\n",
        "\n",
        "model = xgb.XGBClassifier(early_stopping_rounds=2)\n",
        "clf_xgb = make_pipeline(model)\n",
        "results[\"XGB\"]={}\n",
        "cm=np.zeros((5,len(labels),len(labels)))\n",
        "for i, (train_index, test_index) in enumerate(skf.split(X, y_enc)):\n",
        "  x_train = X[train_index]\n",
        "  y_train = y_enc[train_index]\n",
        "  x_test = X[test_index]\n",
        "  y_test = y_enc[test_index]\n",
        "  x_train, x_eval, y_train, y_eval = train_test_split(x_train, y_train, test_size=0.2, random_state=42)\n",
        "  clf_xgb.fit(x_train, y_train, xgbclassifier__eval_set=[(x_eval, y_eval)])\n",
        "  y_pred = clf_xgb.predict(x_test)\n",
        "  y_pred = label_encoder.inverse_transform(y_pred)\n",
        "  y_test = label_encoder.inverse_transform(y_test)\n",
        "  precision, recall, fscore, support = precision_recall_fscore_support(y_test,y_pred, labels=labels)\n",
        "  fold = \"Fold_\"+str(i)\n",
        "  results[\"XGB\"][fold]={}\n",
        "  for j in range(len(labels)):\n",
        "    results[\"XGB\"][fold][labels[j]] = {\"Precision\":precision[j],\n",
        "                          \"Recall\":recall[j],\n",
        "                          \"FScore\":fscore[j],\n",
        "                          \"Support\":support[j]\n",
        "                                }\n",
        "  cm[i]=confusion_matrix(y_test, y_pred, labels=labels)\n",
        "\n",
        "cm=np.average(cm,axis=0)\n",
        "disp = ConfusionMatrixDisplay(confusion_matrix=cm, display_labels=labels)\n",
        "disp.plot()\n",
        "plt.show()\n",
        "print(results)\n",
        "recalls[\"XGB\"]=[]\n",
        "for key in results[\"XGB\"]:\n",
        "  recalls[\"XGB\"].append(results[\"XGB\"][key][\"fail\"][\"Recall\"])"
      ],
      "metadata": {
        "colab": {
          "base_uri": "https://localhost:8080/",
          "height": 1000
        },
        "id": "8l0BRrpR3Utw",
        "outputId": "4045cd9e-e6b8-418d-97a8-a08f09a4a578"
      },
      "execution_count": null,
      "outputs": [
        {
          "output_type": "stream",
          "name": "stdout",
          "text": [
            "[0]\tvalidation_0-mlogloss:0.77556\n",
            "[1]\tvalidation_0-mlogloss:0.59619\n",
            "[2]\tvalidation_0-mlogloss:0.48230\n",
            "[3]\tvalidation_0-mlogloss:0.41241\n",
            "[4]\tvalidation_0-mlogloss:0.36631\n",
            "[5]\tvalidation_0-mlogloss:0.33391\n",
            "[6]\tvalidation_0-mlogloss:0.31433\n",
            "[7]\tvalidation_0-mlogloss:0.30306\n",
            "[8]\tvalidation_0-mlogloss:0.29794\n",
            "[9]\tvalidation_0-mlogloss:0.29335\n",
            "[10]\tvalidation_0-mlogloss:0.29257\n",
            "[11]\tvalidation_0-mlogloss:0.29345\n",
            "[12]\tvalidation_0-mlogloss:0.29395\n",
            "[0]\tvalidation_0-mlogloss:0.77435\n",
            "[1]\tvalidation_0-mlogloss:0.59808\n",
            "[2]\tvalidation_0-mlogloss:0.48636\n",
            "[3]\tvalidation_0-mlogloss:0.41127\n",
            "[4]\tvalidation_0-mlogloss:0.35544\n",
            "[5]\tvalidation_0-mlogloss:0.32075\n",
            "[6]\tvalidation_0-mlogloss:0.29739\n",
            "[7]\tvalidation_0-mlogloss:0.28142\n",
            "[8]\tvalidation_0-mlogloss:0.27031\n",
            "[9]\tvalidation_0-mlogloss:0.26631\n",
            "[10]\tvalidation_0-mlogloss:0.26489\n",
            "[11]\tvalidation_0-mlogloss:0.26469\n",
            "[12]\tvalidation_0-mlogloss:0.26514\n",
            "[0]\tvalidation_0-mlogloss:0.77171\n",
            "[1]\tvalidation_0-mlogloss:0.58660\n",
            "[2]\tvalidation_0-mlogloss:0.47221\n",
            "[3]\tvalidation_0-mlogloss:0.39878\n",
            "[4]\tvalidation_0-mlogloss:0.34778\n",
            "[5]\tvalidation_0-mlogloss:0.31211\n",
            "[6]\tvalidation_0-mlogloss:0.28960\n",
            "[7]\tvalidation_0-mlogloss:0.27718\n",
            "[8]\tvalidation_0-mlogloss:0.27242\n",
            "[9]\tvalidation_0-mlogloss:0.26878\n",
            "[10]\tvalidation_0-mlogloss:0.26403\n",
            "[11]\tvalidation_0-mlogloss:0.26389\n",
            "[12]\tvalidation_0-mlogloss:0.26989\n",
            "[0]\tvalidation_0-mlogloss:0.77153\n",
            "[1]\tvalidation_0-mlogloss:0.59346\n",
            "[2]\tvalidation_0-mlogloss:0.47501\n",
            "[3]\tvalidation_0-mlogloss:0.39245\n",
            "[4]\tvalidation_0-mlogloss:0.33789\n",
            "[5]\tvalidation_0-mlogloss:0.29683\n",
            "[6]\tvalidation_0-mlogloss:0.26939\n",
            "[7]\tvalidation_0-mlogloss:0.25030\n",
            "[8]\tvalidation_0-mlogloss:0.23845\n",
            "[9]\tvalidation_0-mlogloss:0.23003\n",
            "[10]\tvalidation_0-mlogloss:0.22512\n",
            "[11]\tvalidation_0-mlogloss:0.22542\n",
            "[12]\tvalidation_0-mlogloss:0.22323\n",
            "[13]\tvalidation_0-mlogloss:0.22633\n",
            "[0]\tvalidation_0-mlogloss:0.76634\n",
            "[1]\tvalidation_0-mlogloss:0.57601\n",
            "[2]\tvalidation_0-mlogloss:0.45536\n",
            "[3]\tvalidation_0-mlogloss:0.37402\n",
            "[4]\tvalidation_0-mlogloss:0.31602\n",
            "[5]\tvalidation_0-mlogloss:0.27427\n",
            "[6]\tvalidation_0-mlogloss:0.24426\n",
            "[7]\tvalidation_0-mlogloss:0.22468\n",
            "[8]\tvalidation_0-mlogloss:0.20733\n",
            "[9]\tvalidation_0-mlogloss:0.20032\n",
            "[10]\tvalidation_0-mlogloss:0.19192\n",
            "[11]\tvalidation_0-mlogloss:0.18931\n",
            "[12]\tvalidation_0-mlogloss:0.18742\n",
            "[13]\tvalidation_0-mlogloss:0.18612\n",
            "[14]\tvalidation_0-mlogloss:0.18653\n",
            "[15]\tvalidation_0-mlogloss:0.18253\n",
            "[16]\tvalidation_0-mlogloss:0.18157\n",
            "[17]\tvalidation_0-mlogloss:0.18336\n",
            "[18]\tvalidation_0-mlogloss:0.18463\n"
          ]
        },
        {
          "output_type": "display_data",
          "data": {
            "text/plain": [
              "<Figure size 640x480 with 2 Axes>"
            ],
            "image/png": "[encoded data removed]"
          },
          "metadata": {}
        },
        {
          "output_type": "stream",
          "name": "stdout",
          "text": [
            "{'SVM': {'Fold_0': {'success': {'Precision': 0.9296296296296296, 'Recall': 0.9766536964980544, 'FScore': 0.9525616698292219, 'Support': 257}, 'low': {'Precision': 0.0, 'Recall': 0.0, 'FScore': 0.0, 'Support': 11}, 'fail': {'Precision': 0.6875, 'Recall': 0.5, 'FScore': 0.5789473684210527, 'Support': 22}}, 'Fold_1': {'success': {'Precision': 0.9609375, 'Recall': 0.9571984435797666, 'FScore': 0.9590643274853801, 'Support': 257}, 'low': {'Precision': 0.3333333333333333, 'Recall': 0.2727272727272727, 'FScore': 0.3, 'Support': 11}, 'fail': {'Precision': 0.64, 'Recall': 0.7272727272727273, 'FScore': 0.6808510638297872, 'Support': 22}}, 'Fold_2': {'success': {'Precision': 0.933579335793358, 'Recall': 0.9844357976653697, 'FScore': 0.9583333333333334, 'Support': 257}, 'low': {'Precision': 0.0, 'Recall': 0.0, 'FScore': 0.0, 'Support': 11}, 'fail': {'Precision': 0.631578947368421, 'Recall': 0.5454545454545454, 'FScore': 0.5853658536585366, 'Support': 22}}, 'Fold_3': {'success': {'Precision': 0.9233576642335767, 'Recall': 0.9844357976653697, 'FScore': 0.9529190207156308, 'Support': 257}, 'low': {'Precision': 0.0, 'Recall': 0.0, 'FScore': 0.0, 'Support': 11}, 'fail': {'Precision': 0.8, 'Recall': 0.5454545454545454, 'FScore': 0.6486486486486486, 'Support': 22}}, 'Fold_4': {'success': {'Precision': 0.9440298507462687, 'Recall': 0.98828125, 'FScore': 0.9656488549618321, 'Support': 256}, 'low': {'Precision': 0.5, 'Recall': 0.1, 'FScore': 0.16666666666666669, 'Support': 10}, 'fail': {'Precision': 0.6842105263157895, 'Recall': 0.5652173913043478, 'FScore': 0.6190476190476191, 'Support': 23}}}, 'SVM_RES': {'Fold_0': {'success': {'Precision': 0.9437229437229437, 'Recall': 0.8482490272373541, 'FScore': 0.8934426229508198, 'Support': 257}, 'low': {'Precision': 0.03125, 'Recall': 0.09090909090909091, 'FScore': 0.046511627906976744, 'Support': 11}, 'fail': {'Precision': 0.48148148148148145, 'Recall': 0.5909090909090909, 'FScore': 0.5306122448979591, 'Support': 22}}, 'Fold_1': {'success': {'Precision': 0.9730941704035875, 'Recall': 0.8443579766536965, 'FScore': 0.9041666666666667, 'Support': 257}, 'low': {'Precision': 0.11428571428571428, 'Recall': 0.36363636363636365, 'FScore': 0.17391304347826086, 'Support': 11}, 'fail': {'Precision': 0.53125, 'Recall': 0.7727272727272727, 'FScore': 0.6296296296296297, 'Support': 22}}, 'Fold_2': {'success': {'Precision': 0.9774774774774775, 'Recall': 0.8443579766536965, 'FScore': 0.906054279749478, 'Support': 257}, 'low': {'Precision': 0.11764705882352941, 'Recall': 0.36363636363636365, 'FScore': 0.17777777777777776, 'Support': 11}, 'fail': {'Precision': 0.5294117647058824, 'Recall': 0.8181818181818182, 'FScore': 0.6428571428571428, 'Support': 22}}, 'Fold_3': {'success': {'Precision': 0.9642857142857143, 'Recall': 0.8404669260700389, 'FScore': 0.8981288981288982, 'Support': 257}, 'low': {'Precision': 0.15789473684210525, 'Recall': 0.5454545454545454, 'FScore': 0.24489795918367344, 'Support': 11}, 'fail': {'Precision': 0.5714285714285714, 'Recall': 0.7272727272727273, 'FScore': 0.64, 'Support': 22}}, 'Fold_4': {'success': {'Precision': 0.9557522123893806, 'Recall': 0.84375, 'FScore': 0.8962655601659751, 'Support': 256}, 'low': {'Precision': 0.03225806451612903, 'Recall': 0.1, 'FScore': 0.04878048780487805, 'Support': 10}, 'fail': {'Precision': 0.53125, 'Recall': 0.7391304347826086, 'FScore': 0.6181818181818182, 'Support': 23}}}, 'XGB': {'Fold_0': {'success': {'Precision': 0.9365671641791045, 'Recall': 0.9766536964980544, 'FScore': 0.9561904761904763, 'Support': 257}, 'low': {'Precision': 0.0, 'Recall': 0.0, 'FScore': 0.0, 'Support': 11}, 'fail': {'Precision': 0.75, 'Recall': 0.5454545454545454, 'FScore': 0.631578947368421, 'Support': 22}}, 'Fold_1': {'success': {'Precision': 0.9580152671755725, 'Recall': 0.9766536964980544, 'FScore': 0.9672447013487475, 'Support': 257}, 'low': {'Precision': 0.25, 'Recall': 0.09090909090909091, 'FScore': 0.13333333333333333, 'Support': 11}, 'fail': {'Precision': 0.625, 'Recall': 0.6818181818181818, 'FScore': 0.6521739130434783, 'Support': 22}}, 'Fold_2': {'success': {'Precision': 0.9411764705882353, 'Recall': 0.9961089494163424, 'FScore': 0.9678638941398866, 'Support': 257}, 'low': {'Precision': 0.5, 'Recall': 0.09090909090909091, 'FScore': 0.15384615384615385, 'Support': 11}, 'fail': {'Precision': 0.8125, 'Recall': 0.5909090909090909, 'FScore': 0.6842105263157896, 'Support': 22}}, 'Fold_3': {'success': {'Precision': 0.937037037037037, 'Recall': 0.9844357976653697, 'FScore': 0.9601518026565464, 'Support': 257}, 'low': {'Precision': 0.5, 'Recall': 0.18181818181818182, 'FScore': 0.26666666666666666, 'Support': 11}, 'fail': {'Precision': 0.875, 'Recall': 0.6363636363636364, 'FScore': 0.7368421052631579, 'Support': 22}}, 'Fold_4': {'success': {'Precision': 0.9619771863117871, 'Recall': 0.98828125, 'FScore': 0.9749518304431599, 'Support': 256}, 'low': {'Precision': 0.5, 'Recall': 0.1, 'FScore': 0.16666666666666669, 'Support': 10}, 'fail': {'Precision': 0.75, 'Recall': 0.782608695652174, 'FScore': 0.7659574468085107, 'Support': 23}}}}\n"
          ]
        }
      ]
    },
    {
      "cell_type": "markdown",
      "source": [
        "##XGB and SMOTE"
      ],
      "metadata": {
        "id": "qWoNjwstrUj4"
      }
    },
    {
      "cell_type": "markdown",
      "source": [
        "First, it is tried without resampling, then with resampling strategies."
      ],
      "metadata": {
        "id": "orC7cYReg4O4"
      }
    },
    {
      "cell_type": "code",
      "source": [
        "\n",
        "from sklearn.preprocessing import LabelEncoder\n",
        "label_encoder = LabelEncoder()\n",
        "label_encoder = label_encoder.fit(y)\n",
        "y_enc = label_encoder.transform(y)\n",
        "\n",
        "model = xgb.XGBClassifier(early_stopping_rounds=2)\n",
        "clf_xgb = make_pipeline(model)\n",
        "\n",
        "results[\"XGB_res\"]={}\n",
        "cm=np.zeros((5,len(labels),len(labels)))\n",
        "for i, (train_index, test_index) in enumerate(skf.split(X, y_enc)):\n",
        "  x_train = X[train_index]\n",
        "  y_train = y_enc[train_index]\n",
        "  x_test = X[test_index]\n",
        "  y_test = y_enc[test_index]\n",
        "  x_train, x_eval, y_train, y_eval = train_test_split(x_train, y_train, test_size=0.2, random_state=42)\n",
        "  x_res, y_res = resampler.fit_resample(x_train,y_train)\n",
        "  clf_xgb.fit(x_res, y_res, xgbclassifier__eval_set=[(x_eval, y_eval)])\n",
        "  y_pred = clf_xgb.predict(x_test)\n",
        "  y_pred = label_encoder.inverse_transform(y_pred)\n",
        "  y_test = label_encoder.inverse_transform(y_test)\n",
        "  precision, recall, fscore, support = precision_recall_fscore_support(y_test,y_pred, labels=labels)\n",
        "  fold = \"Fold_\"+str(i)\n",
        "  results[\"XGB_res\"][fold]={}\n",
        "  for j in range(len(labels)):\n",
        "    results[\"XGB_res\"][fold][labels[j]] = {\"Precision\":precision[j],\n",
        "                          \"Recall\":recall[j],\n",
        "                          \"FScore\":fscore[j],\n",
        "                          \"Support\":support[j]\n",
        "                                }\n",
        "  cm[i]=confusion_matrix(y_test, y_pred, labels=labels)\n",
        "\n",
        "cm=np.average(cm,axis=0)\n",
        "disp = ConfusionMatrixDisplay(confusion_matrix=cm, display_labels=labels)\n",
        "disp.plot()\n",
        "plt.show()\n",
        "print(results)\n",
        "recalls[\"XGB_res\"]=[]\n",
        "for key in results[\"XGB_res\"]:\n",
        "  recalls[\"XGB_res\"].append(results[\"XGB_res\"][key][\"fail\"][\"Recall\"])"
      ],
      "metadata": {
        "colab": {
          "base_uri": "https://localhost:8080/",
          "height": 1000
        },
        "id": "U0gatkL48OGE",
        "outputId": "2108c47c-2bc0-444b-841d-eb19bb3ec044"
      },
      "execution_count": null,
      "outputs": [
        {
          "output_type": "stream",
          "name": "stdout",
          "text": [
            "[0]\tvalidation_0-mlogloss:0.78497\n",
            "[1]\tvalidation_0-mlogloss:0.60479\n",
            "[2]\tvalidation_0-mlogloss:0.49284\n",
            "[3]\tvalidation_0-mlogloss:0.41934\n",
            "[4]\tvalidation_0-mlogloss:0.37168\n",
            "[5]\tvalidation_0-mlogloss:0.33936\n",
            "[6]\tvalidation_0-mlogloss:0.31674\n",
            "[7]\tvalidation_0-mlogloss:0.29874\n",
            "[8]\tvalidation_0-mlogloss:0.28643\n",
            "[9]\tvalidation_0-mlogloss:0.28240\n",
            "[10]\tvalidation_0-mlogloss:0.27902\n",
            "[11]\tvalidation_0-mlogloss:0.27803\n",
            "[12]\tvalidation_0-mlogloss:0.27726\n",
            "[13]\tvalidation_0-mlogloss:0.27753\n",
            "[0]\tvalidation_0-mlogloss:0.79908\n",
            "[1]\tvalidation_0-mlogloss:0.62061\n",
            "[2]\tvalidation_0-mlogloss:0.50246\n",
            "[3]\tvalidation_0-mlogloss:0.41939\n",
            "[4]\tvalidation_0-mlogloss:0.35935\n",
            "[5]\tvalidation_0-mlogloss:0.31900\n",
            "[6]\tvalidation_0-mlogloss:0.29269\n",
            "[7]\tvalidation_0-mlogloss:0.27490\n",
            "[8]\tvalidation_0-mlogloss:0.25994\n",
            "[9]\tvalidation_0-mlogloss:0.25274\n",
            "[10]\tvalidation_0-mlogloss:0.24593\n",
            "[11]\tvalidation_0-mlogloss:0.24428\n",
            "[12]\tvalidation_0-mlogloss:0.24303\n",
            "[13]\tvalidation_0-mlogloss:0.24204\n",
            "[14]\tvalidation_0-mlogloss:0.24396\n",
            "[15]\tvalidation_0-mlogloss:0.24644\n",
            "[0]\tvalidation_0-mlogloss:0.78869\n",
            "[1]\tvalidation_0-mlogloss:0.61082\n",
            "[2]\tvalidation_0-mlogloss:0.49658\n",
            "[3]\tvalidation_0-mlogloss:0.42016\n",
            "[4]\tvalidation_0-mlogloss:0.37129\n",
            "[5]\tvalidation_0-mlogloss:0.33221\n",
            "[6]\tvalidation_0-mlogloss:0.30373\n",
            "[7]\tvalidation_0-mlogloss:0.29123\n",
            "[8]\tvalidation_0-mlogloss:0.27756\n",
            "[9]\tvalidation_0-mlogloss:0.27191\n",
            "[10]\tvalidation_0-mlogloss:0.26795\n",
            "[11]\tvalidation_0-mlogloss:0.26940\n",
            "[0]\tvalidation_0-mlogloss:0.81772\n",
            "[1]\tvalidation_0-mlogloss:0.62647\n",
            "[2]\tvalidation_0-mlogloss:0.50347\n",
            "[3]\tvalidation_0-mlogloss:0.42159\n",
            "[4]\tvalidation_0-mlogloss:0.36273\n",
            "[5]\tvalidation_0-mlogloss:0.31644\n",
            "[6]\tvalidation_0-mlogloss:0.29112\n",
            "[7]\tvalidation_0-mlogloss:0.26676\n",
            "[8]\tvalidation_0-mlogloss:0.24739\n",
            "[9]\tvalidation_0-mlogloss:0.23754\n",
            "[10]\tvalidation_0-mlogloss:0.22963\n",
            "[11]\tvalidation_0-mlogloss:0.22462\n",
            "[12]\tvalidation_0-mlogloss:0.21992\n",
            "[13]\tvalidation_0-mlogloss:0.21999\n",
            "[14]\tvalidation_0-mlogloss:0.21808\n",
            "[15]\tvalidation_0-mlogloss:0.21877\n",
            "[16]\tvalidation_0-mlogloss:0.22121\n",
            "[0]\tvalidation_0-mlogloss:0.81483\n",
            "[1]\tvalidation_0-mlogloss:0.63689\n",
            "[2]\tvalidation_0-mlogloss:0.51880\n",
            "[3]\tvalidation_0-mlogloss:0.44048\n",
            "[4]\tvalidation_0-mlogloss:0.38131\n",
            "[5]\tvalidation_0-mlogloss:0.33753\n",
            "[6]\tvalidation_0-mlogloss:0.30208\n",
            "[7]\tvalidation_0-mlogloss:0.28132\n",
            "[8]\tvalidation_0-mlogloss:0.26771\n",
            "[9]\tvalidation_0-mlogloss:0.25804\n",
            "[10]\tvalidation_0-mlogloss:0.25057\n",
            "[11]\tvalidation_0-mlogloss:0.24054\n",
            "[12]\tvalidation_0-mlogloss:0.23278\n",
            "[13]\tvalidation_0-mlogloss:0.22359\n",
            "[14]\tvalidation_0-mlogloss:0.22091\n",
            "[15]\tvalidation_0-mlogloss:0.21548\n",
            "[16]\tvalidation_0-mlogloss:0.21367\n",
            "[17]\tvalidation_0-mlogloss:0.21218\n",
            "[18]\tvalidation_0-mlogloss:0.21195\n",
            "[19]\tvalidation_0-mlogloss:0.21006\n",
            "[20]\tvalidation_0-mlogloss:0.20935\n",
            "[21]\tvalidation_0-mlogloss:0.20741\n",
            "[22]\tvalidation_0-mlogloss:0.20920\n",
            "[23]\tvalidation_0-mlogloss:0.21036\n"
          ]
        },
        {
          "output_type": "display_data",
          "data": {
            "text/plain": [
              "<Figure size 640x480 with 2 Axes>"
            ],
            "image/png": "[encoded data removed]"
          },
          "metadata": {}
        },
        {
          "output_type": "stream",
          "name": "stdout",
          "text": [
            "{'SVM': {'Fold_0': {'success': {'Precision': 0.9296296296296296, 'Recall': 0.9766536964980544, 'FScore': 0.9525616698292219, 'Support': 257}, 'low': {'Precision': 0.0, 'Recall': 0.0, 'FScore': 0.0, 'Support': 11}, 'fail': {'Precision': 0.6875, 'Recall': 0.5, 'FScore': 0.5789473684210527, 'Support': 22}}, 'Fold_1': {'success': {'Precision': 0.9609375, 'Recall': 0.9571984435797666, 'FScore': 0.9590643274853801, 'Support': 257}, 'low': {'Precision': 0.3333333333333333, 'Recall': 0.2727272727272727, 'FScore': 0.3, 'Support': 11}, 'fail': {'Precision': 0.64, 'Recall': 0.7272727272727273, 'FScore': 0.6808510638297872, 'Support': 22}}, 'Fold_2': {'success': {'Precision': 0.933579335793358, 'Recall': 0.9844357976653697, 'FScore': 0.9583333333333334, 'Support': 257}, 'low': {'Precision': 0.0, 'Recall': 0.0, 'FScore': 0.0, 'Support': 11}, 'fail': {'Precision': 0.631578947368421, 'Recall': 0.5454545454545454, 'FScore': 0.5853658536585366, 'Support': 22}}, 'Fold_3': {'success': {'Precision': 0.9233576642335767, 'Recall': 0.9844357976653697, 'FScore': 0.9529190207156308, 'Support': 257}, 'low': {'Precision': 0.0, 'Recall': 0.0, 'FScore': 0.0, 'Support': 11}, 'fail': {'Precision': 0.8, 'Recall': 0.5454545454545454, 'FScore': 0.6486486486486486, 'Support': 22}}, 'Fold_4': {'success': {'Precision': 0.9440298507462687, 'Recall': 0.98828125, 'FScore': 0.9656488549618321, 'Support': 256}, 'low': {'Precision': 0.5, 'Recall': 0.1, 'FScore': 0.16666666666666669, 'Support': 10}, 'fail': {'Precision': 0.6842105263157895, 'Recall': 0.5652173913043478, 'FScore': 0.6190476190476191, 'Support': 23}}}, 'SVM_RES': {'Fold_0': {'success': {'Precision': 0.9437229437229437, 'Recall': 0.8482490272373541, 'FScore': 0.8934426229508198, 'Support': 257}, 'low': {'Precision': 0.03125, 'Recall': 0.09090909090909091, 'FScore': 0.046511627906976744, 'Support': 11}, 'fail': {'Precision': 0.48148148148148145, 'Recall': 0.5909090909090909, 'FScore': 0.5306122448979591, 'Support': 22}}, 'Fold_1': {'success': {'Precision': 0.9730941704035875, 'Recall': 0.8443579766536965, 'FScore': 0.9041666666666667, 'Support': 257}, 'low': {'Precision': 0.11428571428571428, 'Recall': 0.36363636363636365, 'FScore': 0.17391304347826086, 'Support': 11}, 'fail': {'Precision': 0.53125, 'Recall': 0.7727272727272727, 'FScore': 0.6296296296296297, 'Support': 22}}, 'Fold_2': {'success': {'Precision': 0.9774774774774775, 'Recall': 0.8443579766536965, 'FScore': 0.906054279749478, 'Support': 257}, 'low': {'Precision': 0.11764705882352941, 'Recall': 0.36363636363636365, 'FScore': 0.17777777777777776, 'Support': 11}, 'fail': {'Precision': 0.5294117647058824, 'Recall': 0.8181818181818182, 'FScore': 0.6428571428571428, 'Support': 22}}, 'Fold_3': {'success': {'Precision': 0.9642857142857143, 'Recall': 0.8404669260700389, 'FScore': 0.8981288981288982, 'Support': 257}, 'low': {'Precision': 0.15789473684210525, 'Recall': 0.5454545454545454, 'FScore': 0.24489795918367344, 'Support': 11}, 'fail': {'Precision': 0.5714285714285714, 'Recall': 0.7272727272727273, 'FScore': 0.64, 'Support': 22}}, 'Fold_4': {'success': {'Precision': 0.9557522123893806, 'Recall': 0.84375, 'FScore': 0.8962655601659751, 'Support': 256}, 'low': {'Precision': 0.03225806451612903, 'Recall': 0.1, 'FScore': 0.04878048780487805, 'Support': 10}, 'fail': {'Precision': 0.53125, 'Recall': 0.7391304347826086, 'FScore': 0.6181818181818182, 'Support': 23}}}, 'XGB': {'Fold_0': {'success': {'Precision': 0.9365671641791045, 'Recall': 0.9766536964980544, 'FScore': 0.9561904761904763, 'Support': 257}, 'low': {'Precision': 0.0, 'Recall': 0.0, 'FScore': 0.0, 'Support': 11}, 'fail': {'Precision': 0.75, 'Recall': 0.5454545454545454, 'FScore': 0.631578947368421, 'Support': 22}}, 'Fold_1': {'success': {'Precision': 0.9580152671755725, 'Recall': 0.9766536964980544, 'FScore': 0.9672447013487475, 'Support': 257}, 'low': {'Precision': 0.25, 'Recall': 0.09090909090909091, 'FScore': 0.13333333333333333, 'Support': 11}, 'fail': {'Precision': 0.625, 'Recall': 0.6818181818181818, 'FScore': 0.6521739130434783, 'Support': 22}}, 'Fold_2': {'success': {'Precision': 0.9411764705882353, 'Recall': 0.9961089494163424, 'FScore': 0.9678638941398866, 'Support': 257}, 'low': {'Precision': 0.5, 'Recall': 0.09090909090909091, 'FScore': 0.15384615384615385, 'Support': 11}, 'fail': {'Precision': 0.8125, 'Recall': 0.5909090909090909, 'FScore': 0.6842105263157896, 'Support': 22}}, 'Fold_3': {'success': {'Precision': 0.937037037037037, 'Recall': 0.9844357976653697, 'FScore': 0.9601518026565464, 'Support': 257}, 'low': {'Precision': 0.5, 'Recall': 0.18181818181818182, 'FScore': 0.26666666666666666, 'Support': 11}, 'fail': {'Precision': 0.875, 'Recall': 0.6363636363636364, 'FScore': 0.7368421052631579, 'Support': 22}}, 'Fold_4': {'success': {'Precision': 0.9619771863117871, 'Recall': 0.98828125, 'FScore': 0.9749518304431599, 'Support': 256}, 'low': {'Precision': 0.5, 'Recall': 0.1, 'FScore': 0.16666666666666669, 'Support': 10}, 'fail': {'Precision': 0.75, 'Recall': 0.782608695652174, 'FScore': 0.7659574468085107, 'Support': 23}}}, 'XGB_res': {'Fold_0': {'success': {'Precision': 0.9386973180076629, 'Recall': 0.953307392996109, 'FScore': 0.945945945945946, 'Support': 257}, 'low': {'Precision': 0.0, 'Recall': 0.0, 'FScore': 0.0, 'Support': 11}, 'fail': {'Precision': 0.6956521739130435, 'Recall': 0.7272727272727273, 'FScore': 0.711111111111111, 'Support': 22}}, 'Fold_1': {'success': {'Precision': 0.9651162790697675, 'Recall': 0.9688715953307393, 'FScore': 0.9669902912621359, 'Support': 257}, 'low': {'Precision': 0.14285714285714285, 'Recall': 0.09090909090909091, 'FScore': 0.1111111111111111, 'Support': 11}, 'fail': {'Precision': 0.64, 'Recall': 0.7272727272727273, 'FScore': 0.6808510638297872, 'Support': 22}}, 'Fold_2': {'success': {'Precision': 0.9431818181818182, 'Recall': 0.9688715953307393, 'FScore': 0.9558541266794626, 'Support': 257}, 'low': {'Precision': 0.0, 'Recall': 0.0, 'FScore': 0.0, 'Support': 11}, 'fail': {'Precision': 0.6666666666666666, 'Recall': 0.5454545454545454, 'FScore': 0.6, 'Support': 22}}, 'Fold_3': {'success': {'Precision': 0.947565543071161, 'Recall': 0.9844357976653697, 'FScore': 0.9656488549618322, 'Support': 257}, 'low': {'Precision': 0.5, 'Recall': 0.09090909090909091, 'FScore': 0.15384615384615385, 'Support': 11}, 'fail': {'Precision': 0.7619047619047619, 'Recall': 0.7272727272727273, 'FScore': 0.7441860465116279, 'Support': 22}}, 'Fold_4': {'success': {'Precision': 0.9686274509803922, 'Recall': 0.96484375, 'FScore': 0.9667318982387475, 'Support': 256}, 'low': {'Precision': 0.3333333333333333, 'Recall': 0.2, 'FScore': 0.25, 'Support': 10}, 'fail': {'Precision': 0.6428571428571429, 'Recall': 0.782608695652174, 'FScore': 0.7058823529411765, 'Support': 23}}}}\n"
          ]
        }
      ]
    },
    {
      "cell_type": "code",
      "source": [
        "rec =[]\n",
        "titles = []\n",
        "for key, value in recalls.items():\n",
        "  titles.append(key)\n",
        "  rec.append(value)"
      ],
      "metadata": {
        "id": "VpBfEnh3NR4x"
      },
      "execution_count": null,
      "outputs": []
    },
    {
      "cell_type": "code",
      "source": [
        "plt.boxplot(rec,labels=titles)\n",
        "plt.title(\"Recall of fail class\")"
      ],
      "metadata": {
        "id": "qId-d5lYNmxA",
        "outputId": "a8a03258-0fcb-4b43-9a4b-8095231473d5",
        "colab": {
          "base_uri": "https://localhost:8080/",
          "height": 469
        }
      },
      "execution_count": null,
      "outputs": [
        {
          "output_type": "execute_result",
          "data": {
            "text/plain": [
              "Text(0.5, 1.0, 'Recall of fail class')"
            ]
          },
          "metadata": {},
          "execution_count": 20
        },
        {
          "output_type": "display_data",
          "data": {
            "text/plain": [
              "<Figure size 640x480 with 1 Axes>"
            ],
            "image/png": "[encoded data removed]"
          },
          "metadata": {}
        }
      ]
    },
    {
      "cell_type": "markdown",
      "source": [
        "As can be seen, the results are far from excellent, but the plot highlights the higher performances of SVM with SMOTE."
      ],
      "metadata": {
        "id": "TGmo2pfghv4l"
      }
    },
    {
      "cell_type": "markdown",
      "source": [
        "#2nd iteration (merging of low and success categories)\n",
        "\n",
        "The same approach is tested by merging the two categories, success and low, to improve the capability of the classifiers to discriminate the fail samples."
      ],
      "metadata": {
        "id": "Jb-3DEM3OGYM"
      }
    },
    {
      "cell_type": "code",
      "source": [
        "y = np.array(df[\"class\"])"
      ],
      "metadata": {
        "id": "3CO1OhO1OTGY"
      },
      "execution_count": null,
      "outputs": []
    },
    {
      "cell_type": "code",
      "source": [
        "ym = np.array(y, copy=True)\n",
        "ym[ym==\"low\"]=\"success\""
      ],
      "metadata": {
        "id": "bgCduxUHOTGh"
      },
      "execution_count": null,
      "outputs": []
    },
    {
      "cell_type": "code",
      "source": [
        "from sklearn.model_selection import StratifiedKFold\n",
        "skf = StratifiedKFold(n_splits=5)\n",
        "skf.get_n_splits(X, y)\n",
        "print(skf)"
      ],
      "metadata": {
        "colab": {
          "base_uri": "https://localhost:8080/"
        },
        "outputId": "1cb2260f-e62b-473c-dc3d-90312133d7d9",
        "id": "YnzG3_VKOTGh"
      },
      "execution_count": null,
      "outputs": [
        {
          "output_type": "stream",
          "name": "stdout",
          "text": [
            "StratifiedKFold(n_splits=5, random_state=None, shuffle=False)\n"
          ]
        }
      ]
    },
    {
      "cell_type": "markdown",
      "source": [
        "##Linear SVM"
      ],
      "metadata": {
        "id": "ZvTDwME2sKvs"
      }
    },
    {
      "cell_type": "code",
      "source": [
        "clf = make_pipeline(StandardScaler(), LinearSVC(dual=False,\n",
        "                                                random_state=0, tol=1e-5))\n",
        "labels = [\"success\",\"fail\"]\n",
        "results_m={\"SVM\":{}}\n",
        "cm=np.zeros((5,len(labels),len(labels)))\n",
        "\n",
        "for i, (train_index, test_index) in enumerate(skf.split(X, y)):\n",
        "  x_train = X[train_index]\n",
        "  y_train = ym[train_index]\n",
        "  x_test = X[test_index]\n",
        "  y_test = ym[test_index]\n",
        "  clf.fit(x_train, y_train)\n",
        "  y_pred = clf.predict(x_test)\n",
        "  precision, recall, fscore, support = precision_recall_fscore_support(y_test,y_pred, labels=labels)\n",
        "  fold = \"Fold_\"+str(i)\n",
        "  results_m[\"SVM\"][fold]={}\n",
        "  for j in range(len(labels)):\n",
        "    results_m[\"SVM\"][fold][labels[j]] = {\"Precision\":precision[j],\n",
        "                          \"Recall\":recall[j],\n",
        "                          \"FScore\":fscore[j],\n",
        "                          \"Support\":support[j]\n",
        "                                }\n",
        "  cm[i]=confusion_matrix(y_test, y_pred, labels=labels)\n",
        "\n",
        "cm=np.average(cm,axis=0)\n",
        "disp = ConfusionMatrixDisplay(confusion_matrix=cm, display_labels=labels)\n",
        "disp.plot()\n",
        "plt.show()\n",
        "print(results_m)\n"
      ],
      "metadata": {
        "colab": {
          "base_uri": "https://localhost:8080/",
          "height": 486
        },
        "outputId": "1f9472a0-63f5-40a9-ff40-860b14536034",
        "id": "Ge2aLqUJOTGi"
      },
      "execution_count": null,
      "outputs": [
        {
          "output_type": "display_data",
          "data": {
            "text/plain": [
              "<Figure size 640x480 with 2 Axes>"
            ],
            "image/png": "[encoded data removed]"
          },
          "metadata": {}
        },
        {
          "output_type": "stream",
          "name": "stdout",
          "text": [
            "{'SVM': {'Fold_0': {'success': {'Precision': 0.96, 'Recall': 0.9850746268656716, 'FScore': 0.9723756906077348, 'Support': 268}, 'fail': {'Precision': 0.7333333333333333, 'Recall': 0.5, 'FScore': 0.5945945945945945, 'Support': 22}}, 'Fold_1': {'success': {'Precision': 0.9735849056603774, 'Recall': 0.9626865671641791, 'FScore': 0.9681050656660413, 'Support': 268}, 'fail': {'Precision': 0.6, 'Recall': 0.6818181818181818, 'FScore': 0.6382978723404256, 'Support': 22}}, 'Fold_2': {'success': {'Precision': 0.9633699633699634, 'Recall': 0.9813432835820896, 'FScore': 0.9722735674676525, 'Support': 268}, 'fail': {'Precision': 0.7058823529411765, 'Recall': 0.5454545454545454, 'FScore': 0.6153846153846153, 'Support': 22}}, 'Fold_3': {'success': {'Precision': 0.9636363636363636, 'Recall': 0.9888059701492538, 'FScore': 0.9760589318600369, 'Support': 268}, 'fail': {'Precision': 0.8, 'Recall': 0.5454545454545454, 'FScore': 0.6486486486486486, 'Support': 22}}, 'Fold_4': {'success': {'Precision': 0.9664179104477612, 'Recall': 0.9736842105263158, 'FScore': 0.9700374531835205, 'Support': 266}, 'fail': {'Precision': 0.6666666666666666, 'Recall': 0.6086956521739131, 'FScore': 0.6363636363636365, 'Support': 23}}}}\n"
          ]
        }
      ]
    },
    {
      "cell_type": "code",
      "source": [
        "recalls_m={\"SVM\":[]}\n",
        "for key in results_m[\"SVM\"]:\n",
        "  recalls_m[\"SVM\"].append(results_m[\"SVM\"][key][\"fail\"][\"Recall\"])"
      ],
      "metadata": {
        "id": "_KO2kw29OTGi"
      },
      "execution_count": null,
      "outputs": []
    },
    {
      "cell_type": "code",
      "source": [
        "recalls_m"
      ],
      "metadata": {
        "outputId": "c25b255a-7a72-42f3-dd78-0134f7fe3108",
        "colab": {
          "base_uri": "https://localhost:8080/"
        },
        "id": "mc2GbO_fOTGi"
      },
      "execution_count": null,
      "outputs": [
        {
          "output_type": "execute_result",
          "data": {
            "text/plain": [
              "{'SVM': [0.5,\n",
              "  0.6818181818181818,\n",
              "  0.5454545454545454,\n",
              "  0.5454545454545454,\n",
              "  0.6086956521739131]}"
            ]
          },
          "metadata": {},
          "execution_count": 26
        }
      ]
    },
    {
      "cell_type": "markdown",
      "source": [
        "##Linear SVM and SMOTE"
      ],
      "metadata": {
        "id": "ZxS4-sBssPrr"
      }
    },
    {
      "cell_type": "code",
      "source": [
        "resampler = SMOTE(sampling_strategy=\"not majority\", random_state=42)"
      ],
      "metadata": {
        "id": "uFzfaa5AOTGj"
      },
      "execution_count": null,
      "outputs": []
    },
    {
      "cell_type": "code",
      "source": [
        "clf = make_pipeline(StandardScaler(), LinearSVC(dual=False,\n",
        "                                                random_state=0, tol=1e-5))\n",
        "cm=np.zeros((5,len(labels),len(labels)))\n",
        "results_m[\"SVM_RES\"]={}\n",
        "for i, (train_index, test_index) in enumerate(skf.split(X, y)):\n",
        "  x_train = X[train_index]\n",
        "  y_train = y[train_index]\n",
        "  x_test = X[test_index]\n",
        "  y_test = ym[test_index]\n",
        "  x_res, y_res = resampler.fit_resample(x_train,y_train)\n",
        "  y_res[y_res==\"low\"]=\"success\"\n",
        "  clf.fit(x_res, y_res)\n",
        "  y_pred = clf.predict(x_test)\n",
        "  precision, recall, fscore, support = precision_recall_fscore_support(y_test,y_pred, labels=labels)\n",
        "  fold = \"Fold_\"+str(i)\n",
        "  results_m[\"SVM_RES\"][fold]={}\n",
        "  for j in range(len(labels)):\n",
        "    results_m[\"SVM_RES\"][fold][labels[j]] = {\"Precision\":precision[j],\n",
        "                          \"Recall\":recall[j],\n",
        "                          \"FScore\":fscore[j],\n",
        "                          \"Support\":support[j]\n",
        "                                }\n",
        "  cm[i]=confusion_matrix(y_test, y_pred, labels=labels)\n",
        "\n",
        "cm=np.average(cm,axis=0)\n",
        "disp = ConfusionMatrixDisplay(confusion_matrix=cm, display_labels=labels)\n",
        "disp.plot()\n",
        "plt.show()\n",
        "print(results_m)\n",
        "recalls_m[\"SVM_RES\"]=[]\n",
        "for key in results_m[\"SVM_RES\"]:\n",
        "  recalls_m[\"SVM_RES\"].append(results_m[\"SVM_RES\"][key][\"fail\"][\"Recall\"])"
      ],
      "metadata": {
        "colab": {
          "base_uri": "https://localhost:8080/",
          "height": 487
        },
        "outputId": "06256985-7e87-4ebc-86a6-e6e32064dcf1",
        "id": "d98pmj6mOTGj"
      },
      "execution_count": null,
      "outputs": [
        {
          "output_type": "display_data",
          "data": {
            "text/plain": [
              "<Figure size 640x480 with 2 Axes>"
            ],
            "image/png": "[encoded data removed]"
          },
          "metadata": {}
        },
        {
          "output_type": "stream",
          "name": "stdout",
          "text": [
            "{'SVM': {'Fold_0': {'success': {'Precision': 0.96, 'Recall': 0.9850746268656716, 'FScore': 0.9723756906077348, 'Support': 268}, 'fail': {'Precision': 0.7333333333333333, 'Recall': 0.5, 'FScore': 0.5945945945945945, 'Support': 22}}, 'Fold_1': {'success': {'Precision': 0.9735849056603774, 'Recall': 0.9626865671641791, 'FScore': 0.9681050656660413, 'Support': 268}, 'fail': {'Precision': 0.6, 'Recall': 0.6818181818181818, 'FScore': 0.6382978723404256, 'Support': 22}}, 'Fold_2': {'success': {'Precision': 0.9633699633699634, 'Recall': 0.9813432835820896, 'FScore': 0.9722735674676525, 'Support': 268}, 'fail': {'Precision': 0.7058823529411765, 'Recall': 0.5454545454545454, 'FScore': 0.6153846153846153, 'Support': 22}}, 'Fold_3': {'success': {'Precision': 0.9636363636363636, 'Recall': 0.9888059701492538, 'FScore': 0.9760589318600369, 'Support': 268}, 'fail': {'Precision': 0.8, 'Recall': 0.5454545454545454, 'FScore': 0.6486486486486486, 'Support': 22}}, 'Fold_4': {'success': {'Precision': 0.9664179104477612, 'Recall': 0.9736842105263158, 'FScore': 0.9700374531835205, 'Support': 266}, 'fail': {'Precision': 0.6666666666666666, 'Recall': 0.6086956521739131, 'FScore': 0.6363636363636365, 'Support': 23}}}, 'SVM_RES': {'Fold_0': {'success': {'Precision': 0.9659090909090909, 'Recall': 0.9514925373134329, 'FScore': 0.9586466165413534, 'Support': 268}, 'fail': {'Precision': 0.5, 'Recall': 0.5909090909090909, 'FScore': 0.5416666666666667, 'Support': 22}}, 'Fold_1': {'success': {'Precision': 0.9766536964980544, 'Recall': 0.9365671641791045, 'FScore': 0.9561904761904763, 'Support': 268}, 'fail': {'Precision': 0.48484848484848486, 'Recall': 0.7272727272727273, 'FScore': 0.5818181818181818, 'Support': 22}}, 'Fold_2': {'success': {'Precision': 0.9844961240310077, 'Recall': 0.9477611940298507, 'FScore': 0.9657794676806083, 'Support': 268}, 'fail': {'Precision': 0.5625, 'Recall': 0.8181818181818182, 'FScore': 0.6666666666666666, 'Support': 22}}, 'Fold_3': {'success': {'Precision': 0.9771863117870723, 'Recall': 0.9589552238805971, 'FScore': 0.967984934086629, 'Support': 268}, 'fail': {'Precision': 0.5925925925925926, 'Recall': 0.7272727272727273, 'FScore': 0.6530612244897959, 'Support': 22}}, 'Fold_4': {'success': {'Precision': 0.9803921568627451, 'Recall': 0.9398496240601504, 'FScore': 0.9596928982725527, 'Support': 266}, 'fail': {'Precision': 0.5294117647058824, 'Recall': 0.782608695652174, 'FScore': 0.631578947368421, 'Support': 23}}}}\n"
          ]
        }
      ]
    },
    {
      "cell_type": "markdown",
      "source": [
        "##XGB"
      ],
      "metadata": {
        "id": "FU3_3pf9sT2h"
      }
    },
    {
      "cell_type": "markdown",
      "source": [
        "In this section, further work shall be done to fix the evaluation dataset sorting to be stratified also for the underrepresented category \"low\", but I had no time to complete it."
      ],
      "metadata": {
        "id": "Q7e49OdptzSq"
      }
    },
    {
      "cell_type": "code",
      "source": [
        "label_encoder = LabelEncoder()\n",
        "label_encoder = label_encoder.fit(ym)\n",
        "y_enc = label_encoder.transform(ym)\n",
        "\n",
        "model = xgb.XGBClassifier(early_stopping_rounds=2)\n",
        "clf_xgb = make_pipeline(model)\n",
        "cm=np.zeros((5,len(labels),len(labels)))\n",
        "results_m[\"XGB\"]={}\n",
        "for i, (train_index, test_index) in enumerate(skf.split(X, y)):\n",
        "  x_train = X[train_index]\n",
        "  y_train = y_enc[train_index]\n",
        "  x_test = X[test_index]\n",
        "  y_test = y_enc[test_index]\n",
        "  x_train, x_eval, y_train, y_eval = train_test_split(x_train, y_train, test_size=0.2, random_state=42)\n",
        "  clf_xgb.fit(x_train, y_train, xgbclassifier__eval_set=[(x_eval, y_eval)])\n",
        "  y_pred = clf_xgb.predict(x_test)\n",
        "  y_pred = label_encoder.inverse_transform(y_pred)\n",
        "  y_test = label_encoder.inverse_transform(y_test)\n",
        "  precision, recall, fscore, support = precision_recall_fscore_support(y_test,y_pred, labels=labels)\n",
        "  fold = \"Fold_\"+str(i)\n",
        "  results_m[\"XGB\"][fold]={}\n",
        "  for j in range(len(labels)):\n",
        "    results_m[\"XGB\"][fold][labels[j]] = {\"Precision\":precision[j],\n",
        "                          \"Recall\":recall[j],\n",
        "                          \"FScore\":fscore[j],\n",
        "                          \"Support\":support[j]\n",
        "                                }\n",
        "  cm[i]=confusion_matrix(y_test, y_pred, labels=labels)\n",
        "\n",
        "cm=np.average(cm,axis=0)\n",
        "disp = ConfusionMatrixDisplay(confusion_matrix=cm, display_labels=labels)\n",
        "disp.plot()\n",
        "plt.show()\n",
        "print(results_m)\n",
        "recalls_m[\"XGB\"]=[]\n",
        "for key in results_m[\"XGB\"]:\n",
        "  recalls_m[\"XGB\"].append(results_m[\"XGB\"][key][\"fail\"][\"Recall\"])"
      ],
      "metadata": {
        "colab": {
          "base_uri": "https://localhost:8080/",
          "height": 1000
        },
        "outputId": "27330990-ef3a-40c7-c829-25226c9104f9",
        "id": "A4oiNQWcOTGj"
      },
      "execution_count": null,
      "outputs": [
        {
          "output_type": "stream",
          "name": "stdout",
          "text": [
            "[0]\tvalidation_0-logloss:0.21855\n",
            "[1]\tvalidation_0-logloss:0.18602\n",
            "[2]\tvalidation_0-logloss:0.16417\n",
            "[3]\tvalidation_0-logloss:0.14976\n",
            "[4]\tvalidation_0-logloss:0.14080\n",
            "[5]\tvalidation_0-logloss:0.13302\n",
            "[6]\tvalidation_0-logloss:0.12991\n",
            "[7]\tvalidation_0-logloss:0.12704\n",
            "[8]\tvalidation_0-logloss:0.12334\n",
            "[9]\tvalidation_0-logloss:0.12153\n",
            "[10]\tvalidation_0-logloss:0.12236\n",
            "[11]\tvalidation_0-logloss:0.12047\n",
            "[12]\tvalidation_0-logloss:0.11987\n",
            "[13]\tvalidation_0-logloss:0.11888\n",
            "[14]\tvalidation_0-logloss:0.11833\n",
            "[15]\tvalidation_0-logloss:0.11754\n",
            "[16]\tvalidation_0-logloss:0.11860\n",
            "[17]\tvalidation_0-logloss:0.11807\n",
            "[0]\tvalidation_0-logloss:0.21215\n",
            "[1]\tvalidation_0-logloss:0.17452\n",
            "[2]\tvalidation_0-logloss:0.15264\n",
            "[3]\tvalidation_0-logloss:0.14004\n",
            "[4]\tvalidation_0-logloss:0.12915\n",
            "[5]\tvalidation_0-logloss:0.12023\n",
            "[6]\tvalidation_0-logloss:0.11259\n",
            "[7]\tvalidation_0-logloss:0.11240\n",
            "[8]\tvalidation_0-logloss:0.10929\n",
            "[9]\tvalidation_0-logloss:0.11006\n",
            "[0]\tvalidation_0-logloss:0.23548\n",
            "[1]\tvalidation_0-logloss:0.19475\n",
            "[2]\tvalidation_0-logloss:0.16928\n",
            "[3]\tvalidation_0-logloss:0.15714\n",
            "[4]\tvalidation_0-logloss:0.14642\n",
            "[5]\tvalidation_0-logloss:0.14184\n",
            "[6]\tvalidation_0-logloss:0.13454\n",
            "[7]\tvalidation_0-logloss:0.12892\n",
            "[8]\tvalidation_0-logloss:0.12652\n",
            "[9]\tvalidation_0-logloss:0.12580\n",
            "[10]\tvalidation_0-logloss:0.12337\n",
            "[11]\tvalidation_0-logloss:0.12325\n",
            "[12]\tvalidation_0-logloss:0.12229\n",
            "[13]\tvalidation_0-logloss:0.12504\n",
            "[0]\tvalidation_0-logloss:0.22424\n",
            "[1]\tvalidation_0-logloss:0.18311\n",
            "[2]\tvalidation_0-logloss:0.15621\n",
            "[3]\tvalidation_0-logloss:0.13611\n",
            "[4]\tvalidation_0-logloss:0.12270\n",
            "[5]\tvalidation_0-logloss:0.11482\n",
            "[6]\tvalidation_0-logloss:0.10761\n",
            "[7]\tvalidation_0-logloss:0.10126\n",
            "[8]\tvalidation_0-logloss:0.09567\n",
            "[9]\tvalidation_0-logloss:0.09429\n",
            "[10]\tvalidation_0-logloss:0.09189\n",
            "[11]\tvalidation_0-logloss:0.08924\n",
            "[12]\tvalidation_0-logloss:0.08654\n",
            "[13]\tvalidation_0-logloss:0.08786\n",
            "[14]\tvalidation_0-logloss:0.08751\n",
            "[0]\tvalidation_0-logloss:0.20816\n",
            "[1]\tvalidation_0-logloss:0.16574\n",
            "[2]\tvalidation_0-logloss:0.13784\n",
            "[3]\tvalidation_0-logloss:0.11701\n",
            "[4]\tvalidation_0-logloss:0.10453\n",
            "[5]\tvalidation_0-logloss:0.09853\n",
            "[6]\tvalidation_0-logloss:0.09009\n",
            "[7]\tvalidation_0-logloss:0.08573\n",
            "[8]\tvalidation_0-logloss:0.08404\n",
            "[9]\tvalidation_0-logloss:0.08097\n",
            "[10]\tvalidation_0-logloss:0.08172\n"
          ]
        },
        {
          "output_type": "display_data",
          "data": {
            "text/plain": [
              "<Figure size 640x480 with 2 Axes>"
            ],
            "image/png": "[encoded data removed]"
          },
          "metadata": {}
        },
        {
          "output_type": "stream",
          "name": "stdout",
          "text": [
            "{'SVM': {'Fold_0': {'success': {'Precision': 0.96, 'Recall': 0.9850746268656716, 'FScore': 0.9723756906077348, 'Support': 268}, 'fail': {'Precision': 0.7333333333333333, 'Recall': 0.5, 'FScore': 0.5945945945945945, 'Support': 22}}, 'Fold_1': {'success': {'Precision': 0.9735849056603774, 'Recall': 0.9626865671641791, 'FScore': 0.9681050656660413, 'Support': 268}, 'fail': {'Precision': 0.6, 'Recall': 0.6818181818181818, 'FScore': 0.6382978723404256, 'Support': 22}}, 'Fold_2': {'success': {'Precision': 0.9633699633699634, 'Recall': 0.9813432835820896, 'FScore': 0.9722735674676525, 'Support': 268}, 'fail': {'Precision': 0.7058823529411765, 'Recall': 0.5454545454545454, 'FScore': 0.6153846153846153, 'Support': 22}}, 'Fold_3': {'success': {'Precision': 0.9636363636363636, 'Recall': 0.9888059701492538, 'FScore': 0.9760589318600369, 'Support': 268}, 'fail': {'Precision': 0.8, 'Recall': 0.5454545454545454, 'FScore': 0.6486486486486486, 'Support': 22}}, 'Fold_4': {'success': {'Precision': 0.9664179104477612, 'Recall': 0.9736842105263158, 'FScore': 0.9700374531835205, 'Support': 266}, 'fail': {'Precision': 0.6666666666666666, 'Recall': 0.6086956521739131, 'FScore': 0.6363636363636365, 'Support': 23}}}, 'SVM_RES': {'Fold_0': {'success': {'Precision': 0.9659090909090909, 'Recall': 0.9514925373134329, 'FScore': 0.9586466165413534, 'Support': 268}, 'fail': {'Precision': 0.5, 'Recall': 0.5909090909090909, 'FScore': 0.5416666666666667, 'Support': 22}}, 'Fold_1': {'success': {'Precision': 0.9766536964980544, 'Recall': 0.9365671641791045, 'FScore': 0.9561904761904763, 'Support': 268}, 'fail': {'Precision': 0.48484848484848486, 'Recall': 0.7272727272727273, 'FScore': 0.5818181818181818, 'Support': 22}}, 'Fold_2': {'success': {'Precision': 0.9844961240310077, 'Recall': 0.9477611940298507, 'FScore': 0.9657794676806083, 'Support': 268}, 'fail': {'Precision': 0.5625, 'Recall': 0.8181818181818182, 'FScore': 0.6666666666666666, 'Support': 22}}, 'Fold_3': {'success': {'Precision': 0.9771863117870723, 'Recall': 0.9589552238805971, 'FScore': 0.967984934086629, 'Support': 268}, 'fail': {'Precision': 0.5925925925925926, 'Recall': 0.7272727272727273, 'FScore': 0.6530612244897959, 'Support': 22}}, 'Fold_4': {'success': {'Precision': 0.9803921568627451, 'Recall': 0.9398496240601504, 'FScore': 0.9596928982725527, 'Support': 266}, 'fail': {'Precision': 0.5294117647058824, 'Recall': 0.782608695652174, 'FScore': 0.631578947368421, 'Support': 23}}}, 'XGB': {'Fold_0': {'success': {'Precision': 0.9706959706959707, 'Recall': 0.9888059701492538, 'FScore': 0.9796672828096119, 'Support': 268}, 'fail': {'Precision': 0.8235294117647058, 'Recall': 0.6363636363636364, 'FScore': 0.717948717948718, 'Support': 22}}, 'Fold_1': {'success': {'Precision': 0.9743589743589743, 'Recall': 0.9925373134328358, 'FScore': 0.9833641404805914, 'Support': 268}, 'fail': {'Precision': 0.8823529411764706, 'Recall': 0.6818181818181818, 'FScore': 0.7692307692307693, 'Support': 22}}, 'Fold_2': {'success': {'Precision': 0.9601449275362319, 'Recall': 0.9888059701492538, 'FScore': 0.974264705882353, 'Support': 268}, 'fail': {'Precision': 0.7857142857142857, 'Recall': 0.5, 'FScore': 0.6111111111111112, 'Support': 22}}, 'Fold_3': {'success': {'Precision': 0.9709090909090909, 'Recall': 0.996268656716418, 'FScore': 0.9834254143646409, 'Support': 268}, 'fail': {'Precision': 0.9333333333333333, 'Recall': 0.6363636363636364, 'FScore': 0.7567567567567568, 'Support': 22}}, 'Fold_4': {'success': {'Precision': 0.9812734082397003, 'Recall': 0.9849624060150376, 'FScore': 0.9831144465290806, 'Support': 266}, 'fail': {'Precision': 0.8181818181818182, 'Recall': 0.782608695652174, 'FScore': 0.8, 'Support': 23}}}}\n"
          ]
        }
      ]
    },
    {
      "cell_type": "markdown",
      "source": [
        "##XGB and SMOTE"
      ],
      "metadata": {
        "id": "-Od6q83VtrEU"
      }
    },
    {
      "cell_type": "code",
      "source": [
        "label_encoder_three = LabelEncoder()\n",
        "label_encoder_three = label_encoder_three.fit(y)\n",
        "y_enc_three = label_encoder_three.transform(y)\n",
        "label_encoder_two = LabelEncoder()\n",
        "label_encoder_two = label_encoder_two.fit(ym)\n",
        "y_enc_two = label_encoder_two.transform(ym)\n",
        "\n",
        "model = xgb.XGBClassifier(early_stopping_rounds=2)\n",
        "clf_xgb = make_pipeline(model)\n",
        "cm=np.zeros((5,len(labels),len(labels)))\n",
        "results_m[\"XGB_res\"]={}\n",
        "for i, (train_index, test_index) in enumerate(skf.split(X, y)):\n",
        "  x_train = X[train_index]\n",
        "  y_train = y_enc_three[train_index]\n",
        "  x_test = X[test_index]\n",
        "  y_test = y_enc_two[test_index]\n",
        "  x_train, x_eval, y_train, y_eval = train_test_split(x_train, y_train, test_size=0.2, random_state=42)\n",
        "  y_eval = label_encoder_three.inverse_transform(y_eval)\n",
        "  y_eval[y_eval==\"low\"]=\"success\"\n",
        "  y_eval = label_encoder_two.transform(y_eval)\n",
        "  x_res, y_res = resampler.fit_resample(x_train,y_train)\n",
        "  y_res = label_encoder_three.inverse_transform(y_res)\n",
        "  y_res[y_res==\"low\"]=\"success\"\n",
        "  y_res=label_encoder_two.transform(y_res)\n",
        "  clf_xgb.fit(x_res, y_res, xgbclassifier__eval_set=[(x_eval, y_eval)])\n",
        "  y_pred = clf_xgb.predict(x_test)\n",
        "  y_pred = label_encoder.inverse_transform(y_pred)\n",
        "  y_test = label_encoder.inverse_transform(y_test)\n",
        "  precision, recall, fscore, support = precision_recall_fscore_support(y_test,y_pred, labels=labels)\n",
        "  fold = \"Fold_\"+str(i)\n",
        "  results_m[\"XGB_res\"][fold]={}\n",
        "  for j in range(len(labels)):\n",
        "    results_m[\"XGB_res\"][fold][labels[j]] = {\"Precision\":precision[j],\n",
        "                          \"Recall\":recall[j],\n",
        "                          \"FScore\":fscore[j],\n",
        "                          \"Support\":support[j]\n",
        "                                }\n",
        "  cm[i]=confusion_matrix(y_test, y_pred, labels=labels)\n",
        "\n",
        "cm=np.average(cm,axis=0)\n",
        "disp = ConfusionMatrixDisplay(confusion_matrix=cm, display_labels=labels)\n",
        "disp.plot()\n",
        "plt.show()\n",
        "print(results_m)\n",
        "recalls_m[\"XGB_res\"]=[]\n",
        "for key in results_m[\"XGB_res\"]:\n",
        "  recalls_m[\"XGB_res\"].append(results_m[\"XGB\"][key][\"fail\"][\"Recall\"])"
      ],
      "metadata": {
        "id": "pLa1FjYoYDX1",
        "outputId": "99eb90d3-a5c9-4da8-cf4e-03d5b1d8fae3",
        "colab": {
          "base_uri": "https://localhost:8080/",
          "height": 1000
        }
      },
      "execution_count": null,
      "outputs": [
        {
          "output_type": "stream",
          "name": "stdout",
          "text": [
            "[0]\tvalidation_0-logloss:0.33904\n",
            "[1]\tvalidation_0-logloss:0.26334\n",
            "[2]\tvalidation_0-logloss:0.21492\n",
            "[3]\tvalidation_0-logloss:0.17890\n",
            "[4]\tvalidation_0-logloss:0.15716\n",
            "[5]\tvalidation_0-logloss:0.14009\n",
            "[6]\tvalidation_0-logloss:0.13015\n",
            "[7]\tvalidation_0-logloss:0.12377\n",
            "[8]\tvalidation_0-logloss:0.11930\n",
            "[9]\tvalidation_0-logloss:0.11582\n",
            "[10]\tvalidation_0-logloss:0.11182\n",
            "[11]\tvalidation_0-logloss:0.11051\n",
            "[12]\tvalidation_0-logloss:0.10856\n",
            "[13]\tvalidation_0-logloss:0.10862\n",
            "[0]\tvalidation_0-logloss:0.34905\n",
            "[1]\tvalidation_0-logloss:0.27757\n",
            "[2]\tvalidation_0-logloss:0.23095\n",
            "[3]\tvalidation_0-logloss:0.19716\n",
            "[4]\tvalidation_0-logloss:0.17843\n",
            "[5]\tvalidation_0-logloss:0.16669\n",
            "[6]\tvalidation_0-logloss:0.15722\n",
            "[7]\tvalidation_0-logloss:0.14988\n",
            "[8]\tvalidation_0-logloss:0.14539\n",
            "[9]\tvalidation_0-logloss:0.13952\n",
            "[10]\tvalidation_0-logloss:0.13766\n",
            "[11]\tvalidation_0-logloss:0.13215\n",
            "[12]\tvalidation_0-logloss:0.13358\n",
            "[0]\tvalidation_0-logloss:0.33725\n",
            "[1]\tvalidation_0-logloss:0.26316\n",
            "[2]\tvalidation_0-logloss:0.21603\n",
            "[3]\tvalidation_0-logloss:0.18217\n",
            "[4]\tvalidation_0-logloss:0.16259\n",
            "[5]\tvalidation_0-logloss:0.15051\n",
            "[6]\tvalidation_0-logloss:0.13853\n",
            "[7]\tvalidation_0-logloss:0.13401\n",
            "[8]\tvalidation_0-logloss:0.12983\n",
            "[9]\tvalidation_0-logloss:0.12783\n",
            "[10]\tvalidation_0-logloss:0.12585\n",
            "[11]\tvalidation_0-logloss:0.12854\n",
            "[0]\tvalidation_0-logloss:0.35286\n",
            "[1]\tvalidation_0-logloss:0.27381\n",
            "[2]\tvalidation_0-logloss:0.21961\n",
            "[3]\tvalidation_0-logloss:0.18481\n",
            "[4]\tvalidation_0-logloss:0.16609\n",
            "[5]\tvalidation_0-logloss:0.15491\n",
            "[6]\tvalidation_0-logloss:0.14038\n",
            "[7]\tvalidation_0-logloss:0.13252\n",
            "[8]\tvalidation_0-logloss:0.12893\n",
            "[9]\tvalidation_0-logloss:0.12245\n",
            "[10]\tvalidation_0-logloss:0.11764\n",
            "[11]\tvalidation_0-logloss:0.11460\n",
            "[12]\tvalidation_0-logloss:0.11202\n",
            "[13]\tvalidation_0-logloss:0.11163\n",
            "[14]\tvalidation_0-logloss:0.11043\n",
            "[15]\tvalidation_0-logloss:0.10874\n",
            "[16]\tvalidation_0-logloss:0.10956\n",
            "[17]\tvalidation_0-logloss:0.10713\n",
            "[18]\tvalidation_0-logloss:0.10693\n",
            "[19]\tvalidation_0-logloss:0.10833\n",
            "[20]\tvalidation_0-logloss:0.10862\n",
            "[0]\tvalidation_0-logloss:0.35234\n",
            "[1]\tvalidation_0-logloss:0.27297\n",
            "[2]\tvalidation_0-logloss:0.22237\n",
            "[3]\tvalidation_0-logloss:0.18204\n",
            "[4]\tvalidation_0-logloss:0.16040\n",
            "[5]\tvalidation_0-logloss:0.14222\n",
            "[6]\tvalidation_0-logloss:0.12040\n",
            "[7]\tvalidation_0-logloss:0.10808\n",
            "[8]\tvalidation_0-logloss:0.10263\n",
            "[9]\tvalidation_0-logloss:0.09526\n",
            "[10]\tvalidation_0-logloss:0.08894\n",
            "[11]\tvalidation_0-logloss:0.08566\n",
            "[12]\tvalidation_0-logloss:0.08254\n",
            "[13]\tvalidation_0-logloss:0.08043\n",
            "[14]\tvalidation_0-logloss:0.08221\n",
            "[15]\tvalidation_0-logloss:0.07863\n",
            "[16]\tvalidation_0-logloss:0.07769\n",
            "[17]\tvalidation_0-logloss:0.07456\n",
            "[18]\tvalidation_0-logloss:0.07715\n"
          ]
        },
        {
          "output_type": "display_data",
          "data": {
            "text/plain": [
              "<Figure size 640x480 with 2 Axes>"
            ],
            "image/png": "[encoded data removed]"
          },
          "metadata": {}
        },
        {
          "output_type": "stream",
          "name": "stdout",
          "text": [
            "{'SVM': {'Fold_0': {'success': {'Precision': 0.96, 'Recall': 0.9850746268656716, 'FScore': 0.9723756906077348, 'Support': 268}, 'fail': {'Precision': 0.7333333333333333, 'Recall': 0.5, 'FScore': 0.5945945945945945, 'Support': 22}}, 'Fold_1': {'success': {'Precision': 0.9735849056603774, 'Recall': 0.9626865671641791, 'FScore': 0.9681050656660413, 'Support': 268}, 'fail': {'Precision': 0.6, 'Recall': 0.6818181818181818, 'FScore': 0.6382978723404256, 'Support': 22}}, 'Fold_2': {'success': {'Precision': 0.9633699633699634, 'Recall': 0.9813432835820896, 'FScore': 0.9722735674676525, 'Support': 268}, 'fail': {'Precision': 0.7058823529411765, 'Recall': 0.5454545454545454, 'FScore': 0.6153846153846153, 'Support': 22}}, 'Fold_3': {'success': {'Precision': 0.9636363636363636, 'Recall': 0.9888059701492538, 'FScore': 0.9760589318600369, 'Support': 268}, 'fail': {'Precision': 0.8, 'Recall': 0.5454545454545454, 'FScore': 0.6486486486486486, 'Support': 22}}, 'Fold_4': {'success': {'Precision': 0.9664179104477612, 'Recall': 0.9736842105263158, 'FScore': 0.9700374531835205, 'Support': 266}, 'fail': {'Precision': 0.6666666666666666, 'Recall': 0.6086956521739131, 'FScore': 0.6363636363636365, 'Support': 23}}}, 'SVM_RES': {'Fold_0': {'success': {'Precision': 0.9659090909090909, 'Recall': 0.9514925373134329, 'FScore': 0.9586466165413534, 'Support': 268}, 'fail': {'Precision': 0.5, 'Recall': 0.5909090909090909, 'FScore': 0.5416666666666667, 'Support': 22}}, 'Fold_1': {'success': {'Precision': 0.9766536964980544, 'Recall': 0.9365671641791045, 'FScore': 0.9561904761904763, 'Support': 268}, 'fail': {'Precision': 0.48484848484848486, 'Recall': 0.7272727272727273, 'FScore': 0.5818181818181818, 'Support': 22}}, 'Fold_2': {'success': {'Precision': 0.9844961240310077, 'Recall': 0.9477611940298507, 'FScore': 0.9657794676806083, 'Support': 268}, 'fail': {'Precision': 0.5625, 'Recall': 0.8181818181818182, 'FScore': 0.6666666666666666, 'Support': 22}}, 'Fold_3': {'success': {'Precision': 0.9771863117870723, 'Recall': 0.9589552238805971, 'FScore': 0.967984934086629, 'Support': 268}, 'fail': {'Precision': 0.5925925925925926, 'Recall': 0.7272727272727273, 'FScore': 0.6530612244897959, 'Support': 22}}, 'Fold_4': {'success': {'Precision': 0.9803921568627451, 'Recall': 0.9398496240601504, 'FScore': 0.9596928982725527, 'Support': 266}, 'fail': {'Precision': 0.5294117647058824, 'Recall': 0.782608695652174, 'FScore': 0.631578947368421, 'Support': 23}}}, 'XGB': {'Fold_0': {'success': {'Precision': 0.9706959706959707, 'Recall': 0.9888059701492538, 'FScore': 0.9796672828096119, 'Support': 268}, 'fail': {'Precision': 0.8235294117647058, 'Recall': 0.6363636363636364, 'FScore': 0.717948717948718, 'Support': 22}}, 'Fold_1': {'success': {'Precision': 0.9743589743589743, 'Recall': 0.9925373134328358, 'FScore': 0.9833641404805914, 'Support': 268}, 'fail': {'Precision': 0.8823529411764706, 'Recall': 0.6818181818181818, 'FScore': 0.7692307692307693, 'Support': 22}}, 'Fold_2': {'success': {'Precision': 0.9601449275362319, 'Recall': 0.9888059701492538, 'FScore': 0.974264705882353, 'Support': 268}, 'fail': {'Precision': 0.7857142857142857, 'Recall': 0.5, 'FScore': 0.6111111111111112, 'Support': 22}}, 'Fold_3': {'success': {'Precision': 0.9709090909090909, 'Recall': 0.996268656716418, 'FScore': 0.9834254143646409, 'Support': 268}, 'fail': {'Precision': 0.9333333333333333, 'Recall': 0.6363636363636364, 'FScore': 0.7567567567567568, 'Support': 22}}, 'Fold_4': {'success': {'Precision': 0.9812734082397003, 'Recall': 0.9849624060150376, 'FScore': 0.9831144465290806, 'Support': 266}, 'fail': {'Precision': 0.8181818181818182, 'Recall': 0.782608695652174, 'FScore': 0.8, 'Support': 23}}}, 'XGB_res': {'Fold_0': {'success': {'Precision': 0.967032967032967, 'Recall': 0.9850746268656716, 'FScore': 0.9759704251386322, 'Support': 268}, 'fail': {'Precision': 0.7647058823529411, 'Recall': 0.5909090909090909, 'FScore': 0.6666666666666667, 'Support': 22}}, 'Fold_1': {'success': {'Precision': 0.9700374531835206, 'Recall': 0.9664179104477612, 'FScore': 0.9682242990654205, 'Support': 268}, 'fail': {'Precision': 0.6086956521739131, 'Recall': 0.6363636363636364, 'FScore': 0.6222222222222223, 'Support': 22}}, 'Fold_2': {'success': {'Precision': 0.9598540145985401, 'Recall': 0.9813432835820896, 'FScore': 0.9704797047970479, 'Support': 268}, 'fail': {'Precision': 0.6875, 'Recall': 0.5, 'FScore': 0.5789473684210527, 'Support': 22}}, 'Fold_3': {'success': {'Precision': 0.966789667896679, 'Recall': 0.9776119402985075, 'FScore': 0.9721706864564007, 'Support': 268}, 'fail': {'Precision': 0.6842105263157895, 'Recall': 0.5909090909090909, 'FScore': 0.6341463414634148, 'Support': 22}}, 'Fold_4': {'success': {'Precision': 0.9773584905660377, 'Recall': 0.9736842105263158, 'FScore': 0.975517890772128, 'Support': 266}, 'fail': {'Precision': 0.7083333333333334, 'Recall': 0.7391304347826086, 'FScore': 0.723404255319149, 'Support': 23}}}}\n"
          ]
        }
      ]
    },
    {
      "cell_type": "code",
      "source": [
        "rec =[]\n",
        "titles = []\n",
        "for key, value in recalls.items():\n",
        "  titles.append(key)\n",
        "  titles.append(key+\"merged\")\n",
        "  rec.append(value)\n",
        "  rec.append(recalls_m[key])\n"
      ],
      "metadata": {
        "id": "A7AqugR5OTGj"
      },
      "execution_count": null,
      "outputs": []
    },
    {
      "cell_type": "code",
      "source": [
        "plt.boxplot(rec,labels=titles)\n",
        "plt.xticks(rotation=90)\n",
        "plt.title(\"Recall for Fail class\")"
      ],
      "metadata": {
        "colab": {
          "base_uri": "https://localhost:8080/",
          "height": 573
        },
        "id": "HpNC4qEqRmsn",
        "outputId": "5f040077-9f38-4533-e21b-b4bdf4f9c9e0"
      },
      "execution_count": null,
      "outputs": [
        {
          "output_type": "execute_result",
          "data": {
            "text/plain": [
              "Text(0.5, 1.0, 'Recall for Fail class')"
            ]
          },
          "metadata": {},
          "execution_count": 32
        },
        {
          "output_type": "display_data",
          "data": {
            "text/plain": [
              "<Figure size 640x480 with 1 Axes>"
            ],
            "image/png": "[encoded data removed]"
          },
          "metadata": {}
        }
      ]
    },
    {
      "cell_type": "markdown",
      "source": [
        "#Discussion of results and next steps"
      ],
      "metadata": {
        "id": "5bbbk-N4u6Zx"
      }
    },
    {
      "cell_type": "markdown",
      "source": [
        "Considering the results, the Linear SVM with SMOTE was one of the promising algorithms; it was efficient, quick to train, and can be lightweight to deploy. The main limitation of this work is the absence of feature engineering and the limited work on the starting dataset. For example, feature selection, feature generation, or further work on oversampling techniques to mitigate the imbalance could result in significant improvements. Furthermore, other potential improvements can be the adoption of more complex algorithms (like Neural Networks) and more complex optimisation algorithms capable of being tuned to manage the imbalance of the classes. With the current work, the most promising approach is training a Linear SVM model with the whole dataset and its production trial."
      ],
      "metadata": {
        "id": "xhrPs7Y2dpxa"
      }
    },
    {
      "cell_type": "code",
      "source": [],
      "metadata": {
        "id": "EL479LrCwOW3"
      },
      "execution_count": null,
      "outputs": []
    }
  ]
}