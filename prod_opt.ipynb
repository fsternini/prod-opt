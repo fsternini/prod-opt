{
  "nbformat": 4,
  "nbformat_minor": 0,
  "metadata": {
    "colab": {
      "provenance": [],
      "toc_visible": true,
      "authorship_tag": "ABX9TyO9ujjDv089P4W5h/XZggO6",
      "include_colab_link": true
    },
    "kernelspec": {
      "name": "python3",
      "display_name": "Python 3"
    },
    "language_info": {
      "name": "python"
    }
  },
  "cells": [
    {
      "cell_type": "markdown",
      "metadata": {
        "id": "view-in-github",
        "colab_type": "text"
      },
      "source": [
        "<a href=\"https://colab.research.google.com/github/fsternini/prod-opt/blob/development/prod_opt.ipynb\" target=\"_parent\"><img src=\"https://colab.research.google.com/assets/colab-badge.svg\" alt=\"Open In Colab\"/></a>"
      ]
    },
    {
      "cell_type": "markdown",
      "source": [
        "#Intro"
      ],
      "metadata": {
        "id": "hd2kobEDVjQe"
      }
    },
    {
      "cell_type": "code",
      "execution_count": 310,
      "metadata": {
        "colab": {
          "base_uri": "https://localhost:8080/"
        },
        "id": "oDrupgJTJpEk",
        "outputId": "a1482c5e-e25d-45fa-d69c-81d8a231abab"
      },
      "outputs": [
        {
          "output_type": "stream",
          "name": "stdout",
          "text": [
            "/usr/local/bin/python\n",
            "Python 3.10.12\n"
          ]
        }
      ],
      "source": [
        "# First, verification of Python version is completed\n",
        "!which python # should return /usr/local/bin/python\n",
        "!python --version"
      ]
    },
    {
      "cell_type": "code",
      "source": [
        "!git clone 'https://github.com/fsternini/prod-opt.git'\n",
        "%cd 'prod-opt'\n",
        "# Switch to the most updated branch\n",
        "!git switch development\n",
        "# Collect the most updated version of the repo\n",
        "!git pull"
      ],
      "metadata": {
        "colab": {
          "base_uri": "https://localhost:8080/"
        },
        "id": "NhZ2CPT-JvFV",
        "outputId": "172720ef-3ad5-46b8-beb4-3ae9928c296e"
      },
      "execution_count": 311,
      "outputs": [
        {
          "output_type": "stream",
          "name": "stdout",
          "text": [
            "Cloning into 'prod-opt'...\n",
            "remote: Enumerating objects: 17, done.\u001b[K\n",
            "remote: Counting objects:   5% (1/17)\u001b[K\rremote: Counting objects:  11% (2/17)\u001b[K\rremote: Counting objects:  17% (3/17)\u001b[K\rremote: Counting objects:  23% (4/17)\u001b[K\rremote: Counting objects:  29% (5/17)\u001b[K\rremote: Counting objects:  35% (6/17)\u001b[K\rremote: Counting objects:  41% (7/17)\u001b[K\rremote: Counting objects:  47% (8/17)\u001b[K\rremote: Counting objects:  52% (9/17)\u001b[K\rremote: Counting objects:  58% (10/17)\u001b[K\rremote: Counting objects:  64% (11/17)\u001b[K\rremote: Counting objects:  70% (12/17)\u001b[K\rremote: Counting objects:  76% (13/17)\u001b[K\rremote: Counting objects:  82% (14/17)\u001b[K\rremote: Counting objects:  88% (15/17)\u001b[K\rremote: Counting objects:  94% (16/17)\u001b[K\rremote: Counting objects: 100% (17/17)\u001b[K\rremote: Counting objects: 100% (17/17), done.\u001b[K\n",
            "remote: Compressing objects:   7% (1/14)\u001b[K\rremote: Compressing objects:  14% (2/14)\u001b[K\rremote: Compressing objects:  21% (3/14)\u001b[K\rremote: Compressing objects:  28% (4/14)\u001b[K\rremote: Compressing objects:  35% (5/14)\u001b[K\rremote: Compressing objects:  42% (6/14)\u001b[K\rremote: Compressing objects:  50% (7/14)\u001b[K\rremote: Compressing objects:  57% (8/14)\u001b[K\rremote: Compressing objects:  64% (9/14)\u001b[K\rremote: Compressing objects:  71% (10/14)\u001b[K\rremote: Compressing objects:  78% (11/14)\u001b[K\rremote: Compressing objects:  85% (12/14)\u001b[K\rremote: Compressing objects:  92% (13/14)\u001b[K\rremote: Compressing objects: 100% (14/14)\u001b[K\rremote: Compressing objects: 100% (14/14), done.\u001b[K\n",
            "remote: Total 17 (delta 4), reused 0 (delta 0), pack-reused 0\u001b[K\n",
            "Receiving objects:   5% (1/17)\rReceiving objects:  11% (2/17)\rReceiving objects:  17% (3/17)\rReceiving objects:  23% (4/17)\rReceiving objects:  29% (5/17)\rReceiving objects:  35% (6/17)\rReceiving objects:  41% (7/17)\rReceiving objects:  47% (8/17)\rReceiving objects:  52% (9/17)\rReceiving objects:  58% (10/17)\rReceiving objects:  64% (11/17)\rReceiving objects:  70% (12/17)\rReceiving objects:  76% (13/17)\rReceiving objects:  82% (14/17)\rReceiving objects:  88% (15/17)\rReceiving objects:  94% (16/17)\rReceiving objects: 100% (17/17)\rReceiving objects: 100% (17/17), 5.33 KiB | 5.33 MiB/s, done.\n",
            "Resolving deltas:   0% (0/4)\rResolving deltas:  25% (1/4)\rResolving deltas:  50% (2/4)\rResolving deltas:  75% (3/4)\rResolving deltas: 100% (4/4)\rResolving deltas: 100% (4/4), done.\n",
            "/content/prod-opt/prod-opt/prod-opt/prod-opt\n",
            "Branch 'development' set up to track remote branch 'development' from 'origin'.\n",
            "Switched to a new branch 'development'\n",
            "Already up to date.\n"
          ]
        }
      ]
    },
    {
      "cell_type": "code",
      "source": [
        "# Install all requirements for the code\n",
        "!pip install -r requirements.txt -q\n",
        "# Google Drive is mounted, to reach and save all relevant data\n",
        "from google.colab import drive\n",
        "import os\n",
        "import colab_env\n",
        "import pandas as pd\n",
        "from sklearn.svm import LinearSVC\n",
        "from sklearn.pipeline import make_pipeline\n",
        "from sklearn.preprocessing import StandardScaler\n",
        "from sklearn.metrics import precision_recall_fscore_support\n",
        "from sklearn.preprocessing import LabelEncoder\n",
        "import numpy as np\n",
        "from sklearn.model_selection import train_test_split\n",
        "from sklearn import svm\n",
        "from sklearn.model_selection import cross_val_score\n",
        "from imblearn.over_sampling import SMOTE\n",
        "import xgboost as xgb\n",
        "import matplotlib.pyplot as plt\n",
        "\n",
        "\n",
        "drive.mount('/content/drive')\n",
        "dataset_path = os.environ['PROD_DATASET']"
      ],
      "metadata": {
        "colab": {
          "base_uri": "https://localhost:8080/"
        },
        "id": "XQz21-teJ2T_",
        "outputId": "23605135-f819-451e-c685-3d26332ef4c9"
      },
      "execution_count": 312,
      "outputs": [
        {
          "output_type": "stream",
          "name": "stdout",
          "text": [
            "Drive already mounted at /content/drive; to attempt to forcibly remount, call drive.mount(\"/content/drive\", force_remount=True).\n"
          ]
        }
      ]
    },
    {
      "cell_type": "markdown",
      "source": [
        "#Data loading"
      ],
      "metadata": {
        "id": "bB_UoqHOVnFI"
      }
    },
    {
      "cell_type": "code",
      "source": [
        "df = pd.read_csv(dataset_path+\"/training_set_data_science.tsv\", delimiter=\"\\t\")"
      ],
      "metadata": {
        "id": "8CDIAoS_lQhE"
      },
      "execution_count": 313,
      "outputs": []
    },
    {
      "cell_type": "markdown",
      "source": [
        "The number of samples is obtained for each class"
      ],
      "metadata": {
        "id": "RSeOH_yxfA-B"
      }
    },
    {
      "cell_type": "code",
      "source": [
        "df.groupby(\"class\").count()"
      ],
      "metadata": {
        "colab": {
          "base_uri": "https://localhost:8080/",
          "height": 204
        },
        "id": "2mrkkemel6Ao",
        "outputId": "5ea6c125-d243-4052-d74d-e3816da29897"
      },
      "execution_count": 314,
      "outputs": [
        {
          "output_type": "execute_result",
          "data": {
            "text/plain": [
              "         id  var_1  var_2  var_3  var_4  var_5  var_6  var_7  var_8  var_9  \\\n",
              "class                                                                        \n",
              "0.0     111    111    111    111    111    111    111    111    111    111   \n",
              "0.5      54     54     54     54     54     54     54     54     54     54   \n",
              "1.0    1284   1284   1284   1284   1284   1284   1284   1284   1284   1284   \n",
              "\n",
              "       ...  var_65  var_66  var_67  var_68  var_69  var_70  var_71  var_72  \\\n",
              "class  ...                                                                   \n",
              "0.0    ...     111     111     111     111     111     111     111     111   \n",
              "0.5    ...      54      54      54      54      54      54      54      54   \n",
              "1.0    ...    1284    1284    1284    1284    1284    1284    1284    1284   \n",
              "\n",
              "       var_73  var_74  \n",
              "class                  \n",
              "0.0       111     111  \n",
              "0.5        54      54  \n",
              "1.0      1284    1284  \n",
              "\n",
              "[3 rows x 75 columns]"
            ],
            "text/html": [
              "\n",
              "  <div id=\"df-5b403a59-cb0c-4457-8e57-2e2b8c0d570e\" class=\"colab-df-container\">\n",
              "    <div>\n",
              "<style scoped>\n",
              "    .dataframe tbody tr th:only-of-type {\n",
              "        vertical-align: middle;\n",
              "    }\n",
              "\n",
              "    .dataframe tbody tr th {\n",
              "        vertical-align: top;\n",
              "    }\n",
              "\n",
              "    .dataframe thead th {\n",
              "        text-align: right;\n",
              "    }\n",
              "</style>\n",
              "<table border=\"1\" class=\"dataframe\">\n",
              "  <thead>\n",
              "    <tr style=\"text-align: right;\">\n",
              "      <th></th>\n",
              "      <th>id</th>\n",
              "      <th>var_1</th>\n",
              "      <th>var_2</th>\n",
              "      <th>var_3</th>\n",
              "      <th>var_4</th>\n",
              "      <th>var_5</th>\n",
              "      <th>var_6</th>\n",
              "      <th>var_7</th>\n",
              "      <th>var_8</th>\n",
              "      <th>var_9</th>\n",
              "      <th>...</th>\n",
              "      <th>var_65</th>\n",
              "      <th>var_66</th>\n",
              "      <th>var_67</th>\n",
              "      <th>var_68</th>\n",
              "      <th>var_69</th>\n",
              "      <th>var_70</th>\n",
              "      <th>var_71</th>\n",
              "      <th>var_72</th>\n",
              "      <th>var_73</th>\n",
              "      <th>var_74</th>\n",
              "    </tr>\n",
              "    <tr>\n",
              "      <th>class</th>\n",
              "      <th></th>\n",
              "      <th></th>\n",
              "      <th></th>\n",
              "      <th></th>\n",
              "      <th></th>\n",
              "      <th></th>\n",
              "      <th></th>\n",
              "      <th></th>\n",
              "      <th></th>\n",
              "      <th></th>\n",
              "      <th></th>\n",
              "      <th></th>\n",
              "      <th></th>\n",
              "      <th></th>\n",
              "      <th></th>\n",
              "      <th></th>\n",
              "      <th></th>\n",
              "      <th></th>\n",
              "      <th></th>\n",
              "      <th></th>\n",
              "      <th></th>\n",
              "    </tr>\n",
              "  </thead>\n",
              "  <tbody>\n",
              "    <tr>\n",
              "      <th>0.0</th>\n",
              "      <td>111</td>\n",
              "      <td>111</td>\n",
              "      <td>111</td>\n",
              "      <td>111</td>\n",
              "      <td>111</td>\n",
              "      <td>111</td>\n",
              "      <td>111</td>\n",
              "      <td>111</td>\n",
              "      <td>111</td>\n",
              "      <td>111</td>\n",
              "      <td>...</td>\n",
              "      <td>111</td>\n",
              "      <td>111</td>\n",
              "      <td>111</td>\n",
              "      <td>111</td>\n",
              "      <td>111</td>\n",
              "      <td>111</td>\n",
              "      <td>111</td>\n",
              "      <td>111</td>\n",
              "      <td>111</td>\n",
              "      <td>111</td>\n",
              "    </tr>\n",
              "    <tr>\n",
              "      <th>0.5</th>\n",
              "      <td>54</td>\n",
              "      <td>54</td>\n",
              "      <td>54</td>\n",
              "      <td>54</td>\n",
              "      <td>54</td>\n",
              "      <td>54</td>\n",
              "      <td>54</td>\n",
              "      <td>54</td>\n",
              "      <td>54</td>\n",
              "      <td>54</td>\n",
              "      <td>...</td>\n",
              "      <td>54</td>\n",
              "      <td>54</td>\n",
              "      <td>54</td>\n",
              "      <td>54</td>\n",
              "      <td>54</td>\n",
              "      <td>54</td>\n",
              "      <td>54</td>\n",
              "      <td>54</td>\n",
              "      <td>54</td>\n",
              "      <td>54</td>\n",
              "    </tr>\n",
              "    <tr>\n",
              "      <th>1.0</th>\n",
              "      <td>1284</td>\n",
              "      <td>1284</td>\n",
              "      <td>1284</td>\n",
              "      <td>1284</td>\n",
              "      <td>1284</td>\n",
              "      <td>1284</td>\n",
              "      <td>1284</td>\n",
              "      <td>1284</td>\n",
              "      <td>1284</td>\n",
              "      <td>1284</td>\n",
              "      <td>...</td>\n",
              "      <td>1284</td>\n",
              "      <td>1284</td>\n",
              "      <td>1284</td>\n",
              "      <td>1284</td>\n",
              "      <td>1284</td>\n",
              "      <td>1284</td>\n",
              "      <td>1284</td>\n",
              "      <td>1284</td>\n",
              "      <td>1284</td>\n",
              "      <td>1284</td>\n",
              "    </tr>\n",
              "  </tbody>\n",
              "</table>\n",
              "<p>3 rows × 75 columns</p>\n",
              "</div>\n",
              "    <div class=\"colab-df-buttons\">\n",
              "\n",
              "  <div class=\"colab-df-container\">\n",
              "    <button class=\"colab-df-convert\" onclick=\"convertToInteractive('df-5b403a59-cb0c-4457-8e57-2e2b8c0d570e')\"\n",
              "            title=\"Convert this dataframe to an interactive table.\"\n",
              "            style=\"display:none;\">\n",
              "\n",
              "  <svg xmlns=\"http://www.w3.org/2000/svg\" height=\"24px\" viewBox=\"0 -960 960 960\">\n",
              "    <path d=\"M120-120v-720h720v720H120Zm60-500h600v-160H180v160Zm220 220h160v-160H400v160Zm0 220h160v-160H400v160ZM180-400h160v-160H180v160Zm440 0h160v-160H620v160ZM180-180h160v-160H180v160Zm440 0h160v-160H620v160Z\"/>\n",
              "  </svg>\n",
              "    </button>\n",
              "\n",
              "  <style>\n",
              "    .colab-df-container {\n",
              "      display:flex;\n",
              "      gap: 12px;\n",
              "    }\n",
              "\n",
              "    .colab-df-convert {\n",
              "      background-color: #E8F0FE;\n",
              "      border: none;\n",
              "      border-radius: 50%;\n",
              "      cursor: pointer;\n",
              "      display: none;\n",
              "      fill: #1967D2;\n",
              "      height: 32px;\n",
              "      padding: 0 0 0 0;\n",
              "      width: 32px;\n",
              "    }\n",
              "\n",
              "    .colab-df-convert:hover {\n",
              "      background-color: #E2EBFA;\n",
              "      box-shadow: 0px 1px 2px rgba(60, 64, 67, 0.3), 0px 1px 3px 1px rgba(60, 64, 67, 0.15);\n",
              "      fill: #174EA6;\n",
              "    }\n",
              "\n",
              "    .colab-df-buttons div {\n",
              "      margin-bottom: 4px;\n",
              "    }\n",
              "\n",
              "    [theme=dark] .colab-df-convert {\n",
              "      background-color: #3B4455;\n",
              "      fill: #D2E3FC;\n",
              "    }\n",
              "\n",
              "    [theme=dark] .colab-df-convert:hover {\n",
              "      background-color: #434B5C;\n",
              "      box-shadow: 0px 1px 3px 1px rgba(0, 0, 0, 0.15);\n",
              "      filter: drop-shadow(0px 1px 2px rgba(0, 0, 0, 0.3));\n",
              "      fill: #FFFFFF;\n",
              "    }\n",
              "  </style>\n",
              "\n",
              "    <script>\n",
              "      const buttonEl =\n",
              "        document.querySelector('#df-5b403a59-cb0c-4457-8e57-2e2b8c0d570e button.colab-df-convert');\n",
              "      buttonEl.style.display =\n",
              "        google.colab.kernel.accessAllowed ? 'block' : 'none';\n",
              "\n",
              "      async function convertToInteractive(key) {\n",
              "        const element = document.querySelector('#df-5b403a59-cb0c-4457-8e57-2e2b8c0d570e');\n",
              "        const dataTable =\n",
              "          await google.colab.kernel.invokeFunction('convertToInteractive',\n",
              "                                                    [key], {});\n",
              "        if (!dataTable) return;\n",
              "\n",
              "        const docLinkHtml = 'Like what you see? Visit the ' +\n",
              "          '<a target=\"_blank\" href=https://colab.research.google.com/notebooks/data_table.ipynb>data table notebook</a>'\n",
              "          + ' to learn more about interactive tables.';\n",
              "        element.innerHTML = '';\n",
              "        dataTable['output_type'] = 'display_data';\n",
              "        await google.colab.output.renderOutput(dataTable, element);\n",
              "        const docLink = document.createElement('div');\n",
              "        docLink.innerHTML = docLinkHtml;\n",
              "        element.appendChild(docLink);\n",
              "      }\n",
              "    </script>\n",
              "  </div>\n",
              "\n",
              "\n",
              "<div id=\"df-94f96049-7371-481d-b51c-38f841458251\">\n",
              "  <button class=\"colab-df-quickchart\" onclick=\"quickchart('df-94f96049-7371-481d-b51c-38f841458251')\"\n",
              "            title=\"Suggest charts\"\n",
              "            style=\"display:none;\">\n",
              "\n",
              "<svg xmlns=\"http://www.w3.org/2000/svg\" height=\"24px\"viewBox=\"0 0 24 24\"\n",
              "     width=\"24px\">\n",
              "    <g>\n",
              "        <path d=\"M19 3H5c-1.1 0-2 .9-2 2v14c0 1.1.9 2 2 2h14c1.1 0 2-.9 2-2V5c0-1.1-.9-2-2-2zM9 17H7v-7h2v7zm4 0h-2V7h2v10zm4 0h-2v-4h2v4z\"/>\n",
              "    </g>\n",
              "</svg>\n",
              "  </button>\n",
              "\n",
              "<style>\n",
              "  .colab-df-quickchart {\n",
              "      --bg-color: #E8F0FE;\n",
              "      --fill-color: #1967D2;\n",
              "      --hover-bg-color: #E2EBFA;\n",
              "      --hover-fill-color: #174EA6;\n",
              "      --disabled-fill-color: #AAA;\n",
              "      --disabled-bg-color: #DDD;\n",
              "  }\n",
              "\n",
              "  [theme=dark] .colab-df-quickchart {\n",
              "      --bg-color: #3B4455;\n",
              "      --fill-color: #D2E3FC;\n",
              "      --hover-bg-color: #434B5C;\n",
              "      --hover-fill-color: #FFFFFF;\n",
              "      --disabled-bg-color: #3B4455;\n",
              "      --disabled-fill-color: #666;\n",
              "  }\n",
              "\n",
              "  .colab-df-quickchart {\n",
              "    background-color: var(--bg-color);\n",
              "    border: none;\n",
              "    border-radius: 50%;\n",
              "    cursor: pointer;\n",
              "    display: none;\n",
              "    fill: var(--fill-color);\n",
              "    height: 32px;\n",
              "    padding: 0;\n",
              "    width: 32px;\n",
              "  }\n",
              "\n",
              "  .colab-df-quickchart:hover {\n",
              "    background-color: var(--hover-bg-color);\n",
              "    box-shadow: 0 1px 2px rgba(60, 64, 67, 0.3), 0 1px 3px 1px rgba(60, 64, 67, 0.15);\n",
              "    fill: var(--button-hover-fill-color);\n",
              "  }\n",
              "\n",
              "  .colab-df-quickchart-complete:disabled,\n",
              "  .colab-df-quickchart-complete:disabled:hover {\n",
              "    background-color: var(--disabled-bg-color);\n",
              "    fill: var(--disabled-fill-color);\n",
              "    box-shadow: none;\n",
              "  }\n",
              "\n",
              "  .colab-df-spinner {\n",
              "    border: 2px solid var(--fill-color);\n",
              "    border-color: transparent;\n",
              "    border-bottom-color: var(--fill-color);\n",
              "    animation:\n",
              "      spin 1s steps(1) infinite;\n",
              "  }\n",
              "\n",
              "  @keyframes spin {\n",
              "    0% {\n",
              "      border-color: transparent;\n",
              "      border-bottom-color: var(--fill-color);\n",
              "      border-left-color: var(--fill-color);\n",
              "    }\n",
              "    20% {\n",
              "      border-color: transparent;\n",
              "      border-left-color: var(--fill-color);\n",
              "      border-top-color: var(--fill-color);\n",
              "    }\n",
              "    30% {\n",
              "      border-color: transparent;\n",
              "      border-left-color: var(--fill-color);\n",
              "      border-top-color: var(--fill-color);\n",
              "      border-right-color: var(--fill-color);\n",
              "    }\n",
              "    40% {\n",
              "      border-color: transparent;\n",
              "      border-right-color: var(--fill-color);\n",
              "      border-top-color: var(--fill-color);\n",
              "    }\n",
              "    60% {\n",
              "      border-color: transparent;\n",
              "      border-right-color: var(--fill-color);\n",
              "    }\n",
              "    80% {\n",
              "      border-color: transparent;\n",
              "      border-right-color: var(--fill-color);\n",
              "      border-bottom-color: var(--fill-color);\n",
              "    }\n",
              "    90% {\n",
              "      border-color: transparent;\n",
              "      border-bottom-color: var(--fill-color);\n",
              "    }\n",
              "  }\n",
              "</style>\n",
              "\n",
              "  <script>\n",
              "    async function quickchart(key) {\n",
              "      const quickchartButtonEl =\n",
              "        document.querySelector('#' + key + ' button');\n",
              "      quickchartButtonEl.disabled = true;  // To prevent multiple clicks.\n",
              "      quickchartButtonEl.classList.add('colab-df-spinner');\n",
              "      try {\n",
              "        const charts = await google.colab.kernel.invokeFunction(\n",
              "            'suggestCharts', [key], {});\n",
              "      } catch (error) {\n",
              "        console.error('Error during call to suggestCharts:', error);\n",
              "      }\n",
              "      quickchartButtonEl.classList.remove('colab-df-spinner');\n",
              "      quickchartButtonEl.classList.add('colab-df-quickchart-complete');\n",
              "    }\n",
              "    (() => {\n",
              "      let quickchartButtonEl =\n",
              "        document.querySelector('#df-94f96049-7371-481d-b51c-38f841458251 button');\n",
              "      quickchartButtonEl.style.display =\n",
              "        google.colab.kernel.accessAllowed ? 'block' : 'none';\n",
              "    })();\n",
              "  </script>\n",
              "</div>\n",
              "    </div>\n",
              "  </div>\n"
            ]
          },
          "metadata": {},
          "execution_count": 314
        }
      ]
    },
    {
      "cell_type": "markdown",
      "source": [
        "The dataset is highly imbalanced, therefore some solutions with underrepresented classes could be considered"
      ],
      "metadata": {
        "id": "yT_D8Ai3fGKM"
      }
    },
    {
      "cell_type": "code",
      "source": [
        "df.isnull().sum().unique()"
      ],
      "metadata": {
        "colab": {
          "base_uri": "https://localhost:8080/"
        },
        "id": "JCKanX9qoLqo",
        "outputId": "14dd7ccb-93da-46b2-b242-a673425e92f4"
      },
      "execution_count": 315,
      "outputs": [
        {
          "output_type": "execute_result",
          "data": {
            "text/plain": [
              "array([0])"
            ]
          },
          "metadata": {},
          "execution_count": 315
        }
      ]
    },
    {
      "cell_type": "markdown",
      "source": [
        "No missing values are found in the datasaet, so no further actions are required"
      ],
      "metadata": {
        "id": "J0AK7VrPfOlY"
      }
    },
    {
      "cell_type": "code",
      "source": [
        "for i in df.columns:\n",
        "  print(df[i].dtypes)"
      ],
      "metadata": {
        "id": "KsblXpStfXsg",
        "outputId": "335af122-fa83-4746-a430-9917c0e5cb92",
        "colab": {
          "base_uri": "https://localhost:8080/"
        }
      },
      "execution_count": 316,
      "outputs": [
        {
          "output_type": "stream",
          "name": "stdout",
          "text": [
            "float64\n",
            "int64\n",
            "float64\n",
            "float64\n",
            "float64\n",
            "float64\n",
            "int64\n",
            "int64\n",
            "float64\n",
            "float64\n",
            "float64\n",
            "float64\n",
            "float64\n",
            "int64\n",
            "int64\n",
            "float64\n",
            "float64\n",
            "float64\n",
            "float64\n",
            "float64\n",
            "int64\n",
            "int64\n",
            "float64\n",
            "float64\n",
            "float64\n",
            "float64\n",
            "float64\n",
            "int64\n",
            "int64\n",
            "int64\n",
            "float64\n",
            "float64\n",
            "float64\n",
            "float64\n",
            "int64\n",
            "int64\n",
            "float64\n",
            "float64\n",
            "float64\n",
            "float64\n",
            "float64\n",
            "int64\n",
            "int64\n",
            "float64\n",
            "float64\n",
            "float64\n",
            "float64\n",
            "float64\n",
            "int64\n",
            "int64\n",
            "float64\n",
            "int64\n",
            "int64\n",
            "float64\n",
            "int64\n",
            "int64\n",
            "int64\n",
            "float64\n",
            "int64\n",
            "int64\n",
            "int64\n",
            "int64\n",
            "float64\n",
            "int64\n",
            "int64\n",
            "int64\n",
            "float64\n",
            "int64\n",
            "int64\n",
            "float64\n",
            "float64\n",
            "int64\n",
            "float64\n",
            "float64\n",
            "float64\n",
            "float64\n"
          ]
        }
      ]
    },
    {
      "cell_type": "markdown",
      "source": [
        "All the categories are numerical"
      ],
      "metadata": {
        "id": "giPP8MQJfW5J"
      }
    },
    {
      "cell_type": "code",
      "source": [
        "df['class']=df[\"class\"].replace({0:\"fail\",0.5:\"low\",1.0:\"success\"})"
      ],
      "metadata": {
        "id": "6uvFfCfQ5lDA"
      },
      "execution_count": 317,
      "outputs": []
    },
    {
      "cell_type": "code",
      "source": [
        "df.groupby(\"class\").count()"
      ],
      "metadata": {
        "colab": {
          "base_uri": "https://localhost:8080/",
          "height": 204
        },
        "id": "oXxJ38Ws6Pcd",
        "outputId": "ed994067-8cc5-4fd4-cb15-9cad54ecab18"
      },
      "execution_count": 318,
      "outputs": [
        {
          "output_type": "execute_result",
          "data": {
            "text/plain": [
              "           id  var_1  var_2  var_3  var_4  var_5  var_6  var_7  var_8  var_9  \\\n",
              "class                                                                          \n",
              "fail      111    111    111    111    111    111    111    111    111    111   \n",
              "low        54     54     54     54     54     54     54     54     54     54   \n",
              "success  1284   1284   1284   1284   1284   1284   1284   1284   1284   1284   \n",
              "\n",
              "         ...  var_65  var_66  var_67  var_68  var_69  var_70  var_71  var_72  \\\n",
              "class    ...                                                                   \n",
              "fail     ...     111     111     111     111     111     111     111     111   \n",
              "low      ...      54      54      54      54      54      54      54      54   \n",
              "success  ...    1284    1284    1284    1284    1284    1284    1284    1284   \n",
              "\n",
              "         var_73  var_74  \n",
              "class                    \n",
              "fail        111     111  \n",
              "low          54      54  \n",
              "success    1284    1284  \n",
              "\n",
              "[3 rows x 75 columns]"
            ],
            "text/html": [
              "\n",
              "  <div id=\"df-f4149c61-ff5a-42f5-8345-0d774bbfbcd5\" class=\"colab-df-container\">\n",
              "    <div>\n",
              "<style scoped>\n",
              "    .dataframe tbody tr th:only-of-type {\n",
              "        vertical-align: middle;\n",
              "    }\n",
              "\n",
              "    .dataframe tbody tr th {\n",
              "        vertical-align: top;\n",
              "    }\n",
              "\n",
              "    .dataframe thead th {\n",
              "        text-align: right;\n",
              "    }\n",
              "</style>\n",
              "<table border=\"1\" class=\"dataframe\">\n",
              "  <thead>\n",
              "    <tr style=\"text-align: right;\">\n",
              "      <th></th>\n",
              "      <th>id</th>\n",
              "      <th>var_1</th>\n",
              "      <th>var_2</th>\n",
              "      <th>var_3</th>\n",
              "      <th>var_4</th>\n",
              "      <th>var_5</th>\n",
              "      <th>var_6</th>\n",
              "      <th>var_7</th>\n",
              "      <th>var_8</th>\n",
              "      <th>var_9</th>\n",
              "      <th>...</th>\n",
              "      <th>var_65</th>\n",
              "      <th>var_66</th>\n",
              "      <th>var_67</th>\n",
              "      <th>var_68</th>\n",
              "      <th>var_69</th>\n",
              "      <th>var_70</th>\n",
              "      <th>var_71</th>\n",
              "      <th>var_72</th>\n",
              "      <th>var_73</th>\n",
              "      <th>var_74</th>\n",
              "    </tr>\n",
              "    <tr>\n",
              "      <th>class</th>\n",
              "      <th></th>\n",
              "      <th></th>\n",
              "      <th></th>\n",
              "      <th></th>\n",
              "      <th></th>\n",
              "      <th></th>\n",
              "      <th></th>\n",
              "      <th></th>\n",
              "      <th></th>\n",
              "      <th></th>\n",
              "      <th></th>\n",
              "      <th></th>\n",
              "      <th></th>\n",
              "      <th></th>\n",
              "      <th></th>\n",
              "      <th></th>\n",
              "      <th></th>\n",
              "      <th></th>\n",
              "      <th></th>\n",
              "      <th></th>\n",
              "      <th></th>\n",
              "    </tr>\n",
              "  </thead>\n",
              "  <tbody>\n",
              "    <tr>\n",
              "      <th>fail</th>\n",
              "      <td>111</td>\n",
              "      <td>111</td>\n",
              "      <td>111</td>\n",
              "      <td>111</td>\n",
              "      <td>111</td>\n",
              "      <td>111</td>\n",
              "      <td>111</td>\n",
              "      <td>111</td>\n",
              "      <td>111</td>\n",
              "      <td>111</td>\n",
              "      <td>...</td>\n",
              "      <td>111</td>\n",
              "      <td>111</td>\n",
              "      <td>111</td>\n",
              "      <td>111</td>\n",
              "      <td>111</td>\n",
              "      <td>111</td>\n",
              "      <td>111</td>\n",
              "      <td>111</td>\n",
              "      <td>111</td>\n",
              "      <td>111</td>\n",
              "    </tr>\n",
              "    <tr>\n",
              "      <th>low</th>\n",
              "      <td>54</td>\n",
              "      <td>54</td>\n",
              "      <td>54</td>\n",
              "      <td>54</td>\n",
              "      <td>54</td>\n",
              "      <td>54</td>\n",
              "      <td>54</td>\n",
              "      <td>54</td>\n",
              "      <td>54</td>\n",
              "      <td>54</td>\n",
              "      <td>...</td>\n",
              "      <td>54</td>\n",
              "      <td>54</td>\n",
              "      <td>54</td>\n",
              "      <td>54</td>\n",
              "      <td>54</td>\n",
              "      <td>54</td>\n",
              "      <td>54</td>\n",
              "      <td>54</td>\n",
              "      <td>54</td>\n",
              "      <td>54</td>\n",
              "    </tr>\n",
              "    <tr>\n",
              "      <th>success</th>\n",
              "      <td>1284</td>\n",
              "      <td>1284</td>\n",
              "      <td>1284</td>\n",
              "      <td>1284</td>\n",
              "      <td>1284</td>\n",
              "      <td>1284</td>\n",
              "      <td>1284</td>\n",
              "      <td>1284</td>\n",
              "      <td>1284</td>\n",
              "      <td>1284</td>\n",
              "      <td>...</td>\n",
              "      <td>1284</td>\n",
              "      <td>1284</td>\n",
              "      <td>1284</td>\n",
              "      <td>1284</td>\n",
              "      <td>1284</td>\n",
              "      <td>1284</td>\n",
              "      <td>1284</td>\n",
              "      <td>1284</td>\n",
              "      <td>1284</td>\n",
              "      <td>1284</td>\n",
              "    </tr>\n",
              "  </tbody>\n",
              "</table>\n",
              "<p>3 rows × 75 columns</p>\n",
              "</div>\n",
              "    <div class=\"colab-df-buttons\">\n",
              "\n",
              "  <div class=\"colab-df-container\">\n",
              "    <button class=\"colab-df-convert\" onclick=\"convertToInteractive('df-f4149c61-ff5a-42f5-8345-0d774bbfbcd5')\"\n",
              "            title=\"Convert this dataframe to an interactive table.\"\n",
              "            style=\"display:none;\">\n",
              "\n",
              "  <svg xmlns=\"http://www.w3.org/2000/svg\" height=\"24px\" viewBox=\"0 -960 960 960\">\n",
              "    <path d=\"M120-120v-720h720v720H120Zm60-500h600v-160H180v160Zm220 220h160v-160H400v160Zm0 220h160v-160H400v160ZM180-400h160v-160H180v160Zm440 0h160v-160H620v160ZM180-180h160v-160H180v160Zm440 0h160v-160H620v160Z\"/>\n",
              "  </svg>\n",
              "    </button>\n",
              "\n",
              "  <style>\n",
              "    .colab-df-container {\n",
              "      display:flex;\n",
              "      gap: 12px;\n",
              "    }\n",
              "\n",
              "    .colab-df-convert {\n",
              "      background-color: #E8F0FE;\n",
              "      border: none;\n",
              "      border-radius: 50%;\n",
              "      cursor: pointer;\n",
              "      display: none;\n",
              "      fill: #1967D2;\n",
              "      height: 32px;\n",
              "      padding: 0 0 0 0;\n",
              "      width: 32px;\n",
              "    }\n",
              "\n",
              "    .colab-df-convert:hover {\n",
              "      background-color: #E2EBFA;\n",
              "      box-shadow: 0px 1px 2px rgba(60, 64, 67, 0.3), 0px 1px 3px 1px rgba(60, 64, 67, 0.15);\n",
              "      fill: #174EA6;\n",
              "    }\n",
              "\n",
              "    .colab-df-buttons div {\n",
              "      margin-bottom: 4px;\n",
              "    }\n",
              "\n",
              "    [theme=dark] .colab-df-convert {\n",
              "      background-color: #3B4455;\n",
              "      fill: #D2E3FC;\n",
              "    }\n",
              "\n",
              "    [theme=dark] .colab-df-convert:hover {\n",
              "      background-color: #434B5C;\n",
              "      box-shadow: 0px 1px 3px 1px rgba(0, 0, 0, 0.15);\n",
              "      filter: drop-shadow(0px 1px 2px rgba(0, 0, 0, 0.3));\n",
              "      fill: #FFFFFF;\n",
              "    }\n",
              "  </style>\n",
              "\n",
              "    <script>\n",
              "      const buttonEl =\n",
              "        document.querySelector('#df-f4149c61-ff5a-42f5-8345-0d774bbfbcd5 button.colab-df-convert');\n",
              "      buttonEl.style.display =\n",
              "        google.colab.kernel.accessAllowed ? 'block' : 'none';\n",
              "\n",
              "      async function convertToInteractive(key) {\n",
              "        const element = document.querySelector('#df-f4149c61-ff5a-42f5-8345-0d774bbfbcd5');\n",
              "        const dataTable =\n",
              "          await google.colab.kernel.invokeFunction('convertToInteractive',\n",
              "                                                    [key], {});\n",
              "        if (!dataTable) return;\n",
              "\n",
              "        const docLinkHtml = 'Like what you see? Visit the ' +\n",
              "          '<a target=\"_blank\" href=https://colab.research.google.com/notebooks/data_table.ipynb>data table notebook</a>'\n",
              "          + ' to learn more about interactive tables.';\n",
              "        element.innerHTML = '';\n",
              "        dataTable['output_type'] = 'display_data';\n",
              "        await google.colab.output.renderOutput(dataTable, element);\n",
              "        const docLink = document.createElement('div');\n",
              "        docLink.innerHTML = docLinkHtml;\n",
              "        element.appendChild(docLink);\n",
              "      }\n",
              "    </script>\n",
              "  </div>\n",
              "\n",
              "\n",
              "<div id=\"df-fbb4d081-864d-46b0-bded-8c9035f73fda\">\n",
              "  <button class=\"colab-df-quickchart\" onclick=\"quickchart('df-fbb4d081-864d-46b0-bded-8c9035f73fda')\"\n",
              "            title=\"Suggest charts\"\n",
              "            style=\"display:none;\">\n",
              "\n",
              "<svg xmlns=\"http://www.w3.org/2000/svg\" height=\"24px\"viewBox=\"0 0 24 24\"\n",
              "     width=\"24px\">\n",
              "    <g>\n",
              "        <path d=\"M19 3H5c-1.1 0-2 .9-2 2v14c0 1.1.9 2 2 2h14c1.1 0 2-.9 2-2V5c0-1.1-.9-2-2-2zM9 17H7v-7h2v7zm4 0h-2V7h2v10zm4 0h-2v-4h2v4z\"/>\n",
              "    </g>\n",
              "</svg>\n",
              "  </button>\n",
              "\n",
              "<style>\n",
              "  .colab-df-quickchart {\n",
              "      --bg-color: #E8F0FE;\n",
              "      --fill-color: #1967D2;\n",
              "      --hover-bg-color: #E2EBFA;\n",
              "      --hover-fill-color: #174EA6;\n",
              "      --disabled-fill-color: #AAA;\n",
              "      --disabled-bg-color: #DDD;\n",
              "  }\n",
              "\n",
              "  [theme=dark] .colab-df-quickchart {\n",
              "      --bg-color: #3B4455;\n",
              "      --fill-color: #D2E3FC;\n",
              "      --hover-bg-color: #434B5C;\n",
              "      --hover-fill-color: #FFFFFF;\n",
              "      --disabled-bg-color: #3B4455;\n",
              "      --disabled-fill-color: #666;\n",
              "  }\n",
              "\n",
              "  .colab-df-quickchart {\n",
              "    background-color: var(--bg-color);\n",
              "    border: none;\n",
              "    border-radius: 50%;\n",
              "    cursor: pointer;\n",
              "    display: none;\n",
              "    fill: var(--fill-color);\n",
              "    height: 32px;\n",
              "    padding: 0;\n",
              "    width: 32px;\n",
              "  }\n",
              "\n",
              "  .colab-df-quickchart:hover {\n",
              "    background-color: var(--hover-bg-color);\n",
              "    box-shadow: 0 1px 2px rgba(60, 64, 67, 0.3), 0 1px 3px 1px rgba(60, 64, 67, 0.15);\n",
              "    fill: var(--button-hover-fill-color);\n",
              "  }\n",
              "\n",
              "  .colab-df-quickchart-complete:disabled,\n",
              "  .colab-df-quickchart-complete:disabled:hover {\n",
              "    background-color: var(--disabled-bg-color);\n",
              "    fill: var(--disabled-fill-color);\n",
              "    box-shadow: none;\n",
              "  }\n",
              "\n",
              "  .colab-df-spinner {\n",
              "    border: 2px solid var(--fill-color);\n",
              "    border-color: transparent;\n",
              "    border-bottom-color: var(--fill-color);\n",
              "    animation:\n",
              "      spin 1s steps(1) infinite;\n",
              "  }\n",
              "\n",
              "  @keyframes spin {\n",
              "    0% {\n",
              "      border-color: transparent;\n",
              "      border-bottom-color: var(--fill-color);\n",
              "      border-left-color: var(--fill-color);\n",
              "    }\n",
              "    20% {\n",
              "      border-color: transparent;\n",
              "      border-left-color: var(--fill-color);\n",
              "      border-top-color: var(--fill-color);\n",
              "    }\n",
              "    30% {\n",
              "      border-color: transparent;\n",
              "      border-left-color: var(--fill-color);\n",
              "      border-top-color: var(--fill-color);\n",
              "      border-right-color: var(--fill-color);\n",
              "    }\n",
              "    40% {\n",
              "      border-color: transparent;\n",
              "      border-right-color: var(--fill-color);\n",
              "      border-top-color: var(--fill-color);\n",
              "    }\n",
              "    60% {\n",
              "      border-color: transparent;\n",
              "      border-right-color: var(--fill-color);\n",
              "    }\n",
              "    80% {\n",
              "      border-color: transparent;\n",
              "      border-right-color: var(--fill-color);\n",
              "      border-bottom-color: var(--fill-color);\n",
              "    }\n",
              "    90% {\n",
              "      border-color: transparent;\n",
              "      border-bottom-color: var(--fill-color);\n",
              "    }\n",
              "  }\n",
              "</style>\n",
              "\n",
              "  <script>\n",
              "    async function quickchart(key) {\n",
              "      const quickchartButtonEl =\n",
              "        document.querySelector('#' + key + ' button');\n",
              "      quickchartButtonEl.disabled = true;  // To prevent multiple clicks.\n",
              "      quickchartButtonEl.classList.add('colab-df-spinner');\n",
              "      try {\n",
              "        const charts = await google.colab.kernel.invokeFunction(\n",
              "            'suggestCharts', [key], {});\n",
              "      } catch (error) {\n",
              "        console.error('Error during call to suggestCharts:', error);\n",
              "      }\n",
              "      quickchartButtonEl.classList.remove('colab-df-spinner');\n",
              "      quickchartButtonEl.classList.add('colab-df-quickchart-complete');\n",
              "    }\n",
              "    (() => {\n",
              "      let quickchartButtonEl =\n",
              "        document.querySelector('#df-fbb4d081-864d-46b0-bded-8c9035f73fda button');\n",
              "      quickchartButtonEl.style.display =\n",
              "        google.colab.kernel.accessAllowed ? 'block' : 'none';\n",
              "    })();\n",
              "  </script>\n",
              "</div>\n",
              "    </div>\n",
              "  </div>\n"
            ]
          },
          "metadata": {},
          "execution_count": 318
        }
      ]
    },
    {
      "cell_type": "code",
      "source": [
        "df.head()\n",
        "X=np.array(df.drop([\"class\",\"id\"],axis=1))"
      ],
      "metadata": {
        "id": "TE2vrJU03qES"
      },
      "execution_count": 319,
      "outputs": []
    },
    {
      "cell_type": "code",
      "source": [
        "y = np.array(df[\"class\"])"
      ],
      "metadata": {
        "id": "MyLLTbWT4OVB"
      },
      "execution_count": 320,
      "outputs": []
    },
    {
      "cell_type": "markdown",
      "source": [
        "#1st iteration\n"
      ],
      "metadata": {
        "id": "OmX2VlOEVr-9"
      }
    },
    {
      "cell_type": "markdown",
      "source": [
        "First a set of classifiers are developed with all the classes"
      ],
      "metadata": {
        "id": "w_ikaf9aJu4H"
      }
    },
    {
      "cell_type": "markdown",
      "source": [
        "The k-fold technique is used to identify the most promising and robust technique before the test with production data (the test dataset provided)"
      ],
      "metadata": {
        "id": "u0e-_QeoEGwp"
      }
    },
    {
      "cell_type": "code",
      "source": [
        "from sklearn.model_selection import StratifiedKFold\n",
        "skf = StratifiedKFold(n_splits=5)\n",
        "skf.get_n_splits(X, y)\n",
        "print(skf)"
      ],
      "metadata": {
        "id": "cqhqhSgd4Ud5",
        "colab": {
          "base_uri": "https://localhost:8080/"
        },
        "outputId": "cf841de3-d6ab-439c-8953-a26b18785157"
      },
      "execution_count": 321,
      "outputs": [
        {
          "output_type": "stream",
          "name": "stdout",
          "text": [
            "StratifiedKFold(n_splits=5, random_state=None, shuffle=False)\n"
          ]
        }
      ]
    },
    {
      "cell_type": "markdown",
      "source": [
        "considering the high number of variables, the first choice is to use SVM, to use its capabilities of linear separation of data in high dimensionality"
      ],
      "metadata": {
        "id": "Exktkjl_EQh3"
      }
    },
    {
      "cell_type": "code",
      "source": [
        "clf = make_pipeline(StandardScaler(), LinearSVC(dual=False,\n",
        "                                                random_state=0, tol=1e-5))\n",
        "labels = [\"success\",\"low\",\"fail\"]\n",
        "results={\"SVM\":{}}\n",
        "cm=np.zeros((5,len(labels),len(labels)))\n",
        "for i, (train_index, test_index) in enumerate(skf.split(X, y)):\n",
        "  x_train = X[train_index]\n",
        "  y_train = y[train_index]\n",
        "  x_test = X[test_index]\n",
        "  y_test = y[test_index]\n",
        "  clf.fit(x_train, y_train)\n",
        "  y_pred = clf.predict(x_test)\n",
        "  precision, recall, fscore, support = precision_recall_fscore_support(y_test,y_pred, labels=labels)\n",
        "  fold = \"Fold_\"+str(i)\n",
        "  results[\"SVM\"][fold]={}\n",
        "  for j in range(len(labels)):\n",
        "    results[\"SVM\"][fold][labels[j]] = {\"Precision\":precision[j],\n",
        "                          \"Recall\":recall[j],\n",
        "                          \"FScore\":fscore[j],\n",
        "                          \"Support\":support[j]\n",
        "                                }\n",
        "  cm[i]=confusion_matrix(y_test, y_pred, labels=labels)\n",
        "\n",
        "cm=np.average(cm,axis=0)\n",
        "disp = ConfusionMatrixDisplay(confusion_matrix=cm, display_labels=labels)\n",
        "disp.plot()\n",
        "plt.show()\n",
        "print(results)"
      ],
      "metadata": {
        "colab": {
          "base_uri": "https://localhost:8080/",
          "height": 525
        },
        "id": "z7YMmeGfRUVi",
        "outputId": "d70e5802-64ce-42e1-f588-5cb6ca08f510"
      },
      "execution_count": 322,
      "outputs": [
        {
          "output_type": "stream",
          "name": "stderr",
          "text": [
            "/usr/local/lib/python3.10/dist-packages/sklearn/metrics/_classification.py:1344: UndefinedMetricWarning: Precision and F-score are ill-defined and being set to 0.0 in labels with no predicted samples. Use `zero_division` parameter to control this behavior.\n",
            "  _warn_prf(average, modifier, msg_start, len(result))\n"
          ]
        },
        {
          "output_type": "display_data",
          "data": {
            "text/plain": [
              "<Figure size 640x480 with 2 Axes>"
            ],
            "image/png": "[encoded data removed]"
          },
          "metadata": {}
        },
        {
          "output_type": "stream",
          "name": "stdout",
          "text": [
            "{'SVM': {'Fold_0': {'success': {'Precision': 0.9296296296296296, 'Recall': 0.9766536964980544, 'FScore': 0.9525616698292219, 'Support': 257}, 'low': {'Precision': 0.0, 'Recall': 0.0, 'FScore': 0.0, 'Support': 11}, 'fail': {'Precision': 0.6875, 'Recall': 0.5, 'FScore': 0.5789473684210527, 'Support': 22}}, 'Fold_1': {'success': {'Precision': 0.9609375, 'Recall': 0.9571984435797666, 'FScore': 0.9590643274853801, 'Support': 257}, 'low': {'Precision': 0.3333333333333333, 'Recall': 0.2727272727272727, 'FScore': 0.3, 'Support': 11}, 'fail': {'Precision': 0.64, 'Recall': 0.7272727272727273, 'FScore': 0.6808510638297872, 'Support': 22}}, 'Fold_2': {'success': {'Precision': 0.933579335793358, 'Recall': 0.9844357976653697, 'FScore': 0.9583333333333334, 'Support': 257}, 'low': {'Precision': 0.0, 'Recall': 0.0, 'FScore': 0.0, 'Support': 11}, 'fail': {'Precision': 0.631578947368421, 'Recall': 0.5454545454545454, 'FScore': 0.5853658536585366, 'Support': 22}}, 'Fold_3': {'success': {'Precision': 0.9233576642335767, 'Recall': 0.9844357976653697, 'FScore': 0.9529190207156308, 'Support': 257}, 'low': {'Precision': 0.0, 'Recall': 0.0, 'FScore': 0.0, 'Support': 11}, 'fail': {'Precision': 0.8, 'Recall': 0.5454545454545454, 'FScore': 0.6486486486486486, 'Support': 22}}, 'Fold_4': {'success': {'Precision': 0.9440298507462687, 'Recall': 0.98828125, 'FScore': 0.9656488549618321, 'Support': 256}, 'low': {'Precision': 0.5, 'Recall': 0.1, 'FScore': 0.16666666666666669, 'Support': 10}, 'fail': {'Precision': 0.6842105263157895, 'Recall': 0.5652173913043478, 'FScore': 0.6190476190476191, 'Support': 23}}}}\n"
          ]
        }
      ]
    },
    {
      "cell_type": "markdown",
      "source": [
        "Considering the need of reducing false positives to reduce the impact on the production, the Recall in the fail class shall be considered as prioritary and therefore is analyzed"
      ],
      "metadata": {
        "id": "BSaQvM6uFCsQ"
      }
    },
    {
      "cell_type": "code",
      "source": [
        "recalls={\"SVM\":[]}\n",
        "for key in results[\"SVM\"]:\n",
        "  recalls[\"SVM\"].append(results[\"SVM\"][key][\"fail\"][\"Recall\"])"
      ],
      "metadata": {
        "id": "-psAAeuJAkAS"
      },
      "execution_count": 226,
      "outputs": []
    },
    {
      "cell_type": "markdown",
      "source": [
        "to improve the performance in underrepresented categories, the SMOTE technique is tested"
      ],
      "metadata": {
        "id": "373jWOREFtGz"
      }
    },
    {
      "cell_type": "code",
      "source": [
        "resampler = SMOTE(sampling_strategy=\"not majority\", random_state=42)"
      ],
      "metadata": {
        "id": "EaPiUbwHU-tk"
      },
      "execution_count": 227,
      "outputs": []
    },
    {
      "cell_type": "code",
      "source": [
        "clf = make_pipeline(StandardScaler(), LinearSVC(dual=False,\n",
        "                                                random_state=0, tol=1e-5))\n",
        "results[\"SVM_RES\"]={}\n",
        "cm=np.zeros((5,len(labels),len(labels)))\n",
        "for i, (train_index, test_index) in enumerate(skf.split(X, y)):\n",
        "  x_train = X[train_index]\n",
        "  y_train = y[train_index]\n",
        "  x_test = X[test_index]\n",
        "  y_test = y[test_index]\n",
        "  x_res, y_res = resampler.fit_resample(x_train,y_train)\n",
        "  clf.fit(x_res, y_res)\n",
        "  y_pred = clf.predict(x_test)\n",
        "  precision, recall, fscore, support = precision_recall_fscore_support(y_test,y_pred, labels=labels)\n",
        "  fold = \"Fold_\"+str(i)\n",
        "  results[\"SVM_RES\"][fold]={}\n",
        "  for j in range(len(labels)):\n",
        "    results[\"SVM_RES\"][fold][labels[j]] = {\"Precision\":precision[j],\n",
        "                          \"Recall\":recall[j],\n",
        "                          \"FScore\":fscore[j],\n",
        "                          \"Support\":support[j]\n",
        "                                }\n",
        "  cm[i]=confusion_matrix(y_test, y_pred, labels=labels)\n",
        "\n",
        "cm=np.average(cm,axis=0)\n",
        "disp = ConfusionMatrixDisplay(confusion_matrix=cm, display_labels=labels)\n",
        "disp.plot()\n",
        "plt.show()\n",
        "print(results)\n",
        "recalls[\"SVM_RES\"]=[]\n",
        "for key in results[\"SVM_RES\"]:\n",
        "  recalls[\"SVM_RES\"].append(results[\"SVM_RES\"][key][\"fail\"][\"Recall\"])"
      ],
      "metadata": {
        "colab": {
          "base_uri": "https://localhost:8080/",
          "height": 486
        },
        "id": "2UBeoCGGWj50",
        "outputId": "9ca96636-709b-4fa9-cd1e-4d2bcdebda73"
      },
      "execution_count": 326,
      "outputs": [
        {
          "output_type": "display_data",
          "data": {
            "text/plain": [
              "<Figure size 640x480 with 2 Axes>"
            ],
            "image/png": "[encoded data removed]"
          },
          "metadata": {}
        },
        {
          "output_type": "stream",
          "name": "stdout",
          "text": [
            "{'SVM': {'Fold_0': {'success': {'Precision': 0.9296296296296296, 'Recall': 0.9766536964980544, 'FScore': 0.9525616698292219, 'Support': 257}, 'low': {'Precision': 0.0, 'Recall': 0.0, 'FScore': 0.0, 'Support': 11}, 'fail': {'Precision': 0.6875, 'Recall': 0.5, 'FScore': 0.5789473684210527, 'Support': 22}}, 'Fold_1': {'success': {'Precision': 0.9609375, 'Recall': 0.9571984435797666, 'FScore': 0.9590643274853801, 'Support': 257}, 'low': {'Precision': 0.3333333333333333, 'Recall': 0.2727272727272727, 'FScore': 0.3, 'Support': 11}, 'fail': {'Precision': 0.64, 'Recall': 0.7272727272727273, 'FScore': 0.6808510638297872, 'Support': 22}}, 'Fold_2': {'success': {'Precision': 0.933579335793358, 'Recall': 0.9844357976653697, 'FScore': 0.9583333333333334, 'Support': 257}, 'low': {'Precision': 0.0, 'Recall': 0.0, 'FScore': 0.0, 'Support': 11}, 'fail': {'Precision': 0.631578947368421, 'Recall': 0.5454545454545454, 'FScore': 0.5853658536585366, 'Support': 22}}, 'Fold_3': {'success': {'Precision': 0.9233576642335767, 'Recall': 0.9844357976653697, 'FScore': 0.9529190207156308, 'Support': 257}, 'low': {'Precision': 0.0, 'Recall': 0.0, 'FScore': 0.0, 'Support': 11}, 'fail': {'Precision': 0.8, 'Recall': 0.5454545454545454, 'FScore': 0.6486486486486486, 'Support': 22}}, 'Fold_4': {'success': {'Precision': 0.9440298507462687, 'Recall': 0.98828125, 'FScore': 0.9656488549618321, 'Support': 256}, 'low': {'Precision': 0.5, 'Recall': 0.1, 'FScore': 0.16666666666666669, 'Support': 10}, 'fail': {'Precision': 0.6842105263157895, 'Recall': 0.5652173913043478, 'FScore': 0.6190476190476191, 'Support': 23}}}, 'SVM_RES': {'Fold_0': {'success': {'Precision': 0.9437229437229437, 'Recall': 0.8482490272373541, 'FScore': 0.8934426229508198, 'Support': 257}, 'low': {'Precision': 0.03125, 'Recall': 0.09090909090909091, 'FScore': 0.046511627906976744, 'Support': 11}, 'fail': {'Precision': 0.48148148148148145, 'Recall': 0.5909090909090909, 'FScore': 0.5306122448979591, 'Support': 22}}, 'Fold_1': {'success': {'Precision': 0.9730941704035875, 'Recall': 0.8443579766536965, 'FScore': 0.9041666666666667, 'Support': 257}, 'low': {'Precision': 0.11428571428571428, 'Recall': 0.36363636363636365, 'FScore': 0.17391304347826086, 'Support': 11}, 'fail': {'Precision': 0.53125, 'Recall': 0.7727272727272727, 'FScore': 0.6296296296296297, 'Support': 22}}, 'Fold_2': {'success': {'Precision': 0.9774774774774775, 'Recall': 0.8443579766536965, 'FScore': 0.906054279749478, 'Support': 257}, 'low': {'Precision': 0.11764705882352941, 'Recall': 0.36363636363636365, 'FScore': 0.17777777777777776, 'Support': 11}, 'fail': {'Precision': 0.5294117647058824, 'Recall': 0.8181818181818182, 'FScore': 0.6428571428571428, 'Support': 22}}, 'Fold_3': {'success': {'Precision': 0.9642857142857143, 'Recall': 0.8404669260700389, 'FScore': 0.8981288981288982, 'Support': 257}, 'low': {'Precision': 0.15789473684210525, 'Recall': 0.5454545454545454, 'FScore': 0.24489795918367344, 'Support': 11}, 'fail': {'Precision': 0.5714285714285714, 'Recall': 0.7272727272727273, 'FScore': 0.64, 'Support': 22}}, 'Fold_4': {'success': {'Precision': 0.9557522123893806, 'Recall': 0.84375, 'FScore': 0.8962655601659751, 'Support': 256}, 'low': {'Precision': 0.03225806451612903, 'Recall': 0.1, 'FScore': 0.04878048780487805, 'Support': 10}, 'fail': {'Precision': 0.53125, 'Recall': 0.7391304347826086, 'FScore': 0.6181818181818182, 'Support': 23}}}}\n"
          ]
        }
      ]
    },
    {
      "cell_type": "markdown",
      "source": [
        "The third trial is related to the adoption of Extreme Gradient Boosting algorithms, known to be extremely efficient in the classification"
      ],
      "metadata": {
        "id": "OqsCLQBBgYDe"
      }
    },
    {
      "cell_type": "code",
      "source": [
        "label_encoder = LabelEncoder()\n",
        "label_encoder = label_encoder.fit(y)\n",
        "y_enc = label_encoder.transform(y)\n",
        "\n",
        "model = xgb.XGBClassifier(early_stopping_rounds=2)\n",
        "clf_xgb = make_pipeline(model)\n",
        "results[\"XGB\"]={}\n",
        "cm=np.zeros((5,len(labels),len(labels)))\n",
        "for i, (train_index, test_index) in enumerate(skf.split(X, y_enc)):\n",
        "  x_train = X[train_index]\n",
        "  y_train = y_enc[train_index]\n",
        "  x_test = X[test_index]\n",
        "  y_test = y_enc[test_index]\n",
        "  clf_xgb.fit(x_train, y_train, xgbclassifier__eval_set=[(x_test, y_test)])\n",
        "  y_pred = clf_xgb.predict(x_test)\n",
        "  y_pred = label_encoder.inverse_transform(y_pred)\n",
        "  y_test = label_encoder.inverse_transform(y_test)\n",
        "  precision, recall, fscore, support = precision_recall_fscore_support(y_test,y_pred, labels=labels)\n",
        "  fold = \"Fold_\"+str(i)\n",
        "  results[\"XGB\"][fold]={}\n",
        "  for j in range(len(labels)):\n",
        "    results[\"XGB\"][fold][labels[j]] = {\"Precision\":precision[j],\n",
        "                          \"Recall\":recall[j],\n",
        "                          \"FScore\":fscore[j],\n",
        "                          \"Support\":support[j]\n",
        "                                }\n",
        "  cm[i]=confusion_matrix(y_test, y_pred, labels=labels)\n",
        "\n",
        "cm=np.average(cm,axis=0)\n",
        "disp = ConfusionMatrixDisplay(confusion_matrix=cm, display_labels=labels)\n",
        "disp.plot()\n",
        "plt.show()\n",
        "print(results)\n",
        "recalls[\"XGB\"]=[]\n",
        "for key in results[\"XGB\"]:\n",
        "  recalls[\"XGB\"].append(results[\"XGB\"][key][\"fail\"][\"Recall\"])"
      ],
      "metadata": {
        "colab": {
          "base_uri": "https://localhost:8080/",
          "height": 1000
        },
        "id": "8l0BRrpR3Utw",
        "outputId": "1b7f5a63-706e-475e-8bc0-f9020428d175"
      },
      "execution_count": 328,
      "outputs": [
        {
          "output_type": "stream",
          "name": "stdout",
          "text": [
            "[0]\tvalidation_0-mlogloss:0.77169\n",
            "[1]\tvalidation_0-mlogloss:0.59556\n",
            "[2]\tvalidation_0-mlogloss:0.48729\n",
            "[3]\tvalidation_0-mlogloss:0.41547\n",
            "[4]\tvalidation_0-mlogloss:0.36865\n",
            "[5]\tvalidation_0-mlogloss:0.33559\n",
            "[6]\tvalidation_0-mlogloss:0.31253\n",
            "[7]\tvalidation_0-mlogloss:0.29769\n",
            "[8]\tvalidation_0-mlogloss:0.28901\n",
            "[9]\tvalidation_0-mlogloss:0.28403\n",
            "[10]\tvalidation_0-mlogloss:0.28098\n",
            "[11]\tvalidation_0-mlogloss:0.27893\n",
            "[12]\tvalidation_0-mlogloss:0.28071\n",
            "[13]\tvalidation_0-mlogloss:0.28314\n",
            "[0]\tvalidation_0-mlogloss:0.77387\n",
            "[1]\tvalidation_0-mlogloss:0.59681\n",
            "[2]\tvalidation_0-mlogloss:0.47570\n",
            "[3]\tvalidation_0-mlogloss:0.40013\n",
            "[4]\tvalidation_0-mlogloss:0.34229\n",
            "[5]\tvalidation_0-mlogloss:0.30572\n",
            "[6]\tvalidation_0-mlogloss:0.27885\n",
            "[7]\tvalidation_0-mlogloss:0.25786\n",
            "[8]\tvalidation_0-mlogloss:0.24822\n",
            "[9]\tvalidation_0-mlogloss:0.23859\n",
            "[10]\tvalidation_0-mlogloss:0.23227\n",
            "[11]\tvalidation_0-mlogloss:0.22588\n",
            "[12]\tvalidation_0-mlogloss:0.22433\n",
            "[13]\tvalidation_0-mlogloss:0.22315\n",
            "[14]\tvalidation_0-mlogloss:0.22444\n",
            "[0]\tvalidation_0-mlogloss:0.78111\n",
            "[1]\tvalidation_0-mlogloss:0.59817\n",
            "[2]\tvalidation_0-mlogloss:0.48519\n",
            "[3]\tvalidation_0-mlogloss:0.41011\n",
            "[4]\tvalidation_0-mlogloss:0.36048\n",
            "[5]\tvalidation_0-mlogloss:0.32096\n",
            "[6]\tvalidation_0-mlogloss:0.29560\n",
            "[7]\tvalidation_0-mlogloss:0.27750\n",
            "[8]\tvalidation_0-mlogloss:0.26652\n",
            "[9]\tvalidation_0-mlogloss:0.25582\n",
            "[10]\tvalidation_0-mlogloss:0.25453\n",
            "[11]\tvalidation_0-mlogloss:0.25192\n",
            "[12]\tvalidation_0-mlogloss:0.25109\n",
            "[13]\tvalidation_0-mlogloss:0.24979\n",
            "[14]\tvalidation_0-mlogloss:0.25042\n",
            "[15]\tvalidation_0-mlogloss:0.25321\n",
            "[0]\tvalidation_0-mlogloss:0.77228\n",
            "[1]\tvalidation_0-mlogloss:0.58157\n",
            "[2]\tvalidation_0-mlogloss:0.46180\n",
            "[3]\tvalidation_0-mlogloss:0.38497\n",
            "[4]\tvalidation_0-mlogloss:0.33316\n",
            "[5]\tvalidation_0-mlogloss:0.29941\n",
            "[6]\tvalidation_0-mlogloss:0.27586\n",
            "[7]\tvalidation_0-mlogloss:0.25737\n",
            "[8]\tvalidation_0-mlogloss:0.24708\n",
            "[9]\tvalidation_0-mlogloss:0.24074\n",
            "[10]\tvalidation_0-mlogloss:0.23570\n",
            "[11]\tvalidation_0-mlogloss:0.23565\n",
            "[12]\tvalidation_0-mlogloss:0.23706\n",
            "[0]\tvalidation_0-mlogloss:0.76644\n",
            "[1]\tvalidation_0-mlogloss:0.57782\n",
            "[2]\tvalidation_0-mlogloss:0.45803\n",
            "[3]\tvalidation_0-mlogloss:0.37669\n",
            "[4]\tvalidation_0-mlogloss:0.31882\n",
            "[5]\tvalidation_0-mlogloss:0.27732\n",
            "[6]\tvalidation_0-mlogloss:0.25009\n",
            "[7]\tvalidation_0-mlogloss:0.22785\n",
            "[8]\tvalidation_0-mlogloss:0.20966\n",
            "[9]\tvalidation_0-mlogloss:0.20132\n",
            "[10]\tvalidation_0-mlogloss:0.19613\n",
            "[11]\tvalidation_0-mlogloss:0.19212\n",
            "[12]\tvalidation_0-mlogloss:0.19113\n",
            "[13]\tvalidation_0-mlogloss:0.19142\n"
          ]
        },
        {
          "output_type": "display_data",
          "data": {
            "text/plain": [
              "<Figure size 640x480 with 2 Axes>"
            ],
            "image/png": "[encoded data removed]"
          },
          "metadata": {}
        },
        {
          "output_type": "stream",
          "name": "stdout",
          "text": [
            "{'SVM': {'Fold_0': {'success': {'Precision': 0.9296296296296296, 'Recall': 0.9766536964980544, 'FScore': 0.9525616698292219, 'Support': 257}, 'low': {'Precision': 0.0, 'Recall': 0.0, 'FScore': 0.0, 'Support': 11}, 'fail': {'Precision': 0.6875, 'Recall': 0.5, 'FScore': 0.5789473684210527, 'Support': 22}}, 'Fold_1': {'success': {'Precision': 0.9609375, 'Recall': 0.9571984435797666, 'FScore': 0.9590643274853801, 'Support': 257}, 'low': {'Precision': 0.3333333333333333, 'Recall': 0.2727272727272727, 'FScore': 0.3, 'Support': 11}, 'fail': {'Precision': 0.64, 'Recall': 0.7272727272727273, 'FScore': 0.6808510638297872, 'Support': 22}}, 'Fold_2': {'success': {'Precision': 0.933579335793358, 'Recall': 0.9844357976653697, 'FScore': 0.9583333333333334, 'Support': 257}, 'low': {'Precision': 0.0, 'Recall': 0.0, 'FScore': 0.0, 'Support': 11}, 'fail': {'Precision': 0.631578947368421, 'Recall': 0.5454545454545454, 'FScore': 0.5853658536585366, 'Support': 22}}, 'Fold_3': {'success': {'Precision': 0.9233576642335767, 'Recall': 0.9844357976653697, 'FScore': 0.9529190207156308, 'Support': 257}, 'low': {'Precision': 0.0, 'Recall': 0.0, 'FScore': 0.0, 'Support': 11}, 'fail': {'Precision': 0.8, 'Recall': 0.5454545454545454, 'FScore': 0.6486486486486486, 'Support': 22}}, 'Fold_4': {'success': {'Precision': 0.9440298507462687, 'Recall': 0.98828125, 'FScore': 0.9656488549618321, 'Support': 256}, 'low': {'Precision': 0.5, 'Recall': 0.1, 'FScore': 0.16666666666666669, 'Support': 10}, 'fail': {'Precision': 0.6842105263157895, 'Recall': 0.5652173913043478, 'FScore': 0.6190476190476191, 'Support': 23}}}, 'SVM_RES': {'Fold_0': {'success': {'Precision': 0.9437229437229437, 'Recall': 0.8482490272373541, 'FScore': 0.8934426229508198, 'Support': 257}, 'low': {'Precision': 0.03125, 'Recall': 0.09090909090909091, 'FScore': 0.046511627906976744, 'Support': 11}, 'fail': {'Precision': 0.48148148148148145, 'Recall': 0.5909090909090909, 'FScore': 0.5306122448979591, 'Support': 22}}, 'Fold_1': {'success': {'Precision': 0.9730941704035875, 'Recall': 0.8443579766536965, 'FScore': 0.9041666666666667, 'Support': 257}, 'low': {'Precision': 0.11428571428571428, 'Recall': 0.36363636363636365, 'FScore': 0.17391304347826086, 'Support': 11}, 'fail': {'Precision': 0.53125, 'Recall': 0.7727272727272727, 'FScore': 0.6296296296296297, 'Support': 22}}, 'Fold_2': {'success': {'Precision': 0.9774774774774775, 'Recall': 0.8443579766536965, 'FScore': 0.906054279749478, 'Support': 257}, 'low': {'Precision': 0.11764705882352941, 'Recall': 0.36363636363636365, 'FScore': 0.17777777777777776, 'Support': 11}, 'fail': {'Precision': 0.5294117647058824, 'Recall': 0.8181818181818182, 'FScore': 0.6428571428571428, 'Support': 22}}, 'Fold_3': {'success': {'Precision': 0.9642857142857143, 'Recall': 0.8404669260700389, 'FScore': 0.8981288981288982, 'Support': 257}, 'low': {'Precision': 0.15789473684210525, 'Recall': 0.5454545454545454, 'FScore': 0.24489795918367344, 'Support': 11}, 'fail': {'Precision': 0.5714285714285714, 'Recall': 0.7272727272727273, 'FScore': 0.64, 'Support': 22}}, 'Fold_4': {'success': {'Precision': 0.9557522123893806, 'Recall': 0.84375, 'FScore': 0.8962655601659751, 'Support': 256}, 'low': {'Precision': 0.03225806451612903, 'Recall': 0.1, 'FScore': 0.04878048780487805, 'Support': 10}, 'fail': {'Precision': 0.53125, 'Recall': 0.7391304347826086, 'FScore': 0.6181818181818182, 'Support': 23}}}, 'XGB': {'Fold_0': {'success': {'Precision': 0.9330855018587361, 'Recall': 0.9766536964980544, 'FScore': 0.9543726235741444, 'Support': 257}, 'low': {'Precision': 0.0, 'Recall': 0.0, 'FScore': 0.0, 'Support': 11}, 'fail': {'Precision': 0.6470588235294118, 'Recall': 0.5, 'FScore': 0.5641025641025642, 'Support': 22}}, 'Fold_1': {'success': {'Precision': 0.9509433962264151, 'Recall': 0.980544747081712, 'FScore': 0.9655172413793104, 'Support': 257}, 'low': {'Precision': 0.6666666666666666, 'Recall': 0.18181818181818182, 'FScore': 0.28571428571428575, 'Support': 11}, 'fail': {'Precision': 0.7272727272727273, 'Recall': 0.7272727272727273, 'FScore': 0.7272727272727273, 'Support': 22}}, 'Fold_2': {'success': {'Precision': 0.927536231884058, 'Recall': 0.9961089494163424, 'FScore': 0.9606003752345216, 'Support': 257}, 'low': {'Precision': 0.0, 'Recall': 0.0, 'FScore': 0.0, 'Support': 11}, 'fail': {'Precision': 0.8461538461538461, 'Recall': 0.5, 'FScore': 0.6285714285714286, 'Support': 22}}, 'Fold_3': {'success': {'Precision': 0.947565543071161, 'Recall': 0.9844357976653697, 'FScore': 0.9656488549618322, 'Support': 257}, 'low': {'Precision': 0.4, 'Recall': 0.18181818181818182, 'FScore': 0.25000000000000006, 'Support': 11}, 'fail': {'Precision': 0.8888888888888888, 'Recall': 0.7272727272727273, 'FScore': 0.7999999999999999, 'Support': 22}}, 'Fold_4': {'success': {'Precision': 0.9543726235741445, 'Recall': 0.98046875, 'FScore': 0.9672447013487475, 'Support': 256}, 'low': {'Precision': 0.0, 'Recall': 0.0, 'FScore': 0.0, 'Support': 10}, 'fail': {'Precision': 0.76, 'Recall': 0.8260869565217391, 'FScore': 0.7916666666666667, 'Support': 23}}}}\n"
          ]
        }
      ]
    },
    {
      "cell_type": "markdown",
      "source": [
        "First is tried without any resampling, and then with resampling strategies"
      ],
      "metadata": {
        "id": "orC7cYReg4O4"
      }
    },
    {
      "cell_type": "code",
      "source": [
        "from sklearn.preprocessing import LabelEncoder\n",
        "label_encoder = LabelEncoder()\n",
        "label_encoder = label_encoder.fit(y)\n",
        "y_enc = label_encoder.transform(y)\n",
        "\n",
        "model = xgb.XGBClassifier(early_stopping_rounds=2)\n",
        "clf_xgb = make_pipeline(model)\n",
        "\n",
        "results[\"XGB_res\"]={}\n",
        "cm=np.zeros((5,len(labels),len(labels)))\n",
        "for i, (train_index, test_index) in enumerate(skf.split(X, y_enc)):\n",
        "  x_train = X[train_index]\n",
        "  y_train = y_enc[train_index]\n",
        "  x_test = X[test_index]\n",
        "  y_test = y_enc[test_index]\n",
        "  x_res, y_res = resampler.fit_resample(x_train,y_train)\n",
        "  clf_xgb.fit(x_res, y_res, xgbclassifier__eval_set=[(x_test, y_test)])\n",
        "  y_pred = clf_xgb.predict(x_test)\n",
        "  y_pred = label_encoder.inverse_transform(y_pred)\n",
        "  y_test = label_encoder.inverse_transform(y_test)\n",
        "  precision, recall, fscore, support = precision_recall_fscore_support(y_test,y_pred, labels=labels)\n",
        "  fold = \"Fold_\"+str(i)\n",
        "  results[\"XGB_res\"][fold]={}\n",
        "  for j in range(len(labels)):\n",
        "    results[\"XGB_res\"][fold][labels[j]] = {\"Precision\":precision[j],\n",
        "                          \"Recall\":recall[j],\n",
        "                          \"FScore\":fscore[j],\n",
        "                          \"Support\":support[j]\n",
        "                                }\n",
        "  cm[i]=confusion_matrix(y_test, y_pred, labels=labels)\n",
        "\n",
        "cm=np.average(cm,axis=0)\n",
        "disp = ConfusionMatrixDisplay(confusion_matrix=cm, display_labels=labels)\n",
        "disp.plot()\n",
        "plt.show()\n",
        "print(results)\n",
        "recalls[\"XGB_res\"]=[]\n",
        "for key in results[\"XGB_res\"]:\n",
        "  recalls[\"XGB_res\"].append(results[\"XGB_res\"][key][\"fail\"][\"Recall\"])"
      ],
      "metadata": {
        "colab": {
          "base_uri": "https://localhost:8080/",
          "height": 1000
        },
        "id": "U0gatkL48OGE",
        "outputId": "da3099a4-66e3-42b4-ea51-20c6bcc01ce6"
      },
      "execution_count": 330,
      "outputs": [
        {
          "output_type": "stream",
          "name": "stdout",
          "text": [
            "[0]\tvalidation_0-mlogloss:0.81608\n",
            "[1]\tvalidation_0-mlogloss:0.65304\n",
            "[2]\tvalidation_0-mlogloss:0.54928\n",
            "[3]\tvalidation_0-mlogloss:0.47291\n",
            "[4]\tvalidation_0-mlogloss:0.40968\n",
            "[5]\tvalidation_0-mlogloss:0.36835\n",
            "[6]\tvalidation_0-mlogloss:0.34870\n",
            "[7]\tvalidation_0-mlogloss:0.33209\n",
            "[8]\tvalidation_0-mlogloss:0.32165\n",
            "[9]\tvalidation_0-mlogloss:0.31742\n",
            "[10]\tvalidation_0-mlogloss:0.31234\n",
            "[11]\tvalidation_0-mlogloss:0.30730\n",
            "[12]\tvalidation_0-mlogloss:0.30583\n",
            "[13]\tvalidation_0-mlogloss:0.30985\n",
            "[14]\tvalidation_0-mlogloss:0.31090\n",
            "[0]\tvalidation_0-mlogloss:0.82881\n",
            "[1]\tvalidation_0-mlogloss:0.66709\n",
            "[2]\tvalidation_0-mlogloss:0.55757\n",
            "[3]\tvalidation_0-mlogloss:0.48099\n",
            "[4]\tvalidation_0-mlogloss:0.42137\n",
            "[5]\tvalidation_0-mlogloss:0.38347\n",
            "[6]\tvalidation_0-mlogloss:0.34963\n",
            "[7]\tvalidation_0-mlogloss:0.32987\n",
            "[8]\tvalidation_0-mlogloss:0.31604\n",
            "[9]\tvalidation_0-mlogloss:0.29823\n",
            "[10]\tvalidation_0-mlogloss:0.28566\n",
            "[11]\tvalidation_0-mlogloss:0.27422\n",
            "[12]\tvalidation_0-mlogloss:0.26577\n",
            "[13]\tvalidation_0-mlogloss:0.26380\n",
            "[14]\tvalidation_0-mlogloss:0.25474\n",
            "[15]\tvalidation_0-mlogloss:0.25090\n",
            "[16]\tvalidation_0-mlogloss:0.25091\n",
            "[17]\tvalidation_0-mlogloss:0.25044\n",
            "[18]\tvalidation_0-mlogloss:0.24939\n",
            "[19]\tvalidation_0-mlogloss:0.25014\n",
            "[20]\tvalidation_0-mlogloss:0.24785\n",
            "[21]\tvalidation_0-mlogloss:0.24828\n",
            "[22]\tvalidation_0-mlogloss:0.24649\n",
            "[23]\tvalidation_0-mlogloss:0.24723\n",
            "[24]\tvalidation_0-mlogloss:0.24921\n",
            "[0]\tvalidation_0-mlogloss:0.82329\n",
            "[1]\tvalidation_0-mlogloss:0.66603\n",
            "[2]\tvalidation_0-mlogloss:0.56014\n",
            "[3]\tvalidation_0-mlogloss:0.48308\n",
            "[4]\tvalidation_0-mlogloss:0.42112\n",
            "[5]\tvalidation_0-mlogloss:0.37816\n",
            "[6]\tvalidation_0-mlogloss:0.34603\n",
            "[7]\tvalidation_0-mlogloss:0.32229\n",
            "[8]\tvalidation_0-mlogloss:0.30485\n",
            "[9]\tvalidation_0-mlogloss:0.29097\n",
            "[10]\tvalidation_0-mlogloss:0.27894\n",
            "[11]\tvalidation_0-mlogloss:0.27005\n",
            "[12]\tvalidation_0-mlogloss:0.26188\n",
            "[13]\tvalidation_0-mlogloss:0.25185\n",
            "[14]\tvalidation_0-mlogloss:0.24755\n",
            "[15]\tvalidation_0-mlogloss:0.24491\n",
            "[16]\tvalidation_0-mlogloss:0.24356\n",
            "[17]\tvalidation_0-mlogloss:0.24184\n",
            "[18]\tvalidation_0-mlogloss:0.24065\n",
            "[19]\tvalidation_0-mlogloss:0.24049\n",
            "[20]\tvalidation_0-mlogloss:0.24206\n",
            "[0]\tvalidation_0-mlogloss:0.80579\n",
            "[1]\tvalidation_0-mlogloss:0.63525\n",
            "[2]\tvalidation_0-mlogloss:0.52462\n",
            "[3]\tvalidation_0-mlogloss:0.44563\n",
            "[4]\tvalidation_0-mlogloss:0.39120\n",
            "[5]\tvalidation_0-mlogloss:0.35080\n",
            "[6]\tvalidation_0-mlogloss:0.32669\n",
            "[7]\tvalidation_0-mlogloss:0.30682\n",
            "[8]\tvalidation_0-mlogloss:0.29103\n",
            "[9]\tvalidation_0-mlogloss:0.28075\n",
            "[10]\tvalidation_0-mlogloss:0.27229\n",
            "[11]\tvalidation_0-mlogloss:0.26367\n",
            "[12]\tvalidation_0-mlogloss:0.26043\n",
            "[13]\tvalidation_0-mlogloss:0.25566\n",
            "[14]\tvalidation_0-mlogloss:0.25604\n",
            "[15]\tvalidation_0-mlogloss:0.25832\n",
            "[0]\tvalidation_0-mlogloss:0.83158\n",
            "[1]\tvalidation_0-mlogloss:0.66036\n",
            "[2]\tvalidation_0-mlogloss:0.54656\n",
            "[3]\tvalidation_0-mlogloss:0.46848\n",
            "[4]\tvalidation_0-mlogloss:0.41960\n",
            "[5]\tvalidation_0-mlogloss:0.38313\n",
            "[6]\tvalidation_0-mlogloss:0.35484\n",
            "[7]\tvalidation_0-mlogloss:0.33226\n",
            "[8]\tvalidation_0-mlogloss:0.31158\n",
            "[9]\tvalidation_0-mlogloss:0.29663\n",
            "[10]\tvalidation_0-mlogloss:0.28212\n",
            "[11]\tvalidation_0-mlogloss:0.27732\n",
            "[12]\tvalidation_0-mlogloss:0.26409\n",
            "[13]\tvalidation_0-mlogloss:0.25909\n",
            "[14]\tvalidation_0-mlogloss:0.25191\n",
            "[15]\tvalidation_0-mlogloss:0.24847\n",
            "[16]\tvalidation_0-mlogloss:0.24815\n",
            "[17]\tvalidation_0-mlogloss:0.24916\n"
          ]
        },
        {
          "output_type": "display_data",
          "data": {
            "text/plain": [
              "<Figure size 640x480 with 2 Axes>"
            ],
            "image/png": "[encoded data removed]"
          },
          "metadata": {}
        },
        {
          "output_type": "stream",
          "name": "stdout",
          "text": [
            "{'SVM': {'Fold_0': {'success': {'Precision': 0.9296296296296296, 'Recall': 0.9766536964980544, 'FScore': 0.9525616698292219, 'Support': 257}, 'low': {'Precision': 0.0, 'Recall': 0.0, 'FScore': 0.0, 'Support': 11}, 'fail': {'Precision': 0.6875, 'Recall': 0.5, 'FScore': 0.5789473684210527, 'Support': 22}}, 'Fold_1': {'success': {'Precision': 0.9609375, 'Recall': 0.9571984435797666, 'FScore': 0.9590643274853801, 'Support': 257}, 'low': {'Precision': 0.3333333333333333, 'Recall': 0.2727272727272727, 'FScore': 0.3, 'Support': 11}, 'fail': {'Precision': 0.64, 'Recall': 0.7272727272727273, 'FScore': 0.6808510638297872, 'Support': 22}}, 'Fold_2': {'success': {'Precision': 0.933579335793358, 'Recall': 0.9844357976653697, 'FScore': 0.9583333333333334, 'Support': 257}, 'low': {'Precision': 0.0, 'Recall': 0.0, 'FScore': 0.0, 'Support': 11}, 'fail': {'Precision': 0.631578947368421, 'Recall': 0.5454545454545454, 'FScore': 0.5853658536585366, 'Support': 22}}, 'Fold_3': {'success': {'Precision': 0.9233576642335767, 'Recall': 0.9844357976653697, 'FScore': 0.9529190207156308, 'Support': 257}, 'low': {'Precision': 0.0, 'Recall': 0.0, 'FScore': 0.0, 'Support': 11}, 'fail': {'Precision': 0.8, 'Recall': 0.5454545454545454, 'FScore': 0.6486486486486486, 'Support': 22}}, 'Fold_4': {'success': {'Precision': 0.9440298507462687, 'Recall': 0.98828125, 'FScore': 0.9656488549618321, 'Support': 256}, 'low': {'Precision': 0.5, 'Recall': 0.1, 'FScore': 0.16666666666666669, 'Support': 10}, 'fail': {'Precision': 0.6842105263157895, 'Recall': 0.5652173913043478, 'FScore': 0.6190476190476191, 'Support': 23}}}, 'SVM_RES': {'Fold_0': {'success': {'Precision': 0.9437229437229437, 'Recall': 0.8482490272373541, 'FScore': 0.8934426229508198, 'Support': 257}, 'low': {'Precision': 0.03125, 'Recall': 0.09090909090909091, 'FScore': 0.046511627906976744, 'Support': 11}, 'fail': {'Precision': 0.48148148148148145, 'Recall': 0.5909090909090909, 'FScore': 0.5306122448979591, 'Support': 22}}, 'Fold_1': {'success': {'Precision': 0.9730941704035875, 'Recall': 0.8443579766536965, 'FScore': 0.9041666666666667, 'Support': 257}, 'low': {'Precision': 0.11428571428571428, 'Recall': 0.36363636363636365, 'FScore': 0.17391304347826086, 'Support': 11}, 'fail': {'Precision': 0.53125, 'Recall': 0.7727272727272727, 'FScore': 0.6296296296296297, 'Support': 22}}, 'Fold_2': {'success': {'Precision': 0.9774774774774775, 'Recall': 0.8443579766536965, 'FScore': 0.906054279749478, 'Support': 257}, 'low': {'Precision': 0.11764705882352941, 'Recall': 0.36363636363636365, 'FScore': 0.17777777777777776, 'Support': 11}, 'fail': {'Precision': 0.5294117647058824, 'Recall': 0.8181818181818182, 'FScore': 0.6428571428571428, 'Support': 22}}, 'Fold_3': {'success': {'Precision': 0.9642857142857143, 'Recall': 0.8404669260700389, 'FScore': 0.8981288981288982, 'Support': 257}, 'low': {'Precision': 0.15789473684210525, 'Recall': 0.5454545454545454, 'FScore': 0.24489795918367344, 'Support': 11}, 'fail': {'Precision': 0.5714285714285714, 'Recall': 0.7272727272727273, 'FScore': 0.64, 'Support': 22}}, 'Fold_4': {'success': {'Precision': 0.9557522123893806, 'Recall': 0.84375, 'FScore': 0.8962655601659751, 'Support': 256}, 'low': {'Precision': 0.03225806451612903, 'Recall': 0.1, 'FScore': 0.04878048780487805, 'Support': 10}, 'fail': {'Precision': 0.53125, 'Recall': 0.7391304347826086, 'FScore': 0.6181818181818182, 'Support': 23}}}, 'XGB': {'Fold_0': {'success': {'Precision': 0.9330855018587361, 'Recall': 0.9766536964980544, 'FScore': 0.9543726235741444, 'Support': 257}, 'low': {'Precision': 0.0, 'Recall': 0.0, 'FScore': 0.0, 'Support': 11}, 'fail': {'Precision': 0.6470588235294118, 'Recall': 0.5, 'FScore': 0.5641025641025642, 'Support': 22}}, 'Fold_1': {'success': {'Precision': 0.9509433962264151, 'Recall': 0.980544747081712, 'FScore': 0.9655172413793104, 'Support': 257}, 'low': {'Precision': 0.6666666666666666, 'Recall': 0.18181818181818182, 'FScore': 0.28571428571428575, 'Support': 11}, 'fail': {'Precision': 0.7272727272727273, 'Recall': 0.7272727272727273, 'FScore': 0.7272727272727273, 'Support': 22}}, 'Fold_2': {'success': {'Precision': 0.927536231884058, 'Recall': 0.9961089494163424, 'FScore': 0.9606003752345216, 'Support': 257}, 'low': {'Precision': 0.0, 'Recall': 0.0, 'FScore': 0.0, 'Support': 11}, 'fail': {'Precision': 0.8461538461538461, 'Recall': 0.5, 'FScore': 0.6285714285714286, 'Support': 22}}, 'Fold_3': {'success': {'Precision': 0.947565543071161, 'Recall': 0.9844357976653697, 'FScore': 0.9656488549618322, 'Support': 257}, 'low': {'Precision': 0.4, 'Recall': 0.18181818181818182, 'FScore': 0.25000000000000006, 'Support': 11}, 'fail': {'Precision': 0.8888888888888888, 'Recall': 0.7272727272727273, 'FScore': 0.7999999999999999, 'Support': 22}}, 'Fold_4': {'success': {'Precision': 0.9543726235741445, 'Recall': 0.98046875, 'FScore': 0.9672447013487475, 'Support': 256}, 'low': {'Precision': 0.0, 'Recall': 0.0, 'FScore': 0.0, 'Support': 10}, 'fail': {'Precision': 0.76, 'Recall': 0.8260869565217391, 'FScore': 0.7916666666666667, 'Support': 23}}}, 'XGB_res': {'Fold_0': {'success': {'Precision': 0.9423076923076923, 'Recall': 0.953307392996109, 'FScore': 0.9477756286266925, 'Support': 257}, 'low': {'Precision': 0.0, 'Recall': 0.0, 'FScore': 0.0, 'Support': 11}, 'fail': {'Precision': 0.7619047619047619, 'Recall': 0.7272727272727273, 'FScore': 0.7441860465116279, 'Support': 22}}, 'Fold_1': {'success': {'Precision': 0.9536679536679536, 'Recall': 0.9610894941634242, 'FScore': 0.9573643410852712, 'Support': 257}, 'low': {'Precision': 0.2857142857142857, 'Recall': 0.18181818181818182, 'FScore': 0.2222222222222222, 'Support': 11}, 'fail': {'Precision': 0.75, 'Recall': 0.8181818181818182, 'FScore': 0.7826086956521738, 'Support': 22}}, 'Fold_2': {'success': {'Precision': 0.9547169811320755, 'Recall': 0.9844357976653697, 'FScore': 0.9693486590038315, 'Support': 257}, 'low': {'Precision': 0.2, 'Recall': 0.09090909090909091, 'FScore': 0.12500000000000003, 'Support': 11}, 'fail': {'Precision': 0.8, 'Recall': 0.7272727272727273, 'FScore': 0.761904761904762, 'Support': 22}}, 'Fold_3': {'success': {'Precision': 0.946360153256705, 'Recall': 0.9610894941634242, 'FScore': 0.9536679536679536, 'Support': 257}, 'low': {'Precision': 0.16666666666666666, 'Recall': 0.09090909090909091, 'FScore': 0.11764705882352942, 'Support': 11}, 'fail': {'Precision': 0.7391304347826086, 'Recall': 0.7727272727272727, 'FScore': 0.7555555555555555, 'Support': 22}}, 'Fold_4': {'success': {'Precision': 0.9647058823529412, 'Recall': 0.9609375, 'FScore': 0.9628180039138943, 'Support': 256}, 'low': {'Precision': 0.3333333333333333, 'Recall': 0.2, 'FScore': 0.25, 'Support': 10}, 'fail': {'Precision': 0.6785714285714286, 'Recall': 0.8260869565217391, 'FScore': 0.7450980392156864, 'Support': 23}}}}\n"
          ]
        }
      ]
    },
    {
      "cell_type": "code",
      "source": [
        "rec =[]\n",
        "titles = []\n",
        "for key, value in recalls.items():\n",
        "  titles.append(key)\n",
        "  rec.append(value)"
      ],
      "metadata": {
        "id": "VpBfEnh3NR4x"
      },
      "execution_count": 331,
      "outputs": []
    },
    {
      "cell_type": "code",
      "source": [
        "plt.boxplot(rec,labels=titles)\n",
        "plt.title(\"Recall of fail class\")"
      ],
      "metadata": {
        "id": "qId-d5lYNmxA",
        "outputId": "3b320581-1034-43df-cbde-7a5aedad4aea",
        "colab": {
          "base_uri": "https://localhost:8080/",
          "height": 469
        }
      },
      "execution_count": 332,
      "outputs": [
        {
          "output_type": "execute_result",
          "data": {
            "text/plain": [
              "Text(0.5, 1.0, 'Recall of fail class')"
            ]
          },
          "metadata": {},
          "execution_count": 332
        },
        {
          "output_type": "display_data",
          "data": {
            "text/plain": [
              "<Figure size 640x480 with 1 Axes>"
            ],
            "image/png": "[encoded data removed]"
          },
          "metadata": {}
        }
      ]
    },
    {
      "cell_type": "markdown",
      "source": [
        "As can be seen, the results are far from excellent, but the most promising results are obtained by the XGB with resampling technique based on the SMOTE technique"
      ],
      "metadata": {
        "id": "TGmo2pfghv4l"
      }
    },
    {
      "cell_type": "markdown",
      "source": [
        "#2nd iteration\n",
        "\n",
        "Same approach is tested with the merge of the two categories success and low before any resampling technique"
      ],
      "metadata": {
        "id": "Jb-3DEM3OGYM"
      }
    },
    {
      "cell_type": "code",
      "source": [
        "y = np.array(df[\"class\"])"
      ],
      "metadata": {
        "id": "3CO1OhO1OTGY"
      },
      "execution_count": 234,
      "outputs": []
    },
    {
      "cell_type": "code",
      "source": [
        "ym = np.array(y, copy=True)\n",
        "ym[ym==\"low\"]=\"success\""
      ],
      "metadata": {
        "id": "bgCduxUHOTGh"
      },
      "execution_count": 235,
      "outputs": []
    },
    {
      "cell_type": "markdown",
      "source": [
        "First a set of classifieris is developed with all the classes"
      ],
      "metadata": {
        "id": "KIVRE5aHOTGh"
      }
    },
    {
      "cell_type": "markdown",
      "source": [
        "The k-fold technique is used to identifym the most promising and robust technique before the test with production data (the test dataset provided)"
      ],
      "metadata": {
        "id": "c29MescvOTGh"
      }
    },
    {
      "cell_type": "code",
      "source": [
        "from sklearn.model_selection import StratifiedKFold\n",
        "skf = StratifiedKFold(n_splits=5)\n",
        "skf.get_n_splits(X, y)\n",
        "print(skf)"
      ],
      "metadata": {
        "colab": {
          "base_uri": "https://localhost:8080/"
        },
        "outputId": "1f372fd0-bc0a-4fa9-9742-4083a1b12139",
        "id": "YnzG3_VKOTGh"
      },
      "execution_count": 236,
      "outputs": [
        {
          "output_type": "stream",
          "name": "stdout",
          "text": [
            "StratifiedKFold(n_splits=5, random_state=None, shuffle=False)\n"
          ]
        }
      ]
    },
    {
      "cell_type": "markdown",
      "source": [
        "considering the high number of variables, the first choice is to use SVM, to use its capabilities of linear separation of data in high dimensionality"
      ],
      "metadata": {
        "id": "0f0rIXEGOTGi"
      }
    },
    {
      "cell_type": "code",
      "source": [
        "clf = make_pipeline(StandardScaler(), LinearSVC(dual=False,\n",
        "                                                random_state=0, tol=1e-5))\n",
        "labels = [\"success\",\"fail\"]\n",
        "results_m={\"SVM\":{}}\n",
        "cm=np.zeros((5,len(labels),len(labels)))\n",
        "\n",
        "for i, (train_index, test_index) in enumerate(skf.split(X, y)):\n",
        "  x_train = X[train_index]\n",
        "  y_train = ym[train_index]\n",
        "  x_test = X[test_index]\n",
        "  y_test = ym[test_index]\n",
        "  clf.fit(x_train, y_train)\n",
        "  y_pred = clf.predict(x_test)\n",
        "  precision, recall, fscore, support = precision_recall_fscore_support(y_test,y_pred, labels=labels)\n",
        "  fold = \"Fold_\"+str(i)\n",
        "  results_m[\"SVM\"][fold]={}\n",
        "  for j in range(len(labels)):\n",
        "    results_m[\"SVM\"][fold][labels[j]] = {\"Precision\":precision[j],\n",
        "                          \"Recall\":recall[j],\n",
        "                          \"FScore\":fscore[j],\n",
        "                          \"Support\":support[j]\n",
        "                                }\n",
        "  cm[i]=confusion_matrix(y_test, y_pred, labels=labels)\n",
        "\n",
        "cm=np.average(cm,axis=0)\n",
        "disp = ConfusionMatrixDisplay(confusion_matrix=cm, display_labels=labels)\n",
        "disp.plot()\n",
        "plt.show()\n",
        "print(results_m)\n"
      ],
      "metadata": {
        "colab": {
          "base_uri": "https://localhost:8080/"
        },
        "outputId": "5b0de6e3-62a5-4f94-9091-a0a9670a50da",
        "id": "Ge2aLqUJOTGi"
      },
      "execution_count": 237,
      "outputs": [
        {
          "output_type": "stream",
          "name": "stdout",
          "text": [
            "{'SVM': {'Fold_0': {'success': {'Precision': 0.96, 'Recall': 0.9850746268656716, 'FScore': 0.9723756906077348, 'Support': 268}, 'fail': {'Precision': 0.7333333333333333, 'Recall': 0.5, 'FScore': 0.5945945945945945, 'Support': 22}}, 'Fold_1': {'success': {'Precision': 0.9735849056603774, 'Recall': 0.9626865671641791, 'FScore': 0.9681050656660413, 'Support': 268}, 'fail': {'Precision': 0.6, 'Recall': 0.6818181818181818, 'FScore': 0.6382978723404256, 'Support': 22}}, 'Fold_2': {'success': {'Precision': 0.9633699633699634, 'Recall': 0.9813432835820896, 'FScore': 0.9722735674676525, 'Support': 268}, 'fail': {'Precision': 0.7058823529411765, 'Recall': 0.5454545454545454, 'FScore': 0.6153846153846153, 'Support': 22}}, 'Fold_3': {'success': {'Precision': 0.9636363636363636, 'Recall': 0.9888059701492538, 'FScore': 0.9760589318600369, 'Support': 268}, 'fail': {'Precision': 0.8, 'Recall': 0.5454545454545454, 'FScore': 0.6486486486486486, 'Support': 22}}, 'Fold_4': {'success': {'Precision': 0.9664179104477612, 'Recall': 0.9736842105263158, 'FScore': 0.9700374531835205, 'Support': 266}, 'fail': {'Precision': 0.6666666666666666, 'Recall': 0.6086956521739131, 'FScore': 0.6363636363636365, 'Support': 23}}}}\n"
          ]
        }
      ]
    },
    {
      "cell_type": "code",
      "source": [
        "recalls_m={\"SVM\":[]}\n",
        "for key in results_m[\"SVM\"]:\n",
        "  recalls_m[\"SVM\"].append(results_m[\"SVM\"][key][\"fail\"][\"Recall\"])"
      ],
      "metadata": {
        "id": "_KO2kw29OTGi"
      },
      "execution_count": 238,
      "outputs": []
    },
    {
      "cell_type": "code",
      "source": [
        "recalls_m"
      ],
      "metadata": {
        "outputId": "5ff35746-807d-4575-faee-7923a1c737e9",
        "colab": {
          "base_uri": "https://localhost:8080/"
        },
        "id": "mc2GbO_fOTGi"
      },
      "execution_count": 239,
      "outputs": [
        {
          "output_type": "execute_result",
          "data": {
            "text/plain": [
              "{'SVM': [0.5,\n",
              "  0.6818181818181818,\n",
              "  0.5454545454545454,\n",
              "  0.5454545454545454,\n",
              "  0.6086956521739131]}"
            ]
          },
          "metadata": {},
          "execution_count": 239
        }
      ]
    },
    {
      "cell_type": "markdown",
      "source": [
        "to improve the performance in underrepresented categories, the SMOTE technique is tested"
      ],
      "metadata": {
        "id": "BjIFLmiEOTGj"
      }
    },
    {
      "cell_type": "code",
      "source": [
        "resampler = SMOTE(sampling_strategy=\"not majority\", random_state=42)"
      ],
      "metadata": {
        "id": "uFzfaa5AOTGj"
      },
      "execution_count": 240,
      "outputs": []
    },
    {
      "cell_type": "code",
      "source": [
        "clf = make_pipeline(StandardScaler(), LinearSVC(dual=False,\n",
        "                                                random_state=0, tol=1e-5))\n",
        "cm=np.zeros((5,len(labels),len(labels)))\n",
        "results_m[\"SVM_RES\"]={}\n",
        "for i, (train_index, test_index) in enumerate(skf.split(X, y)):\n",
        "  x_train = X[train_index]\n",
        "  y_train = y[train_index]\n",
        "  x_test = X[test_index]\n",
        "  y_test = ym[test_index]\n",
        "  x_res, y_res = resampler.fit_resample(x_train,y_train)\n",
        "  y_res[y_res==\"low\"]=\"success\"\n",
        "  clf.fit(x_res, y_res)\n",
        "  y_pred = clf.predict(x_test)\n",
        "  precision, recall, fscore, support = precision_recall_fscore_support(y_test,y_pred, labels=labels)\n",
        "  fold = \"Fold_\"+str(i)\n",
        "  results_m[\"SVM_RES\"][fold]={}\n",
        "  for j in range(len(labels)):\n",
        "    results_m[\"SVM_RES\"][fold][labels[j]] = {\"Precision\":precision[j],\n",
        "                          \"Recall\":recall[j],\n",
        "                          \"FScore\":fscore[j],\n",
        "                          \"Support\":support[j]\n",
        "                                }\n",
        "  cm[i]=confusion_matrix(y_test, y_pred, labels=labels)\n",
        "\n",
        "cm=np.average(cm,axis=0)\n",
        "disp = ConfusionMatrixDisplay(confusion_matrix=cm, display_labels=labels)\n",
        "disp.plot()\n",
        "plt.show()\n",
        "print(results_m)\n",
        "recalls_m[\"SVM_RES\"]=[]\n",
        "for key in results_m[\"SVM_RES\"]:\n",
        "  recalls_m[\"SVM_RES\"].append(results_m[\"SVM_RES\"][key][\"fail\"][\"Recall\"])"
      ],
      "metadata": {
        "colab": {
          "base_uri": "https://localhost:8080/"
        },
        "outputId": "fd288043-fb78-4531-ed1f-4ef15384a108",
        "id": "d98pmj6mOTGj"
      },
      "execution_count": 241,
      "outputs": [
        {
          "output_type": "stream",
          "name": "stdout",
          "text": [
            "{'SVM': {'Fold_0': {'success': {'Precision': 0.96, 'Recall': 0.9850746268656716, 'FScore': 0.9723756906077348, 'Support': 268}, 'fail': {'Precision': 0.7333333333333333, 'Recall': 0.5, 'FScore': 0.5945945945945945, 'Support': 22}}, 'Fold_1': {'success': {'Precision': 0.9735849056603774, 'Recall': 0.9626865671641791, 'FScore': 0.9681050656660413, 'Support': 268}, 'fail': {'Precision': 0.6, 'Recall': 0.6818181818181818, 'FScore': 0.6382978723404256, 'Support': 22}}, 'Fold_2': {'success': {'Precision': 0.9633699633699634, 'Recall': 0.9813432835820896, 'FScore': 0.9722735674676525, 'Support': 268}, 'fail': {'Precision': 0.7058823529411765, 'Recall': 0.5454545454545454, 'FScore': 0.6153846153846153, 'Support': 22}}, 'Fold_3': {'success': {'Precision': 0.9636363636363636, 'Recall': 0.9888059701492538, 'FScore': 0.9760589318600369, 'Support': 268}, 'fail': {'Precision': 0.8, 'Recall': 0.5454545454545454, 'FScore': 0.6486486486486486, 'Support': 22}}, 'Fold_4': {'success': {'Precision': 0.9664179104477612, 'Recall': 0.9736842105263158, 'FScore': 0.9700374531835205, 'Support': 266}, 'fail': {'Precision': 0.6666666666666666, 'Recall': 0.6086956521739131, 'FScore': 0.6363636363636365, 'Support': 23}}}, 'SVM_RES': {'Fold_0': {'success': {'Precision': 0.9659090909090909, 'Recall': 0.9514925373134329, 'FScore': 0.9586466165413534, 'Support': 268}, 'fail': {'Precision': 0.5, 'Recall': 0.5909090909090909, 'FScore': 0.5416666666666667, 'Support': 22}}, 'Fold_1': {'success': {'Precision': 0.9766536964980544, 'Recall': 0.9365671641791045, 'FScore': 0.9561904761904763, 'Support': 268}, 'fail': {'Precision': 0.48484848484848486, 'Recall': 0.7272727272727273, 'FScore': 0.5818181818181818, 'Support': 22}}, 'Fold_2': {'success': {'Precision': 0.9844961240310077, 'Recall': 0.9477611940298507, 'FScore': 0.9657794676806083, 'Support': 268}, 'fail': {'Precision': 0.5625, 'Recall': 0.8181818181818182, 'FScore': 0.6666666666666666, 'Support': 22}}, 'Fold_3': {'success': {'Precision': 0.9771863117870723, 'Recall': 0.9589552238805971, 'FScore': 0.967984934086629, 'Support': 268}, 'fail': {'Precision': 0.5925925925925926, 'Recall': 0.7272727272727273, 'FScore': 0.6530612244897959, 'Support': 22}}, 'Fold_4': {'success': {'Precision': 0.9803921568627451, 'Recall': 0.9398496240601504, 'FScore': 0.9596928982725527, 'Support': 266}, 'fail': {'Precision': 0.5294117647058824, 'Recall': 0.782608695652174, 'FScore': 0.631578947368421, 'Support': 23}}}}\n"
          ]
        }
      ]
    },
    {
      "cell_type": "code",
      "source": [
        "label_encoder = LabelEncoder()\n",
        "label_encoder = label_encoder.fit(ym)\n",
        "y_enc = label_encoder.transform(ym)\n",
        "\n",
        "model = xgb.XGBClassifier(early_stopping_rounds=2)\n",
        "clf_xgb = make_pipeline(model)\n",
        "cm=np.zeros((5,len(labels),len(labels)))\n",
        "results_m[\"XGB\"]={}\n",
        "for i, (train_index, test_index) in enumerate(skf.split(X, y)):\n",
        "  x_train = X[train_index]\n",
        "  y_train = y_enc[train_index]\n",
        "  x_test = X[test_index]\n",
        "  y_test = y_enc[test_index]\n",
        "  clf_xgb.fit(x_train, y_train, xgbclassifier__eval_set=[(x_test, y_test)])\n",
        "  y_pred = clf_xgb.predict(x_test)\n",
        "  y_pred = label_encoder.inverse_transform(y_pred)\n",
        "  y_test = label_encoder.inverse_transform(y_test)\n",
        "  precision, recall, fscore, support = precision_recall_fscore_support(y_test,y_pred, labels=labels)\n",
        "  fold = \"Fold_\"+str(i)\n",
        "  results_m[\"XGB\"][fold]={}\n",
        "  for j in range(len(labels)):\n",
        "    results_m[\"XGB\"][fold][labels[j]] = {\"Precision\":precision[j],\n",
        "                          \"Recall\":recall[j],\n",
        "                          \"FScore\":fscore[j],\n",
        "                          \"Support\":support[j]\n",
        "                                }\n",
        "  cm[i]=confusion_matrix(y_test, y_pred, labels=labels)\n",
        "\n",
        "cm=np.average(cm,axis=0)\n",
        "disp = ConfusionMatrixDisplay(confusion_matrix=cm, display_labels=labels)\n",
        "disp.plot()\n",
        "plt.show()\n",
        "print(results_m)\n",
        "recalls_m[\"XGB\"]=[]\n",
        "for key in results_m[\"XGB\"]:\n",
        "  recalls_m[\"XGB\"].append(results_m[\"XGB\"][key][\"fail\"][\"Recall\"])"
      ],
      "metadata": {
        "colab": {
          "base_uri": "https://localhost:8080/"
        },
        "outputId": "5ff50cd1-a650-4f3f-a899-db1ed2e16478",
        "id": "A4oiNQWcOTGj"
      },
      "execution_count": 242,
      "outputs": [
        {
          "output_type": "stream",
          "name": "stdout",
          "text": [
            "[0]\tvalidation_0-logloss:0.22684\n",
            "[1]\tvalidation_0-logloss:0.19082\n",
            "[2]\tvalidation_0-logloss:0.16479\n",
            "[3]\tvalidation_0-logloss:0.14919\n",
            "[4]\tvalidation_0-logloss:0.13781\n",
            "[5]\tvalidation_0-logloss:0.13145\n",
            "[6]\tvalidation_0-logloss:0.12796\n",
            "[7]\tvalidation_0-logloss:0.12616\n",
            "[8]\tvalidation_0-logloss:0.12322\n",
            "[9]\tvalidation_0-logloss:0.12187\n",
            "[10]\tvalidation_0-logloss:0.12272\n",
            "[11]\tvalidation_0-logloss:0.11854\n",
            "[12]\tvalidation_0-logloss:0.11910\n",
            "[13]\tvalidation_0-logloss:0.11667\n",
            "[14]\tvalidation_0-logloss:0.11538\n",
            "[15]\tvalidation_0-logloss:0.11643\n",
            "[16]\tvalidation_0-logloss:0.11832\n",
            "[0]\tvalidation_0-logloss:0.21875\n",
            "[1]\tvalidation_0-logloss:0.18390\n",
            "[2]\tvalidation_0-logloss:0.16297\n",
            "[3]\tvalidation_0-logloss:0.14623\n",
            "[4]\tvalidation_0-logloss:0.13357\n",
            "[5]\tvalidation_0-logloss:0.12450\n",
            "[6]\tvalidation_0-logloss:0.11860\n",
            "[7]\tvalidation_0-logloss:0.11347\n",
            "[8]\tvalidation_0-logloss:0.11142\n",
            "[9]\tvalidation_0-logloss:0.11190\n",
            "[10]\tvalidation_0-logloss:0.11110\n",
            "[11]\tvalidation_0-logloss:0.11039\n",
            "[12]\tvalidation_0-logloss:0.10819\n",
            "[13]\tvalidation_0-logloss:0.10725\n",
            "[14]\tvalidation_0-logloss:0.10729\n",
            "[15]\tvalidation_0-logloss:0.10653\n",
            "[16]\tvalidation_0-logloss:0.10669\n",
            "[17]\tvalidation_0-logloss:0.10761\n",
            "[0]\tvalidation_0-logloss:0.22349\n",
            "[1]\tvalidation_0-logloss:0.18794\n",
            "[2]\tvalidation_0-logloss:0.16756\n",
            "[3]\tvalidation_0-logloss:0.15243\n",
            "[4]\tvalidation_0-logloss:0.14101\n",
            "[5]\tvalidation_0-logloss:0.13487\n",
            "[6]\tvalidation_0-logloss:0.13159\n",
            "[7]\tvalidation_0-logloss:0.12664\n",
            "[8]\tvalidation_0-logloss:0.12768\n",
            "[0]\tvalidation_0-logloss:0.22051\n",
            "[1]\tvalidation_0-logloss:0.18417\n",
            "[2]\tvalidation_0-logloss:0.15713\n",
            "[3]\tvalidation_0-logloss:0.13967\n",
            "[4]\tvalidation_0-logloss:0.12838\n",
            "[5]\tvalidation_0-logloss:0.12168\n",
            "[6]\tvalidation_0-logloss:0.11565\n",
            "[7]\tvalidation_0-logloss:0.11234\n",
            "[8]\tvalidation_0-logloss:0.11141\n",
            "[9]\tvalidation_0-logloss:0.11073\n",
            "[10]\tvalidation_0-logloss:0.11151\n",
            "[11]\tvalidation_0-logloss:0.11135\n",
            "[0]\tvalidation_0-logloss:0.21390\n",
            "[1]\tvalidation_0-logloss:0.17032\n",
            "[2]\tvalidation_0-logloss:0.14189\n",
            "[3]\tvalidation_0-logloss:0.12511\n",
            "[4]\tvalidation_0-logloss:0.10969\n",
            "[5]\tvalidation_0-logloss:0.10047\n",
            "[6]\tvalidation_0-logloss:0.09540\n",
            "[7]\tvalidation_0-logloss:0.09085\n",
            "[8]\tvalidation_0-logloss:0.08878\n",
            "[9]\tvalidation_0-logloss:0.08846\n",
            "[10]\tvalidation_0-logloss:0.08802\n",
            "[11]\tvalidation_0-logloss:0.08707\n",
            "[12]\tvalidation_0-logloss:0.08669\n",
            "[13]\tvalidation_0-logloss:0.08473\n",
            "[14]\tvalidation_0-logloss:0.08265\n",
            "[15]\tvalidation_0-logloss:0.08205\n",
            "[16]\tvalidation_0-logloss:0.08113\n",
            "[17]\tvalidation_0-logloss:0.08034\n",
            "[18]\tvalidation_0-logloss:0.07993\n",
            "[19]\tvalidation_0-logloss:0.08143\n",
            "[20]\tvalidation_0-logloss:0.08059\n",
            "{'SVM': {'Fold_0': {'success': {'Precision': 0.96, 'Recall': 0.9850746268656716, 'FScore': 0.9723756906077348, 'Support': 268}, 'fail': {'Precision': 0.7333333333333333, 'Recall': 0.5, 'FScore': 0.5945945945945945, 'Support': 22}}, 'Fold_1': {'success': {'Precision': 0.9735849056603774, 'Recall': 0.9626865671641791, 'FScore': 0.9681050656660413, 'Support': 268}, 'fail': {'Precision': 0.6, 'Recall': 0.6818181818181818, 'FScore': 0.6382978723404256, 'Support': 22}}, 'Fold_2': {'success': {'Precision': 0.9633699633699634, 'Recall': 0.9813432835820896, 'FScore': 0.9722735674676525, 'Support': 268}, 'fail': {'Precision': 0.7058823529411765, 'Recall': 0.5454545454545454, 'FScore': 0.6153846153846153, 'Support': 22}}, 'Fold_3': {'success': {'Precision': 0.9636363636363636, 'Recall': 0.9888059701492538, 'FScore': 0.9760589318600369, 'Support': 268}, 'fail': {'Precision': 0.8, 'Recall': 0.5454545454545454, 'FScore': 0.6486486486486486, 'Support': 22}}, 'Fold_4': {'success': {'Precision': 0.9664179104477612, 'Recall': 0.9736842105263158, 'FScore': 0.9700374531835205, 'Support': 266}, 'fail': {'Precision': 0.6666666666666666, 'Recall': 0.6086956521739131, 'FScore': 0.6363636363636365, 'Support': 23}}}, 'SVM_RES': {'Fold_0': {'success': {'Precision': 0.9659090909090909, 'Recall': 0.9514925373134329, 'FScore': 0.9586466165413534, 'Support': 268}, 'fail': {'Precision': 0.5, 'Recall': 0.5909090909090909, 'FScore': 0.5416666666666667, 'Support': 22}}, 'Fold_1': {'success': {'Precision': 0.9766536964980544, 'Recall': 0.9365671641791045, 'FScore': 0.9561904761904763, 'Support': 268}, 'fail': {'Precision': 0.48484848484848486, 'Recall': 0.7272727272727273, 'FScore': 0.5818181818181818, 'Support': 22}}, 'Fold_2': {'success': {'Precision': 0.9844961240310077, 'Recall': 0.9477611940298507, 'FScore': 0.9657794676806083, 'Support': 268}, 'fail': {'Precision': 0.5625, 'Recall': 0.8181818181818182, 'FScore': 0.6666666666666666, 'Support': 22}}, 'Fold_3': {'success': {'Precision': 0.9771863117870723, 'Recall': 0.9589552238805971, 'FScore': 0.967984934086629, 'Support': 268}, 'fail': {'Precision': 0.5925925925925926, 'Recall': 0.7272727272727273, 'FScore': 0.6530612244897959, 'Support': 22}}, 'Fold_4': {'success': {'Precision': 0.9803921568627451, 'Recall': 0.9398496240601504, 'FScore': 0.9596928982725527, 'Support': 266}, 'fail': {'Precision': 0.5294117647058824, 'Recall': 0.782608695652174, 'FScore': 0.631578947368421, 'Support': 23}}}, 'XGB': {'Fold_0': {'success': {'Precision': 0.9671532846715328, 'Recall': 0.9888059701492538, 'FScore': 0.977859778597786, 'Support': 268}, 'fail': {'Precision': 0.8125, 'Recall': 0.5909090909090909, 'FScore': 0.6842105263157896, 'Support': 22}}, 'Fold_1': {'success': {'Precision': 0.9814814814814815, 'Recall': 0.9888059701492538, 'FScore': 0.9851301115241636, 'Support': 268}, 'fail': {'Precision': 0.85, 'Recall': 0.7727272727272727, 'FScore': 0.8095238095238095, 'Support': 22}}, 'Fold_2': {'success': {'Precision': 0.9672727272727273, 'Recall': 0.9925373134328358, 'FScore': 0.9797421731123389, 'Support': 268}, 'fail': {'Precision': 0.8666666666666667, 'Recall': 0.5909090909090909, 'FScore': 0.7027027027027029, 'Support': 22}}, 'Fold_3': {'success': {'Precision': 0.9744525547445255, 'Recall': 0.996268656716418, 'FScore': 0.985239852398524, 'Support': 268}, 'fail': {'Precision': 0.9375, 'Recall': 0.6818181818181818, 'FScore': 0.7894736842105263, 'Support': 22}}, 'Fold_4': {'success': {'Precision': 0.9775280898876404, 'Recall': 0.981203007518797, 'FScore': 0.9793621013133208, 'Support': 266}, 'fail': {'Precision': 0.7727272727272727, 'Recall': 0.7391304347826086, 'FScore': 0.7555555555555555, 'Support': 23}}}}\n"
          ]
        }
      ]
    },
    {
      "cell_type": "code",
      "source": [
        "label_encoder_three = LabelEncoder()\n",
        "label_encoder_three = label_encoder_three.fit(y)\n",
        "y_enc_three = label_encoder_three.transform(y)\n",
        "label_encoder_two = LabelEncoder()\n",
        "label_encoder_two = label_encoder_two.fit(ym)\n",
        "y_enc_two = label_encoder_two.transform(ym)\n",
        "\n",
        "model = xgb.XGBClassifier(early_stopping_rounds=2)\n",
        "clf_xgb = make_pipeline(model)\n",
        "cm=np.zeros((5,len(labels),len(labels)))\n",
        "results_m[\"XGB_res\"]={}\n",
        "for i, (train_index, test_index) in enumerate(skf.split(X, y)):\n",
        "  x_train = X[train_index]\n",
        "  y_train = y_enc_three[train_index]\n",
        "  x_test = X[test_index]\n",
        "  y_test = y_enc_two[test_index]\n",
        "  x_res, y_res = resampler.fit_resample(x_train,y_train)\n",
        "  y_res = label_encoder_three.inverse_transform(y_res)\n",
        "  y_res[y_res==\"low\"]=\"success\"\n",
        "  y_res=label_encoder_two.transform(y_res)\n",
        "  clf_xgb.fit(x_res, y_res, xgbclassifier__eval_set=[(x_test, y_test)])\n",
        "  y_pred = clf_xgb.predict(x_test)\n",
        "  y_pred = label_encoder.inverse_transform(y_pred)\n",
        "  y_test = label_encoder.inverse_transform(y_test)\n",
        "  precision, recall, fscore, support = precision_recall_fscore_support(y_test,y_pred, labels=labels)\n",
        "  fold = \"Fold_\"+str(i)\n",
        "  results_m[\"XGB_res\"][fold]={}\n",
        "  for j in range(len(labels)):\n",
        "    results_m[\"XGB_res\"][fold][labels[j]] = {\"Precision\":precision[j],\n",
        "                          \"Recall\":recall[j],\n",
        "                          \"FScore\":fscore[j],\n",
        "                          \"Support\":support[j]\n",
        "                                }\n",
        "  cm[i]=confusion_matrix(y_test, y_pred, labels=labels)\n",
        "\n",
        "cm=np.average(cm,axis=0)\n",
        "disp = ConfusionMatrixDisplay(confusion_matrix=cm, display_labels=labels)\n",
        "disp.plot()\n",
        "plt.show()\n",
        "print(results_m)\n",
        "recalls_m[\"XGB_res\"]=[]\n",
        "for key in results_m[\"XGB_res\"]:\n",
        "  recalls_m[\"XGB_res\"].append(results_m[\"XGB\"][key][\"fail\"][\"Recall\"])"
      ],
      "metadata": {
        "id": "pLa1FjYoYDX1",
        "outputId": "a234002b-6963-4527-9fbd-344bb097e7fd",
        "colab": {
          "base_uri": "https://localhost:8080/"
        }
      },
      "execution_count": 252,
      "outputs": [
        {
          "output_type": "stream",
          "name": "stdout",
          "text": [
            "[0]\tvalidation_0-logloss:0.34371\n",
            "[1]\tvalidation_0-logloss:0.27030\n",
            "[2]\tvalidation_0-logloss:0.22358\n",
            "[3]\tvalidation_0-logloss:0.19087\n",
            "[4]\tvalidation_0-logloss:0.16439\n",
            "[5]\tvalidation_0-logloss:0.14250\n",
            "[6]\tvalidation_0-logloss:0.13360\n",
            "[7]\tvalidation_0-logloss:0.12513\n",
            "[8]\tvalidation_0-logloss:0.11938\n",
            "[9]\tvalidation_0-logloss:0.11182\n",
            "[10]\tvalidation_0-logloss:0.11360\n",
            "[0]\tvalidation_0-logloss:0.36681\n",
            "[1]\tvalidation_0-logloss:0.29183\n",
            "[2]\tvalidation_0-logloss:0.25324\n",
            "[3]\tvalidation_0-logloss:0.22337\n",
            "[4]\tvalidation_0-logloss:0.20329\n",
            "[5]\tvalidation_0-logloss:0.18263\n"
          ]
        },
        {
          "output_type": "stream",
          "name": "stderr",
          "text": [
            "/usr/local/lib/python3.10/dist-packages/sklearn/metrics/_classification.py:1344: UndefinedMetricWarning: Precision and F-score are ill-defined and being set to 0.0 in labels with no predicted samples. Use `zero_division` parameter to control this behavior.\n",
            "  _warn_prf(average, modifier, msg_start, len(result))\n",
            "/usr/local/lib/python3.10/dist-packages/sklearn/metrics/_classification.py:1344: UndefinedMetricWarning: Recall and F-score are ill-defined and being set to 0.0 in labels with no true samples. Use `zero_division` parameter to control this behavior.\n",
            "  _warn_prf(average, modifier, msg_start, len(result))\n"
          ]
        },
        {
          "output_type": "stream",
          "name": "stdout",
          "text": [
            "[6]\tvalidation_0-logloss:0.16320\n",
            "[7]\tvalidation_0-logloss:0.14720\n",
            "[8]\tvalidation_0-logloss:0.13652\n",
            "[9]\tvalidation_0-logloss:0.13086\n",
            "[10]\tvalidation_0-logloss:0.12412\n",
            "[11]\tvalidation_0-logloss:0.11995\n",
            "[12]\tvalidation_0-logloss:0.11765\n",
            "[13]\tvalidation_0-logloss:0.11807\n",
            "[14]\tvalidation_0-logloss:0.11556\n",
            "[15]\tvalidation_0-logloss:0.11332\n",
            "[16]\tvalidation_0-logloss:0.11407\n",
            "[17]\tvalidation_0-logloss:0.11515\n",
            "[0]\tvalidation_0-logloss:0.35321\n",
            "[1]\tvalidation_0-logloss:0.28794\n",
            "[2]\tvalidation_0-logloss:0.24448\n",
            "[3]\tvalidation_0-logloss:0.21168\n",
            "[4]\tvalidation_0-logloss:0.18675\n",
            "[5]\tvalidation_0-logloss:0.17037\n",
            "[6]\tvalidation_0-logloss:0.15910\n"
          ]
        },
        {
          "output_type": "stream",
          "name": "stderr",
          "text": [
            "/usr/local/lib/python3.10/dist-packages/sklearn/metrics/_classification.py:1344: UndefinedMetricWarning: Precision and F-score are ill-defined and being set to 0.0 in labels with no predicted samples. Use `zero_division` parameter to control this behavior.\n",
            "  _warn_prf(average, modifier, msg_start, len(result))\n",
            "/usr/local/lib/python3.10/dist-packages/sklearn/metrics/_classification.py:1344: UndefinedMetricWarning: Recall and F-score are ill-defined and being set to 0.0 in labels with no true samples. Use `zero_division` parameter to control this behavior.\n",
            "  _warn_prf(average, modifier, msg_start, len(result))\n"
          ]
        },
        {
          "output_type": "stream",
          "name": "stdout",
          "text": [
            "[7]\tvalidation_0-logloss:0.14863\n",
            "[8]\tvalidation_0-logloss:0.14231\n",
            "[9]\tvalidation_0-logloss:0.13722\n",
            "[10]\tvalidation_0-logloss:0.13391\n",
            "[11]\tvalidation_0-logloss:0.13180\n",
            "[12]\tvalidation_0-logloss:0.12847\n",
            "[13]\tvalidation_0-logloss:0.12821\n",
            "[14]\tvalidation_0-logloss:0.12853\n",
            "[15]\tvalidation_0-logloss:0.12729\n",
            "[16]\tvalidation_0-logloss:0.12910\n",
            "[17]\tvalidation_0-logloss:0.12972\n",
            "[0]\tvalidation_0-logloss:0.34767\n",
            "[1]\tvalidation_0-logloss:0.27988\n",
            "[2]\tvalidation_0-logloss:0.23062\n",
            "[3]\tvalidation_0-logloss:0.19728\n",
            "[4]\tvalidation_0-logloss:0.17163\n",
            "[5]\tvalidation_0-logloss:0.15802\n",
            "[6]\tvalidation_0-logloss:0.14820\n",
            "[7]\tvalidation_0-logloss:0.14268\n"
          ]
        },
        {
          "output_type": "stream",
          "name": "stderr",
          "text": [
            "/usr/local/lib/python3.10/dist-packages/sklearn/metrics/_classification.py:1344: UndefinedMetricWarning: Precision and F-score are ill-defined and being set to 0.0 in labels with no predicted samples. Use `zero_division` parameter to control this behavior.\n",
            "  _warn_prf(average, modifier, msg_start, len(result))\n",
            "/usr/local/lib/python3.10/dist-packages/sklearn/metrics/_classification.py:1344: UndefinedMetricWarning: Recall and F-score are ill-defined and being set to 0.0 in labels with no true samples. Use `zero_division` parameter to control this behavior.\n",
            "  _warn_prf(average, modifier, msg_start, len(result))\n"
          ]
        },
        {
          "output_type": "stream",
          "name": "stdout",
          "text": [
            "[8]\tvalidation_0-logloss:0.13868\n",
            "[9]\tvalidation_0-logloss:0.13651\n",
            "[10]\tvalidation_0-logloss:0.12915\n",
            "[11]\tvalidation_0-logloss:0.12488\n",
            "[12]\tvalidation_0-logloss:0.12439\n",
            "[13]\tvalidation_0-logloss:0.12512\n",
            "[14]\tvalidation_0-logloss:0.12595\n",
            "[0]\tvalidation_0-logloss:0.36433\n",
            "[1]\tvalidation_0-logloss:0.29169\n",
            "[2]\tvalidation_0-logloss:0.23668\n",
            "[3]\tvalidation_0-logloss:0.20055\n",
            "[4]\tvalidation_0-logloss:0.17183\n",
            "[5]\tvalidation_0-logloss:0.14922\n",
            "[6]\tvalidation_0-logloss:0.13212\n"
          ]
        },
        {
          "output_type": "stream",
          "name": "stderr",
          "text": [
            "/usr/local/lib/python3.10/dist-packages/sklearn/metrics/_classification.py:1344: UndefinedMetricWarning: Precision and F-score are ill-defined and being set to 0.0 in labels with no predicted samples. Use `zero_division` parameter to control this behavior.\n",
            "  _warn_prf(average, modifier, msg_start, len(result))\n",
            "/usr/local/lib/python3.10/dist-packages/sklearn/metrics/_classification.py:1344: UndefinedMetricWarning: Recall and F-score are ill-defined and being set to 0.0 in labels with no true samples. Use `zero_division` parameter to control this behavior.\n",
            "  _warn_prf(average, modifier, msg_start, len(result))\n"
          ]
        },
        {
          "output_type": "stream",
          "name": "stdout",
          "text": [
            "[7]\tvalidation_0-logloss:0.11740\n",
            "[8]\tvalidation_0-logloss:0.10722\n",
            "[9]\tvalidation_0-logloss:0.10261\n",
            "[10]\tvalidation_0-logloss:0.09677\n",
            "[11]\tvalidation_0-logloss:0.09201\n",
            "[12]\tvalidation_0-logloss:0.09033\n",
            "[13]\tvalidation_0-logloss:0.09047\n",
            "[14]\tvalidation_0-logloss:0.08975\n",
            "[15]\tvalidation_0-logloss:0.08982\n",
            "[16]\tvalidation_0-logloss:0.08891\n",
            "[17]\tvalidation_0-logloss:0.08847\n",
            "[18]\tvalidation_0-logloss:0.08690\n",
            "[19]\tvalidation_0-logloss:0.08782\n",
            "[20]\tvalidation_0-logloss:0.08952\n",
            "{'SVM': {'Fold_0': {'success': {'Precision': 0.96, 'Recall': 0.9850746268656716, 'FScore': 0.9723756906077348, 'Support': 268}, 'fail': {'Precision': 0.7333333333333333, 'Recall': 0.5, 'FScore': 0.5945945945945945, 'Support': 22}}, 'Fold_1': {'success': {'Precision': 0.9735849056603774, 'Recall': 0.9626865671641791, 'FScore': 0.9681050656660413, 'Support': 268}, 'fail': {'Precision': 0.6, 'Recall': 0.6818181818181818, 'FScore': 0.6382978723404256, 'Support': 22}}, 'Fold_2': {'success': {'Precision': 0.9633699633699634, 'Recall': 0.9813432835820896, 'FScore': 0.9722735674676525, 'Support': 268}, 'fail': {'Precision': 0.7058823529411765, 'Recall': 0.5454545454545454, 'FScore': 0.6153846153846153, 'Support': 22}}, 'Fold_3': {'success': {'Precision': 0.9636363636363636, 'Recall': 0.9888059701492538, 'FScore': 0.9760589318600369, 'Support': 268}, 'fail': {'Precision': 0.8, 'Recall': 0.5454545454545454, 'FScore': 0.6486486486486486, 'Support': 22}}, 'Fold_4': {'success': {'Precision': 0.9664179104477612, 'Recall': 0.9736842105263158, 'FScore': 0.9700374531835205, 'Support': 266}, 'fail': {'Precision': 0.6666666666666666, 'Recall': 0.6086956521739131, 'FScore': 0.6363636363636365, 'Support': 23}}}, 'SVM_RES': {'Fold_0': {'success': {'Precision': 0.9659090909090909, 'Recall': 0.9514925373134329, 'FScore': 0.9586466165413534, 'Support': 268}, 'fail': {'Precision': 0.5, 'Recall': 0.5909090909090909, 'FScore': 0.5416666666666667, 'Support': 22}}, 'Fold_1': {'success': {'Precision': 0.9766536964980544, 'Recall': 0.9365671641791045, 'FScore': 0.9561904761904763, 'Support': 268}, 'fail': {'Precision': 0.48484848484848486, 'Recall': 0.7272727272727273, 'FScore': 0.5818181818181818, 'Support': 22}}, 'Fold_2': {'success': {'Precision': 0.9844961240310077, 'Recall': 0.9477611940298507, 'FScore': 0.9657794676806083, 'Support': 268}, 'fail': {'Precision': 0.5625, 'Recall': 0.8181818181818182, 'FScore': 0.6666666666666666, 'Support': 22}}, 'Fold_3': {'success': {'Precision': 0.9771863117870723, 'Recall': 0.9589552238805971, 'FScore': 0.967984934086629, 'Support': 268}, 'fail': {'Precision': 0.5925925925925926, 'Recall': 0.7272727272727273, 'FScore': 0.6530612244897959, 'Support': 22}}, 'Fold_4': {'success': {'Precision': 0.9803921568627451, 'Recall': 0.9398496240601504, 'FScore': 0.9596928982725527, 'Support': 266}, 'fail': {'Precision': 0.5294117647058824, 'Recall': 0.782608695652174, 'FScore': 0.631578947368421, 'Support': 23}}}, 'XGB': {'Fold_0': {'success': {'Precision': 0.0, 'Recall': 0.0, 'FScore': 0.0, 'Support': 0}, 'fail': {'Precision': 0.6818181818181818, 'Recall': 0.6818181818181818, 'FScore': 0.6818181818181818, 'Support': 22}}, 'Fold_1': {'success': {'Precision': 0.0, 'Recall': 0.0, 'FScore': 0.0, 'Support': 0}, 'fail': {'Precision': 0.75, 'Recall': 0.8181818181818182, 'FScore': 0.7826086956521738, 'Support': 22}}, 'Fold_2': {'success': {'Precision': 0.0, 'Recall': 0.0, 'FScore': 0.0, 'Support': 0}, 'fail': {'Precision': 0.8333333333333334, 'Recall': 0.6818181818181818, 'FScore': 0.7499999999999999, 'Support': 22}}, 'Fold_3': {'success': {'Precision': 0.0, 'Recall': 0.0, 'FScore': 0.0, 'Support': 0}, 'fail': {'Precision': 0.7619047619047619, 'Recall': 0.7272727272727273, 'FScore': 0.7441860465116279, 'Support': 22}}, 'Fold_4': {'success': {'Precision': 0.0, 'Recall': 0.0, 'FScore': 0.0, 'Support': 0}, 'fail': {'Precision': 0.84, 'Recall': 0.9130434782608695, 'FScore': 0.8749999999999999, 'Support': 23}}}, 'XGB_res': {'Fold_0': {'success': {'Precision': 0.0, 'Recall': 0.0, 'FScore': 0.0, 'Support': 0}, 'fail': {'Precision': 0.6818181818181818, 'Recall': 0.6818181818181818, 'FScore': 0.6818181818181818, 'Support': 22}}, 'Fold_1': {'success': {'Precision': 0.0, 'Recall': 0.0, 'FScore': 0.0, 'Support': 0}, 'fail': {'Precision': 0.75, 'Recall': 0.8181818181818182, 'FScore': 0.7826086956521738, 'Support': 22}}, 'Fold_2': {'success': {'Precision': 0.0, 'Recall': 0.0, 'FScore': 0.0, 'Support': 0}, 'fail': {'Precision': 0.8333333333333334, 'Recall': 0.6818181818181818, 'FScore': 0.7499999999999999, 'Support': 22}}, 'Fold_3': {'success': {'Precision': 0.0, 'Recall': 0.0, 'FScore': 0.0, 'Support': 0}, 'fail': {'Precision': 0.7619047619047619, 'Recall': 0.7272727272727273, 'FScore': 0.7441860465116279, 'Support': 22}}, 'Fold_4': {'success': {'Precision': 0.0, 'Recall': 0.0, 'FScore': 0.0, 'Support': 0}, 'fail': {'Precision': 0.84, 'Recall': 0.9130434782608695, 'FScore': 0.8749999999999999, 'Support': 23}}}}\n"
          ]
        },
        {
          "output_type": "stream",
          "name": "stderr",
          "text": [
            "/usr/local/lib/python3.10/dist-packages/sklearn/metrics/_classification.py:1344: UndefinedMetricWarning: Precision and F-score are ill-defined and being set to 0.0 in labels with no predicted samples. Use `zero_division` parameter to control this behavior.\n",
            "  _warn_prf(average, modifier, msg_start, len(result))\n",
            "/usr/local/lib/python3.10/dist-packages/sklearn/metrics/_classification.py:1344: UndefinedMetricWarning: Recall and F-score are ill-defined and being set to 0.0 in labels with no true samples. Use `zero_division` parameter to control this behavior.\n",
            "  _warn_prf(average, modifier, msg_start, len(result))\n"
          ]
        }
      ]
    },
    {
      "cell_type": "code",
      "source": [
        "rec =[]\n",
        "titles = []\n",
        "for key, value in recalls.items():\n",
        "  titles.append(key)\n",
        "  titles.append(key+\"merged\")\n",
        "  rec.append(value)\n",
        "  rec.append(recalls_m[key])\n"
      ],
      "metadata": {
        "id": "A7AqugR5OTGj"
      },
      "execution_count": 254,
      "outputs": []
    },
    {
      "cell_type": "code",
      "source": [
        "plt.boxplot(rec,labels=titles)\n",
        "plt.xticks(rotation=90)\n",
        "plt.title(\"Recall for Fail class\")"
      ],
      "metadata": {
        "colab": {
          "base_uri": "https://localhost:8080/",
          "height": 690
        },
        "id": "HpNC4qEqRmsn",
        "outputId": "74ea051d-6091-4605-a6c1-81404c12fd02"
      },
      "execution_count": 255,
      "outputs": [
        {
          "output_type": "execute_result",
          "data": {
            "text/plain": [
              "(array([1, 2, 3, 4, 5, 6, 7, 8]),\n",
              " [Text(1, 0, 'SVM'),\n",
              "  Text(2, 0, 'SVMmerged'),\n",
              "  Text(3, 0, 'SVM_RES'),\n",
              "  Text(4, 0, 'SVM_RESmerged'),\n",
              "  Text(5, 0, 'XGB'),\n",
              "  Text(6, 0, 'XGBmerged'),\n",
              "  Text(7, 0, 'XGB_res'),\n",
              "  Text(8, 0, 'XGB_resmerged')])"
            ]
          },
          "metadata": {},
          "execution_count": 255
        },
        {
          "output_type": "display_data",
          "data": {
            "text/plain": [
              "<Figure size 640x480 with 1 Axes>"
            ],
            "image/png": "[encoded data removed]"
          },
          "metadata": {}
        }
      ]
    },
    {
      "cell_type": "markdown",
      "source": [
        "Considering the results the algorithm XGB without merging the classes is considered the most reliable, and is therefore trained with the whole dataset and ran on the test dataset"
      ],
      "metadata": {
        "id": "xhrPs7Y2dpxa"
      }
    },
    {
      "cell_type": "code",
      "source": [
        "df = pd.read_csv(dataset_path+\"/test_set_data_science.tsv\", delimiter=\"\\t\")"
      ],
      "metadata": {
        "id": "qFLmCDf3eJ7l"
      },
      "execution_count": 256,
      "outputs": []
    }
  ]
}